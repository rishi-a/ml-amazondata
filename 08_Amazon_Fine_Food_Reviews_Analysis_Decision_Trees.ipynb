{
 "cells": [
  {
   "cell_type": "markdown",
   "metadata": {
    "colab_type": "text",
    "id": "IXmtUCbYiWM3"
   },
   "source": [
    "# Amazon Fine Food Reviews Analysis\n",
    "\n",
    "\n",
    "Data Source: https://www.kaggle.com/snap/amazon-fine-food-reviews <br>\n",
    "\n",
    "EDA: https://nycdatascience.com/blog/student-works/amazon-fine-foods-visualization/\n",
    "\n",
    "\n",
    "The Amazon Fine Food Reviews dataset consists of reviews of fine foods from Amazon.<br>\n",
    "\n",
    "Number of reviews: 568,454<br>\n",
    "Number of users: 256,059<br>\n",
    "Number of products: 74,258<br>\n",
    "Timespan: Oct 1999 - Oct 2012<br>\n",
    "Number of Attributes/Columns in data: 10 \n",
    "\n",
    "Attribute Information:\n",
    "\n",
    "1. Id\n",
    "2. ProductId - unique identifier for the product\n",
    "3. UserId - unqiue identifier for the user\n",
    "4. ProfileName\n",
    "5. HelpfulnessNumerator - number of users who found the review helpful\n",
    "6. HelpfulnessDenominator - number of users who indicated whether they found the review helpful or not\n",
    "7. Score - rating between 1 and 5\n",
    "8. Time - timestamp for the review\n",
    "9. Summary - brief summary of the review\n",
    "10. Text - text of the review\n",
    "\n",
    "\n",
    "#### Objective:\n",
    "Given a review, determine whether the review is positive (rating of 4 or 5) or negative (rating of 1 or 2).\n",
    "\n",
    "<br>\n",
    "[Q] How to determine if a review is positive or negative?<br>\n",
    "<br> \n",
    "[Ans] We could use Score/Rating. A rating of 4 or 5 can be cosnidered as a positive review. A rating of 1 or 2 can be considered as negative one. A review of rating 3 is considered nuetral and such reviews are ignored from our analysis. This is an approximate and proxy way of determining the polarity (positivity/negativity) of a review.\n",
    "\n",
    "\n"
   ]
  },
  {
   "cell_type": "markdown",
   "metadata": {
    "colab_type": "text",
    "id": "syeYHDR_iWM7"
   },
   "source": [
    "# [1]. Reading Data"
   ]
  },
  {
   "cell_type": "markdown",
   "metadata": {
    "colab_type": "text",
    "id": "D_eZrQC0iWM9"
   },
   "source": [
    "## [1.1] Loading the data\n",
    "\n",
    "The dataset is available in two forms\n",
    "1. .csv file\n",
    "2. SQLite Database\n",
    "\n",
    "In order to load the data, We have used the SQLITE dataset as it is easier to query the data and visualise the data efficiently.\n",
    "<br> \n",
    "\n",
    "Here as we only want to get the global sentiment of the recommendations (positive or negative), we will purposefully ignore all Scores equal to 3. If the score is above 3, then the recommendation wil be set to \"positive\". Otherwise, it will be set to \"negative\"."
   ]
  },
  {
   "cell_type": "code",
   "execution_count": 1,
   "metadata": {
    "colab": {},
    "colab_type": "code",
    "id": "53fLFqf8iWNA"
   },
   "outputs": [],
   "source": [
    "%matplotlib inline\n",
    "import warnings\n",
    "warnings.filterwarnings(\"ignore\")\n",
    "\n",
    "\n",
    "import sqlite3\n",
    "import pandas as pd\n",
    "import numpy as np\n",
    "import nltk\n",
    "import string\n",
    "import matplotlib.pyplot as plt\n",
    "import seaborn as sns\n",
    "from sklearn.feature_extraction.text import TfidfTransformer\n",
    "from sklearn.feature_extraction.text import TfidfVectorizer\n",
    "\n",
    "from sklearn.feature_extraction.text import CountVectorizer\n",
    "from sklearn.metrics import confusion_matrix\n",
    "from sklearn import metrics\n",
    "from sklearn.metrics import roc_curve, auc\n",
    "from nltk.stem.porter import PorterStemmer\n",
    "\n",
    "import re\n",
    "# Tutorial about Python regular expressions: https://pymotw.com/2/re/\n",
    "import string\n",
    "from nltk.corpus import stopwords\n",
    "from nltk.stem import PorterStemmer\n",
    "from nltk.stem.wordnet import WordNetLemmatizer\n",
    "\n",
    "from gensim.models import Word2Vec\n",
    "from gensim.models import KeyedVectors\n",
    "import pickle\n",
    "\n",
    "from tqdm import tqdm\n",
    "import os"
   ]
  },
  {
   "cell_type": "code",
   "execution_count": 2,
   "metadata": {
    "colab": {},
    "colab_type": "code",
    "id": "j3kshrC-iWNI",
    "outputId": "07826916-2c3f-4a0a-e928-ddbc6d567a11"
   },
   "outputs": [
    {
     "name": "stdout",
     "output_type": "stream",
     "text": [
      "Number of data points in our data (100000, 10)\n"
     ]
    },
    {
     "data": {
      "text/html": [
       "<div>\n",
       "<style scoped>\n",
       "    .dataframe tbody tr th:only-of-type {\n",
       "        vertical-align: middle;\n",
       "    }\n",
       "\n",
       "    .dataframe tbody tr th {\n",
       "        vertical-align: top;\n",
       "    }\n",
       "\n",
       "    .dataframe thead th {\n",
       "        text-align: right;\n",
       "    }\n",
       "</style>\n",
       "<table border=\"1\" class=\"dataframe\">\n",
       "  <thead>\n",
       "    <tr style=\"text-align: right;\">\n",
       "      <th></th>\n",
       "      <th>Id</th>\n",
       "      <th>ProductId</th>\n",
       "      <th>UserId</th>\n",
       "      <th>ProfileName</th>\n",
       "      <th>HelpfulnessNumerator</th>\n",
       "      <th>HelpfulnessDenominator</th>\n",
       "      <th>Score</th>\n",
       "      <th>Time</th>\n",
       "      <th>Summary</th>\n",
       "      <th>Text</th>\n",
       "    </tr>\n",
       "  </thead>\n",
       "  <tbody>\n",
       "    <tr>\n",
       "      <th>0</th>\n",
       "      <td>1</td>\n",
       "      <td>B001E4KFG0</td>\n",
       "      <td>A3SGXH7AUHU8GW</td>\n",
       "      <td>delmartian</td>\n",
       "      <td>1</td>\n",
       "      <td>1</td>\n",
       "      <td>1</td>\n",
       "      <td>1303862400</td>\n",
       "      <td>Good Quality Dog Food</td>\n",
       "      <td>I have bought several of the Vitality canned d...</td>\n",
       "    </tr>\n",
       "    <tr>\n",
       "      <th>1</th>\n",
       "      <td>2</td>\n",
       "      <td>B00813GRG4</td>\n",
       "      <td>A1D87F6ZCVE5NK</td>\n",
       "      <td>dll pa</td>\n",
       "      <td>0</td>\n",
       "      <td>0</td>\n",
       "      <td>0</td>\n",
       "      <td>1346976000</td>\n",
       "      <td>Not as Advertised</td>\n",
       "      <td>Product arrived labeled as Jumbo Salted Peanut...</td>\n",
       "    </tr>\n",
       "    <tr>\n",
       "      <th>2</th>\n",
       "      <td>3</td>\n",
       "      <td>B000LQOCH0</td>\n",
       "      <td>ABXLMWJIXXAIN</td>\n",
       "      <td>Natalia Corres \"Natalia Corres\"</td>\n",
       "      <td>1</td>\n",
       "      <td>1</td>\n",
       "      <td>1</td>\n",
       "      <td>1219017600</td>\n",
       "      <td>\"Delight\" says it all</td>\n",
       "      <td>This is a confection that has been around a fe...</td>\n",
       "    </tr>\n",
       "  </tbody>\n",
       "</table>\n",
       "</div>"
      ],
      "text/plain": [
       "   Id   ProductId          UserId                      ProfileName  \\\n",
       "0   1  B001E4KFG0  A3SGXH7AUHU8GW                       delmartian   \n",
       "1   2  B00813GRG4  A1D87F6ZCVE5NK                           dll pa   \n",
       "2   3  B000LQOCH0   ABXLMWJIXXAIN  Natalia Corres \"Natalia Corres\"   \n",
       "\n",
       "   HelpfulnessNumerator  HelpfulnessDenominator  Score        Time  \\\n",
       "0                     1                       1      1  1303862400   \n",
       "1                     0                       0      0  1346976000   \n",
       "2                     1                       1      1  1219017600   \n",
       "\n",
       "                 Summary                                               Text  \n",
       "0  Good Quality Dog Food  I have bought several of the Vitality canned d...  \n",
       "1      Not as Advertised  Product arrived labeled as Jumbo Salted Peanut...  \n",
       "2  \"Delight\" says it all  This is a confection that has been around a fe...  "
      ]
     },
     "execution_count": 2,
     "metadata": {},
     "output_type": "execute_result"
    }
   ],
   "source": [
    "# using SQLite Table to read data.\n",
    "con = sqlite3.connect('database.sqlite') \n",
    "\n",
    "# filtering only positive and negative reviews i.e. \n",
    "# not taking into consideration those reviews with Score=3\n",
    "# SELECT * FROM Reviews WHERE Score != 3 LIMIT 500000, will give top 500000 data points\n",
    "# you can change the number to any other number based on your computing power\n",
    "\n",
    "# filtered_data = pd.read_sql_query(\"\"\" SELECT * FROM Reviews WHERE Score != 3 LIMIT 500000\"\"\", con) \n",
    "# for tsne assignment you can take 5k data points\n",
    "\n",
    "filtered_data = pd.read_sql_query(\"\"\" SELECT * FROM Reviews WHERE Score != 3 LIMIT 100000\"\"\", con) \n",
    "\n",
    "# Give reviews with Score>3 a positive rating(1), and reviews with a score<3 a negative rating(0).\n",
    "def partition(x):\n",
    "    if x < 3:\n",
    "        return 0\n",
    "    return 1\n",
    "\n",
    "#changing reviews with score less than 3 to be positive and vice-versa\n",
    "actualScore = filtered_data['Score']\n",
    "positiveNegative = actualScore.map(partition) \n",
    "filtered_data['Score'] = positiveNegative\n",
    "print(\"Number of data points in our data\", filtered_data.shape)\n",
    "filtered_data.head(3)"
   ]
  },
  {
   "cell_type": "code",
   "execution_count": 3,
   "metadata": {
    "colab": {},
    "colab_type": "code",
    "id": "-7Iy8yWfiWNR"
   },
   "outputs": [],
   "source": [
    "display = pd.read_sql_query(\"\"\"\n",
    "SELECT UserId, ProductId, ProfileName, Time, Score, Text, COUNT(*)\n",
    "FROM Reviews\n",
    "GROUP BY UserId\n",
    "HAVING COUNT(*)>1\n",
    "\"\"\", con)"
   ]
  },
  {
   "cell_type": "code",
   "execution_count": 4,
   "metadata": {
    "colab": {},
    "colab_type": "code",
    "id": "wuK6OYpOiWNV",
    "outputId": "5cb5082e-47b9-4d4b-cf90-fc6ffe0dceeb",
    "scrolled": true
   },
   "outputs": [
    {
     "name": "stdout",
     "output_type": "stream",
     "text": [
      "(80668, 7)\n"
     ]
    },
    {
     "data": {
      "text/html": [
       "<div>\n",
       "<style scoped>\n",
       "    .dataframe tbody tr th:only-of-type {\n",
       "        vertical-align: middle;\n",
       "    }\n",
       "\n",
       "    .dataframe tbody tr th {\n",
       "        vertical-align: top;\n",
       "    }\n",
       "\n",
       "    .dataframe thead th {\n",
       "        text-align: right;\n",
       "    }\n",
       "</style>\n",
       "<table border=\"1\" class=\"dataframe\">\n",
       "  <thead>\n",
       "    <tr style=\"text-align: right;\">\n",
       "      <th></th>\n",
       "      <th>UserId</th>\n",
       "      <th>ProductId</th>\n",
       "      <th>ProfileName</th>\n",
       "      <th>Time</th>\n",
       "      <th>Score</th>\n",
       "      <th>Text</th>\n",
       "      <th>COUNT(*)</th>\n",
       "    </tr>\n",
       "  </thead>\n",
       "  <tbody>\n",
       "    <tr>\n",
       "      <th>0</th>\n",
       "      <td>#oc-R115TNMSPFT9I7</td>\n",
       "      <td>B007Y59HVM</td>\n",
       "      <td>Breyton</td>\n",
       "      <td>1331510400</td>\n",
       "      <td>2</td>\n",
       "      <td>Overall its just OK when considering the price...</td>\n",
       "      <td>2</td>\n",
       "    </tr>\n",
       "    <tr>\n",
       "      <th>1</th>\n",
       "      <td>#oc-R11D9D7SHXIJB9</td>\n",
       "      <td>B005HG9ET0</td>\n",
       "      <td>Louis E. Emory \"hoppy\"</td>\n",
       "      <td>1342396800</td>\n",
       "      <td>5</td>\n",
       "      <td>My wife has recurring extreme muscle spasms, u...</td>\n",
       "      <td>3</td>\n",
       "    </tr>\n",
       "    <tr>\n",
       "      <th>2</th>\n",
       "      <td>#oc-R11DNU2NBKQ23Z</td>\n",
       "      <td>B007Y59HVM</td>\n",
       "      <td>Kim Cieszykowski</td>\n",
       "      <td>1348531200</td>\n",
       "      <td>1</td>\n",
       "      <td>This coffee is horrible and unfortunately not ...</td>\n",
       "      <td>2</td>\n",
       "    </tr>\n",
       "    <tr>\n",
       "      <th>3</th>\n",
       "      <td>#oc-R11O5J5ZVQE25C</td>\n",
       "      <td>B005HG9ET0</td>\n",
       "      <td>Penguin Chick</td>\n",
       "      <td>1346889600</td>\n",
       "      <td>5</td>\n",
       "      <td>This will be the bottle that you grab from the...</td>\n",
       "      <td>3</td>\n",
       "    </tr>\n",
       "    <tr>\n",
       "      <th>4</th>\n",
       "      <td>#oc-R12KPBODL2B5ZD</td>\n",
       "      <td>B007OSBE1U</td>\n",
       "      <td>Christopher P. Presta</td>\n",
       "      <td>1348617600</td>\n",
       "      <td>1</td>\n",
       "      <td>I didnt like this coffee. Instead of telling y...</td>\n",
       "      <td>2</td>\n",
       "    </tr>\n",
       "  </tbody>\n",
       "</table>\n",
       "</div>"
      ],
      "text/plain": [
       "               UserId   ProductId             ProfileName        Time  Score  \\\n",
       "0  #oc-R115TNMSPFT9I7  B007Y59HVM                 Breyton  1331510400      2   \n",
       "1  #oc-R11D9D7SHXIJB9  B005HG9ET0  Louis E. Emory \"hoppy\"  1342396800      5   \n",
       "2  #oc-R11DNU2NBKQ23Z  B007Y59HVM        Kim Cieszykowski  1348531200      1   \n",
       "3  #oc-R11O5J5ZVQE25C  B005HG9ET0           Penguin Chick  1346889600      5   \n",
       "4  #oc-R12KPBODL2B5ZD  B007OSBE1U   Christopher P. Presta  1348617600      1   \n",
       "\n",
       "                                                Text  COUNT(*)  \n",
       "0  Overall its just OK when considering the price...         2  \n",
       "1  My wife has recurring extreme muscle spasms, u...         3  \n",
       "2  This coffee is horrible and unfortunately not ...         2  \n",
       "3  This will be the bottle that you grab from the...         3  \n",
       "4  I didnt like this coffee. Instead of telling y...         2  "
      ]
     },
     "execution_count": 4,
     "metadata": {},
     "output_type": "execute_result"
    }
   ],
   "source": [
    "print(display.shape)\n",
    "display.head()"
   ]
  },
  {
   "cell_type": "code",
   "execution_count": 5,
   "metadata": {
    "colab": {},
    "colab_type": "code",
    "id": "OMKVKkH7iWNZ",
    "outputId": "acc9d31a-27a1-48a1-d2f2-ce1f2e511793"
   },
   "outputs": [
    {
     "data": {
      "text/html": [
       "<div>\n",
       "<style scoped>\n",
       "    .dataframe tbody tr th:only-of-type {\n",
       "        vertical-align: middle;\n",
       "    }\n",
       "\n",
       "    .dataframe tbody tr th {\n",
       "        vertical-align: top;\n",
       "    }\n",
       "\n",
       "    .dataframe thead th {\n",
       "        text-align: right;\n",
       "    }\n",
       "</style>\n",
       "<table border=\"1\" class=\"dataframe\">\n",
       "  <thead>\n",
       "    <tr style=\"text-align: right;\">\n",
       "      <th></th>\n",
       "      <th>UserId</th>\n",
       "      <th>ProductId</th>\n",
       "      <th>ProfileName</th>\n",
       "      <th>Time</th>\n",
       "      <th>Score</th>\n",
       "      <th>Text</th>\n",
       "      <th>COUNT(*)</th>\n",
       "    </tr>\n",
       "  </thead>\n",
       "  <tbody>\n",
       "    <tr>\n",
       "      <th>80638</th>\n",
       "      <td>AZY10LLTJ71NX</td>\n",
       "      <td>B006P7E5ZI</td>\n",
       "      <td>undertheshrine \"undertheshrine\"</td>\n",
       "      <td>1334707200</td>\n",
       "      <td>5</td>\n",
       "      <td>I was recommended to try green tea extract to ...</td>\n",
       "      <td>5</td>\n",
       "    </tr>\n",
       "  </tbody>\n",
       "</table>\n",
       "</div>"
      ],
      "text/plain": [
       "              UserId   ProductId                      ProfileName        Time  \\\n",
       "80638  AZY10LLTJ71NX  B006P7E5ZI  undertheshrine \"undertheshrine\"  1334707200   \n",
       "\n",
       "       Score                                               Text  COUNT(*)  \n",
       "80638      5  I was recommended to try green tea extract to ...         5  "
      ]
     },
     "execution_count": 5,
     "metadata": {},
     "output_type": "execute_result"
    }
   ],
   "source": [
    "display[display['UserId']=='AZY10LLTJ71NX']"
   ]
  },
  {
   "cell_type": "code",
   "execution_count": 6,
   "metadata": {
    "colab": {},
    "colab_type": "code",
    "id": "s37uqS_jiWNe",
    "outputId": "489f08d4-48a2-4e82-bfc1-4f982f35b2e4"
   },
   "outputs": [
    {
     "data": {
      "text/plain": [
       "393063"
      ]
     },
     "execution_count": 6,
     "metadata": {},
     "output_type": "execute_result"
    }
   ],
   "source": [
    "display['COUNT(*)'].sum()"
   ]
  },
  {
   "cell_type": "markdown",
   "metadata": {
    "colab_type": "text",
    "id": "efnNNqNfiWNh"
   },
   "source": [
    "#  [2] Exploratory Data Analysis"
   ]
  },
  {
   "cell_type": "markdown",
   "metadata": {
    "colab_type": "text",
    "id": "Eq0hnbxhiWNi"
   },
   "source": [
    "## [2.1] Data Cleaning: Deduplication\n",
    "\n",
    "It is observed (as shown in the table below) that the reviews data had many duplicate entries. Hence it was necessary to remove duplicates in order to get unbiased results for the analysis of the data.  Following is an example:"
   ]
  },
  {
   "cell_type": "code",
   "execution_count": 7,
   "metadata": {
    "colab": {},
    "colab_type": "code",
    "id": "3CKLJ2FFiWNj",
    "outputId": "c995e0c8-7ef1-48a0-d7a9-b0cc50efaa83",
    "scrolled": false
   },
   "outputs": [
    {
     "data": {
      "text/html": [
       "<div>\n",
       "<style scoped>\n",
       "    .dataframe tbody tr th:only-of-type {\n",
       "        vertical-align: middle;\n",
       "    }\n",
       "\n",
       "    .dataframe tbody tr th {\n",
       "        vertical-align: top;\n",
       "    }\n",
       "\n",
       "    .dataframe thead th {\n",
       "        text-align: right;\n",
       "    }\n",
       "</style>\n",
       "<table border=\"1\" class=\"dataframe\">\n",
       "  <thead>\n",
       "    <tr style=\"text-align: right;\">\n",
       "      <th></th>\n",
       "      <th>Id</th>\n",
       "      <th>ProductId</th>\n",
       "      <th>UserId</th>\n",
       "      <th>ProfileName</th>\n",
       "      <th>HelpfulnessNumerator</th>\n",
       "      <th>HelpfulnessDenominator</th>\n",
       "      <th>Score</th>\n",
       "      <th>Time</th>\n",
       "      <th>Summary</th>\n",
       "      <th>Text</th>\n",
       "    </tr>\n",
       "  </thead>\n",
       "  <tbody>\n",
       "    <tr>\n",
       "      <th>0</th>\n",
       "      <td>78445</td>\n",
       "      <td>B000HDL1RQ</td>\n",
       "      <td>AR5J8UI46CURR</td>\n",
       "      <td>Geetha Krishnan</td>\n",
       "      <td>2</td>\n",
       "      <td>2</td>\n",
       "      <td>5</td>\n",
       "      <td>1199577600</td>\n",
       "      <td>LOACKER QUADRATINI VANILLA WAFERS</td>\n",
       "      <td>DELICIOUS WAFERS. I FIND THAT EUROPEAN WAFERS ...</td>\n",
       "    </tr>\n",
       "    <tr>\n",
       "      <th>1</th>\n",
       "      <td>138317</td>\n",
       "      <td>B000HDOPYC</td>\n",
       "      <td>AR5J8UI46CURR</td>\n",
       "      <td>Geetha Krishnan</td>\n",
       "      <td>2</td>\n",
       "      <td>2</td>\n",
       "      <td>5</td>\n",
       "      <td>1199577600</td>\n",
       "      <td>LOACKER QUADRATINI VANILLA WAFERS</td>\n",
       "      <td>DELICIOUS WAFERS. I FIND THAT EUROPEAN WAFERS ...</td>\n",
       "    </tr>\n",
       "    <tr>\n",
       "      <th>2</th>\n",
       "      <td>138277</td>\n",
       "      <td>B000HDOPYM</td>\n",
       "      <td>AR5J8UI46CURR</td>\n",
       "      <td>Geetha Krishnan</td>\n",
       "      <td>2</td>\n",
       "      <td>2</td>\n",
       "      <td>5</td>\n",
       "      <td>1199577600</td>\n",
       "      <td>LOACKER QUADRATINI VANILLA WAFERS</td>\n",
       "      <td>DELICIOUS WAFERS. I FIND THAT EUROPEAN WAFERS ...</td>\n",
       "    </tr>\n",
       "    <tr>\n",
       "      <th>3</th>\n",
       "      <td>73791</td>\n",
       "      <td>B000HDOPZG</td>\n",
       "      <td>AR5J8UI46CURR</td>\n",
       "      <td>Geetha Krishnan</td>\n",
       "      <td>2</td>\n",
       "      <td>2</td>\n",
       "      <td>5</td>\n",
       "      <td>1199577600</td>\n",
       "      <td>LOACKER QUADRATINI VANILLA WAFERS</td>\n",
       "      <td>DELICIOUS WAFERS. I FIND THAT EUROPEAN WAFERS ...</td>\n",
       "    </tr>\n",
       "    <tr>\n",
       "      <th>4</th>\n",
       "      <td>155049</td>\n",
       "      <td>B000PAQ75C</td>\n",
       "      <td>AR5J8UI46CURR</td>\n",
       "      <td>Geetha Krishnan</td>\n",
       "      <td>2</td>\n",
       "      <td>2</td>\n",
       "      <td>5</td>\n",
       "      <td>1199577600</td>\n",
       "      <td>LOACKER QUADRATINI VANILLA WAFERS</td>\n",
       "      <td>DELICIOUS WAFERS. I FIND THAT EUROPEAN WAFERS ...</td>\n",
       "    </tr>\n",
       "  </tbody>\n",
       "</table>\n",
       "</div>"
      ],
      "text/plain": [
       "       Id   ProductId         UserId      ProfileName  HelpfulnessNumerator  \\\n",
       "0   78445  B000HDL1RQ  AR5J8UI46CURR  Geetha Krishnan                     2   \n",
       "1  138317  B000HDOPYC  AR5J8UI46CURR  Geetha Krishnan                     2   \n",
       "2  138277  B000HDOPYM  AR5J8UI46CURR  Geetha Krishnan                     2   \n",
       "3   73791  B000HDOPZG  AR5J8UI46CURR  Geetha Krishnan                     2   \n",
       "4  155049  B000PAQ75C  AR5J8UI46CURR  Geetha Krishnan                     2   \n",
       "\n",
       "   HelpfulnessDenominator  Score        Time  \\\n",
       "0                       2      5  1199577600   \n",
       "1                       2      5  1199577600   \n",
       "2                       2      5  1199577600   \n",
       "3                       2      5  1199577600   \n",
       "4                       2      5  1199577600   \n",
       "\n",
       "                             Summary  \\\n",
       "0  LOACKER QUADRATINI VANILLA WAFERS   \n",
       "1  LOACKER QUADRATINI VANILLA WAFERS   \n",
       "2  LOACKER QUADRATINI VANILLA WAFERS   \n",
       "3  LOACKER QUADRATINI VANILLA WAFERS   \n",
       "4  LOACKER QUADRATINI VANILLA WAFERS   \n",
       "\n",
       "                                                Text  \n",
       "0  DELICIOUS WAFERS. I FIND THAT EUROPEAN WAFERS ...  \n",
       "1  DELICIOUS WAFERS. I FIND THAT EUROPEAN WAFERS ...  \n",
       "2  DELICIOUS WAFERS. I FIND THAT EUROPEAN WAFERS ...  \n",
       "3  DELICIOUS WAFERS. I FIND THAT EUROPEAN WAFERS ...  \n",
       "4  DELICIOUS WAFERS. I FIND THAT EUROPEAN WAFERS ...  "
      ]
     },
     "execution_count": 7,
     "metadata": {},
     "output_type": "execute_result"
    }
   ],
   "source": [
    "display= pd.read_sql_query(\"\"\"\n",
    "SELECT *\n",
    "FROM Reviews\n",
    "WHERE Score != 3 AND UserId=\"AR5J8UI46CURR\"\n",
    "ORDER BY ProductID\n",
    "\"\"\", con)\n",
    "display.head()"
   ]
  },
  {
   "cell_type": "markdown",
   "metadata": {
    "colab_type": "text",
    "id": "GmHe67iviWNn"
   },
   "source": [
    "As it can be seen above that same user has multiple reviews with same values for HelpfulnessNumerator, HelpfulnessDenominator, Score, Time, Summary and Text and on doing analysis it was found that <br>\n",
    "<br> \n",
    "ProductId=B000HDOPZG was Loacker Quadratini Vanilla Wafer Cookies, 8.82-Ounce Packages (Pack of 8)<br>\n",
    "<br> \n",
    "ProductId=B000HDL1RQ was Loacker Quadratini Lemon Wafer Cookies, 8.82-Ounce Packages (Pack of 8) and so on<br>\n",
    "\n",
    "It was inferred after analysis that reviews with same parameters other than ProductId belonged to the same product just having different flavour or quantity. Hence in order to reduce redundancy it was decided to eliminate the rows having same parameters.<br>\n",
    "\n",
    "The method used for the same was that we first sort the data according to ProductId and then just keep the first similar product review and delelte the others. for eg. in the above just the review for ProductId=B000HDL1RQ remains. This method ensures that there is only one representative for each product and deduplication without sorting would lead to possibility of different representatives still existing for the same product."
   ]
  },
  {
   "cell_type": "code",
   "execution_count": 5,
   "metadata": {
    "colab": {},
    "colab_type": "code",
    "id": "wgmdXIJviWNn"
   },
   "outputs": [],
   "source": [
    "#Sorting data according to ProductId in ascending order\n",
    "sorted_data=filtered_data.sort_values('ProductId', axis=0, ascending=True, inplace=False, kind='quicksort', na_position='last')"
   ]
  },
  {
   "cell_type": "code",
   "execution_count": 6,
   "metadata": {
    "colab": {},
    "colab_type": "code",
    "id": "ComjQ0rHiWNp",
    "outputId": "1c155404-4bb7-4078-c46b-1a9a33ac0602"
   },
   "outputs": [
    {
     "data": {
      "text/plain": [
       "(87775, 10)"
      ]
     },
     "execution_count": 6,
     "metadata": {},
     "output_type": "execute_result"
    }
   ],
   "source": [
    "#Deduplication of entries\n",
    "final=sorted_data.drop_duplicates(subset={\"UserId\",\"ProfileName\",\"Time\",\"Text\"}, keep='first', inplace=False)\n",
    "final.shape"
   ]
  },
  {
   "cell_type": "code",
   "execution_count": 7,
   "metadata": {
    "colab": {},
    "colab_type": "code",
    "id": "yFrWiU23iWNt",
    "outputId": "b9d26952-d8af-4fbb-eb3d-c6a28abcc029"
   },
   "outputs": [
    {
     "data": {
      "text/plain": [
       "87.775"
      ]
     },
     "execution_count": 7,
     "metadata": {},
     "output_type": "execute_result"
    }
   ],
   "source": [
    "#Checking to see how much % of data still remains\n",
    "(final['Id'].size*1.0)/(filtered_data['Id'].size*1.0)*100"
   ]
  },
  {
   "cell_type": "markdown",
   "metadata": {
    "colab_type": "text",
    "id": "g4lvCHn6iWNw"
   },
   "source": [
    "<b>Observation:-</b> It was also seen that in two rows given below the value of HelpfulnessNumerator is greater than HelpfulnessDenominator which is not practically possible hence these two rows too are removed from calcualtions"
   ]
  },
  {
   "cell_type": "code",
   "execution_count": 11,
   "metadata": {
    "colab": {},
    "colab_type": "code",
    "id": "6ehzwEdgiWNw",
    "outputId": "60e18da4-784f-49d8-84b7-59823cfa3e85"
   },
   "outputs": [
    {
     "data": {
      "text/html": [
       "<div>\n",
       "<style scoped>\n",
       "    .dataframe tbody tr th:only-of-type {\n",
       "        vertical-align: middle;\n",
       "    }\n",
       "\n",
       "    .dataframe tbody tr th {\n",
       "        vertical-align: top;\n",
       "    }\n",
       "\n",
       "    .dataframe thead th {\n",
       "        text-align: right;\n",
       "    }\n",
       "</style>\n",
       "<table border=\"1\" class=\"dataframe\">\n",
       "  <thead>\n",
       "    <tr style=\"text-align: right;\">\n",
       "      <th></th>\n",
       "      <th>Id</th>\n",
       "      <th>ProductId</th>\n",
       "      <th>UserId</th>\n",
       "      <th>ProfileName</th>\n",
       "      <th>HelpfulnessNumerator</th>\n",
       "      <th>HelpfulnessDenominator</th>\n",
       "      <th>Score</th>\n",
       "      <th>Time</th>\n",
       "      <th>Summary</th>\n",
       "      <th>Text</th>\n",
       "    </tr>\n",
       "  </thead>\n",
       "  <tbody>\n",
       "    <tr>\n",
       "      <th>0</th>\n",
       "      <td>64422</td>\n",
       "      <td>B000MIDROQ</td>\n",
       "      <td>A161DK06JJMCYF</td>\n",
       "      <td>J. E. Stephens \"Jeanne\"</td>\n",
       "      <td>3</td>\n",
       "      <td>1</td>\n",
       "      <td>5</td>\n",
       "      <td>1224892800</td>\n",
       "      <td>Bought This for My Son at College</td>\n",
       "      <td>My son loves spaghetti so I didn't hesitate or...</td>\n",
       "    </tr>\n",
       "    <tr>\n",
       "      <th>1</th>\n",
       "      <td>44737</td>\n",
       "      <td>B001EQ55RW</td>\n",
       "      <td>A2V0I904FH7ABY</td>\n",
       "      <td>Ram</td>\n",
       "      <td>3</td>\n",
       "      <td>2</td>\n",
       "      <td>4</td>\n",
       "      <td>1212883200</td>\n",
       "      <td>Pure cocoa taste with crunchy almonds inside</td>\n",
       "      <td>It was almost a 'love at first bite' - the per...</td>\n",
       "    </tr>\n",
       "  </tbody>\n",
       "</table>\n",
       "</div>"
      ],
      "text/plain": [
       "      Id   ProductId          UserId              ProfileName  \\\n",
       "0  64422  B000MIDROQ  A161DK06JJMCYF  J. E. Stephens \"Jeanne\"   \n",
       "1  44737  B001EQ55RW  A2V0I904FH7ABY                      Ram   \n",
       "\n",
       "   HelpfulnessNumerator  HelpfulnessDenominator  Score        Time  \\\n",
       "0                     3                       1      5  1224892800   \n",
       "1                     3                       2      4  1212883200   \n",
       "\n",
       "                                        Summary  \\\n",
       "0             Bought This for My Son at College   \n",
       "1  Pure cocoa taste with crunchy almonds inside   \n",
       "\n",
       "                                                Text  \n",
       "0  My son loves spaghetti so I didn't hesitate or...  \n",
       "1  It was almost a 'love at first bite' - the per...  "
      ]
     },
     "execution_count": 11,
     "metadata": {},
     "output_type": "execute_result"
    }
   ],
   "source": [
    "display= pd.read_sql_query(\"\"\"\n",
    "SELECT *\n",
    "FROM Reviews\n",
    "WHERE Score != 3 AND Id=44737 OR Id=64422\n",
    "ORDER BY ProductID\n",
    "\"\"\", con)\n",
    "\n",
    "display.head()"
   ]
  },
  {
   "cell_type": "code",
   "execution_count": 8,
   "metadata": {
    "colab": {},
    "colab_type": "code",
    "id": "EBa1d6gViWNz"
   },
   "outputs": [],
   "source": [
    "final=final[final.HelpfulnessNumerator<=final.HelpfulnessDenominator]"
   ]
  },
  {
   "cell_type": "code",
   "execution_count": 9,
   "metadata": {
    "colab": {},
    "colab_type": "code",
    "id": "KNQ01asjiWN1",
    "outputId": "0d2433fb-dd33-41cd-a18d-110d776f60b4"
   },
   "outputs": [
    {
     "name": "stdout",
     "output_type": "stream",
     "text": [
      "(87773, 10)\n"
     ]
    },
    {
     "data": {
      "text/plain": [
       "1    73592\n",
       "0    14181\n",
       "Name: Score, dtype: int64"
      ]
     },
     "execution_count": 9,
     "metadata": {},
     "output_type": "execute_result"
    }
   ],
   "source": [
    "#Before starting the next phase of preprocessing lets see the number of entries left\n",
    "print(final.shape)\n",
    "\n",
    "#How many positive and negative reviews are present in our dataset?\n",
    "final['Score'].value_counts()"
   ]
  },
  {
   "cell_type": "markdown",
   "metadata": {
    "colab_type": "text",
    "id": "92IZ5ea0iWN4"
   },
   "source": [
    "#  [3] Preprocessing"
   ]
  },
  {
   "cell_type": "markdown",
   "metadata": {
    "colab_type": "text",
    "id": "NTwQITJKiWN5"
   },
   "source": [
    "## [3.1].  Preprocessing Review Text\n",
    "\n",
    "Now that we have finished deduplication our data requires some preprocessing before we go on further with analysis and making the prediction model.\n",
    "\n",
    "Hence in the Preprocessing phase we do the following in the order below:-\n",
    "\n",
    "1. Begin by removing the html tags\n",
    "2. Remove any punctuations or limited set of special characters like , or . or # etc.\n",
    "3. Check if the word is made up of english letters and is not alpha-numeric\n",
    "4. Check to see if the length of the word is greater than 2 (as it was researched that there is no adjective in 2-letters)\n",
    "5. Convert the word to lowercase\n",
    "6. Remove Stopwords\n",
    "7. Finally Snowball Stemming the word (it was obsereved to be better than Porter Stemming)<br>\n",
    "\n",
    "After which we collect the words used to describe positive and negative reviews"
   ]
  },
  {
   "cell_type": "code",
   "execution_count": 10,
   "metadata": {
    "colab": {},
    "colab_type": "code",
    "id": "kTCxT5aWiWN5",
    "outputId": "64588cda-64b3-47f0-8d01-941e1cc85cc5"
   },
   "outputs": [
    {
     "name": "stdout",
     "output_type": "stream",
     "text": [
      "My dogs loves this chicken but its a product from China, so we wont be buying it anymore.  Its very hard to find any chicken products made in the USA but they are out there, but this one isnt.  Its too bad too because its a good product but I wont take any chances till they know what is going on with the china imports.\n",
      "==================================================\n",
      "The Candy Blocks were a nice visual for the Lego Birthday party but the candy has little taste to it.  Very little of the 2 lbs that I bought were eaten and I threw the rest away.  I would not buy the candy again.\n",
      "==================================================\n",
      "was way to hot for my blood, took a bite and did a jig  lol\n",
      "==================================================\n",
      "My dog LOVES these treats. They tend to have a very strong fish oil smell. So if you are afraid of the fishy smell, don't get it. But I think my dog likes it because of the smell. These treats are really small in size. They are great for training. You can give your dog several of these without worrying about him over eating. Amazon's price was much more reasonable than any other retailer. You can buy a 1 pound bag on Amazon for almost the same price as a 6 ounce bag at other retailers. It's definitely worth it to buy a big bag if your dog eats them a lot.\n",
      "==================================================\n"
     ]
    }
   ],
   "source": [
    "# printing some random reviews\n",
    "sent_0 = final['Text'].values[0]\n",
    "print(sent_0)\n",
    "print(\"=\"*50)\n",
    "\n",
    "sent_1000 = final['Text'].values[1000]\n",
    "print(sent_1000)\n",
    "print(\"=\"*50)\n",
    "\n",
    "sent_1500 = final['Text'].values[1500]\n",
    "print(sent_1500)\n",
    "print(\"=\"*50)\n",
    "\n",
    "sent_4900 = final['Text'].values[4900]\n",
    "print(sent_4900)\n",
    "print(\"=\"*50)"
   ]
  },
  {
   "cell_type": "code",
   "execution_count": 11,
   "metadata": {
    "colab": {},
    "colab_type": "code",
    "id": "iX3VndCPiWN8",
    "outputId": "7f8cad02-65a6-4530-e7e1-bb6775877737"
   },
   "outputs": [
    {
     "name": "stdout",
     "output_type": "stream",
     "text": [
      "My dogs loves this chicken but its a product from China, so we wont be buying it anymore.  Its very hard to find any chicken products made in the USA but they are out there, but this one isnt.  Its too bad too because its a good product but I wont take any chances till they know what is going on with the china imports.\n"
     ]
    }
   ],
   "source": [
    "# remove urls from text python: https://stackoverflow.com/a/40823105/4084039\n",
    "sent_0 = re.sub(r\"http\\S+\", \"\", sent_0)\n",
    "sent_1000 = re.sub(r\"http\\S+\", \"\", sent_1000)\n",
    "sent_150 = re.sub(r\"http\\S+\", \"\", sent_1500)\n",
    "sent_4900 = re.sub(r\"http\\S+\", \"\", sent_4900)\n",
    "\n",
    "print(sent_0)"
   ]
  },
  {
   "cell_type": "code",
   "execution_count": 12,
   "metadata": {
    "colab": {},
    "colab_type": "code",
    "id": "DyO7iqEriWN_",
    "outputId": "2a010a1c-574d-409f-d725-c726a25d3e70"
   },
   "outputs": [
    {
     "name": "stdout",
     "output_type": "stream",
     "text": [
      "My dogs loves this chicken but its a product from China, so we wont be buying it anymore.  Its very hard to find any chicken products made in the USA but they are out there, but this one isnt.  Its too bad too because its a good product but I wont take any chances till they know what is going on with the china imports.\n",
      "==================================================\n"
     ]
    },
    {
     "data": {
      "text/plain": [
       "'\\nsoup = BeautifulSoup(sent_1000, \\'lxml\\')\\ntext = soup.get_text()\\nprint(text)\\nprint(\"=\"*50)\\n\\nsoup = BeautifulSoup(sent_1500, \\'lxml\\')\\ntext = soup.get_text()\\nprint(text)\\nprint(\"=\"*50)\\n\\nsoup = BeautifulSoup(sent_4900, \\'lxml\\')\\ntext = soup.get_text()\\nprint(text)\\n'"
      ]
     },
     "execution_count": 12,
     "metadata": {},
     "output_type": "execute_result"
    }
   ],
   "source": [
    "# https://stackoverflow.com/questions/16206380/python-beautifulsoup-how-to-remove-all-tags-from-an-element\n",
    "from bs4 import BeautifulSoup\n",
    "\n",
    "soup = BeautifulSoup(sent_0, 'html5lib')\n",
    "text = soup.get_text()\n",
    "print(text)\n",
    "print(\"=\"*50)\n",
    "'''\n",
    "soup = BeautifulSoup(sent_1000, 'lxml')\n",
    "text = soup.get_text()\n",
    "print(text)\n",
    "print(\"=\"*50)\n",
    "\n",
    "soup = BeautifulSoup(sent_1500, 'lxml')\n",
    "text = soup.get_text()\n",
    "print(text)\n",
    "print(\"=\"*50)\n",
    "\n",
    "soup = BeautifulSoup(sent_4900, 'lxml')\n",
    "text = soup.get_text()\n",
    "print(text)\n",
    "'''"
   ]
  },
  {
   "cell_type": "code",
   "execution_count": 13,
   "metadata": {
    "colab": {},
    "colab_type": "code",
    "id": "qzIaKh8niWOC"
   },
   "outputs": [],
   "source": [
    "# https://stackoverflow.com/a/47091490/4084039\n",
    "import re\n",
    "\n",
    "def decontracted(phrase):\n",
    "    # specific\n",
    "    phrase = re.sub(r\"won't\", \"will not\", phrase)\n",
    "    phrase = re.sub(r\"can\\'t\", \"can not\", phrase)\n",
    "\n",
    "    # general\n",
    "    phrase = re.sub(r\"n\\'t\", \" not\", phrase)\n",
    "    phrase = re.sub(r\"\\'re\", \" are\", phrase)\n",
    "    phrase = re.sub(r\"\\'s\", \" is\", phrase)\n",
    "    phrase = re.sub(r\"\\'d\", \" would\", phrase)\n",
    "    phrase = re.sub(r\"\\'ll\", \" will\", phrase)\n",
    "    phrase = re.sub(r\"\\'t\", \" not\", phrase)\n",
    "    phrase = re.sub(r\"\\'ve\", \" have\", phrase)\n",
    "    phrase = re.sub(r\"\\'m\", \" am\", phrase)\n",
    "    return phrase"
   ]
  },
  {
   "cell_type": "code",
   "execution_count": 14,
   "metadata": {
    "colab": {},
    "colab_type": "code",
    "id": "Esa29-JwiWOD",
    "outputId": "be726596-752d-489b-d311-f4180ac83ac4"
   },
   "outputs": [
    {
     "name": "stdout",
     "output_type": "stream",
     "text": [
      "was way to hot for my blood, took a bite and did a jig  lol\n",
      "==================================================\n"
     ]
    }
   ],
   "source": [
    "sent_1500 = decontracted(sent_1500)\n",
    "print(sent_1500)\n",
    "print(\"=\"*50)"
   ]
  },
  {
   "cell_type": "code",
   "execution_count": 15,
   "metadata": {
    "colab": {},
    "colab_type": "code",
    "id": "qf0c7-nXiWOG",
    "outputId": "6104976d-bda8-4de1-9d91-808f3661d53b"
   },
   "outputs": [
    {
     "name": "stdout",
     "output_type": "stream",
     "text": [
      "My dogs loves this chicken but its a product from China, so we wont be buying it anymore.  Its very hard to find any chicken products made in the USA but they are out there, but this one isnt.  Its too bad too because its a good product but I wont take any chances till they know what is going on with the china imports.\n"
     ]
    }
   ],
   "source": [
    "#remove words with numbers python: https://stackoverflow.com/a/18082370/4084039\n",
    "sent_0 = re.sub(\"\\S*\\d\\S*\", \"\", sent_0).strip()\n",
    "print(sent_0)"
   ]
  },
  {
   "cell_type": "code",
   "execution_count": 16,
   "metadata": {
    "colab": {},
    "colab_type": "code",
    "id": "1Z5VK6wxiWOI",
    "outputId": "d3405347-aa6a-4df5-c3d9-2c11441c2385"
   },
   "outputs": [
    {
     "name": "stdout",
     "output_type": "stream",
     "text": [
      "was way to hot for my blood took a bite and did a jig lol\n"
     ]
    }
   ],
   "source": [
    "#remove spacial character: https://stackoverflow.com/a/5843547/4084039\n",
    "sent_1500 = re.sub('[^A-Za-z0-9]+', ' ', sent_1500)\n",
    "print(sent_1500)"
   ]
  },
  {
   "cell_type": "code",
   "execution_count": 17,
   "metadata": {
    "colab": {},
    "colab_type": "code",
    "id": "MfzZtIP1iWOL"
   },
   "outputs": [],
   "source": [
    "# https://gist.github.com/sebleier/554280\n",
    "# we are removing the words from the stop words list: 'no', 'nor', 'not'\n",
    "# <br /><br /> ==> after the above steps, we are getting \"br br\"\n",
    "# we are including them into stop words list\n",
    "# instead of <br /> if we have <br/> these tags would have revmoved in the 1st step\n",
    "\n",
    "stopwords= set(['br', 'the', 'i', 'me', 'my', 'myself', 'we', 'our', 'ours', 'ourselves', 'you', \"you're\", \"you've\",\\\n",
    "            \"you'll\", \"you'd\", 'your', 'yours', 'yourself', 'yourselves', 'he', 'him', 'his', 'himself', \\\n",
    "            'she', \"she's\", 'her', 'hers', 'herself', 'it', \"it's\", 'its', 'itself', 'they', 'them', 'their',\\\n",
    "            'theirs', 'themselves', 'what', 'which', 'who', 'whom', 'this', 'that', \"that'll\", 'these', 'those', \\\n",
    "            'am', 'is', 'are', 'was', 'were', 'be', 'been', 'being', 'have', 'has', 'had', 'having', 'do', 'does', \\\n",
    "            'did', 'doing', 'a', 'an', 'the', 'and', 'but', 'if', 'or', 'because', 'as', 'until', 'while', 'of', \\\n",
    "            'at', 'by', 'for', 'with', 'about', 'against', 'between', 'into', 'through', 'during', 'before', 'after',\\\n",
    "            'above', 'below', 'to', 'from', 'up', 'down', 'in', 'out', 'on', 'off', 'over', 'under', 'again', 'further',\\\n",
    "            'then', 'once', 'here', 'there', 'when', 'where', 'why', 'how', 'all', 'any', 'both', 'each', 'few', 'more',\\\n",
    "            'most', 'other', 'some', 'such', 'only', 'own', 'same', 'so', 'than', 'too', 'very', \\\n",
    "            's', 't', 'can', 'will', 'just', 'don', \"don't\", 'should', \"should've\", 'now', 'd', 'll', 'm', 'o', 're', \\\n",
    "            've', 'y', 'ain', 'aren', \"aren't\", 'couldn', \"couldn't\", 'didn', \"didn't\", 'doesn', \"doesn't\", 'hadn',\\\n",
    "            \"hadn't\", 'hasn', \"hasn't\", 'haven', \"haven't\", 'isn', \"isn't\", 'ma', 'mightn', \"mightn't\", 'mustn',\\\n",
    "            \"mustn't\", 'needn', \"needn't\", 'shan', \"shan't\", 'shouldn', \"shouldn't\", 'wasn', \"wasn't\", 'weren', \"weren't\", \\\n",
    "            'won', \"won't\", 'wouldn', \"wouldn't\"])"
   ]
  },
  {
   "cell_type": "code",
   "execution_count": 18,
   "metadata": {
    "colab": {},
    "colab_type": "code",
    "id": "g1C43tjNiWOM",
    "outputId": "a997afc9-894c-4a56-d538-dadea8a21e6d",
    "scrolled": true
   },
   "outputs": [
    {
     "name": "stderr",
     "output_type": "stream",
     "text": [
      "100%|██████████| 87773/87773 [01:00<00:00, 1450.65it/s]\n"
     ]
    }
   ],
   "source": [
    "# Combining all the above stundents \n",
    "from tqdm import tqdm\n",
    "from bs4 import BeautifulSoup\n",
    "\n",
    "preprocessed_reviews = []\n",
    "# tqdm is for printing the status bar\n",
    "for sentance in tqdm(final['Text'].values):\n",
    "    sentance = re.sub(r\"http\\S+\", \"\", sentance)\n",
    "    sentance = BeautifulSoup(sentance, 'html5lib').get_text()\n",
    "    sentance = decontracted(sentance)\n",
    "    sentance = re.sub(\"\\S*\\d\\S*\", \"\", sentance).strip()\n",
    "    sentance = re.sub('[^A-Za-z]+', ' ', sentance)\n",
    "    # https://gist.github.com/sebleier/554280\n",
    "    sentance = ' '.join(e.lower() for e in sentance.split() if e.lower() not in stopwords)\n",
    "    preprocessed_reviews.append(sentance.strip())"
   ]
  },
  {
   "cell_type": "markdown",
   "metadata": {
    "colab_type": "text",
    "id": "fEu8sShciWOS"
   },
   "source": [
    "<h2><font color='red'>[3.2] Preprocessing Review Summary</font></h2>"
   ]
  },
  {
   "cell_type": "markdown",
   "metadata": {
    "colab_type": "text",
    "id": "T_LFck8iiWOX"
   },
   "source": [
    "## [4.1] BAG OF WORDS"
   ]
  },
  {
   "cell_type": "code",
   "execution_count": 19,
   "metadata": {
    "colab": {},
    "colab_type": "code",
    "id": "OVHZ9f8biWOX",
    "outputId": "b121f6f4-e30a-4184-b083-a77cdab3ca19"
   },
   "outputs": [
    {
     "name": "stdout",
     "output_type": "stream",
     "text": [
      "some feature names  ['aa', 'aaa', 'aaaa', 'aaaaa', 'aaaaaaaaaaaa', 'aaaaaaaaaaaaaaa', 'aaaaaaahhhhhh', 'aaaaaaarrrrrggghhh', 'aaaaaawwwwwwwwww', 'aaaaah']\n",
      "54904\n",
      "==================================================\n",
      "the type of count vectorizer  <class 'scipy.sparse.csr.csr_matrix'>\n",
      "the shape of out text BOW vectorizer  (87773, 54904)\n",
      "the number of unique words  54904\n"
     ]
    }
   ],
   "source": [
    "#BoW\n",
    "count_vect = CountVectorizer() #in scikit-learn\n",
    "count_vect.fit(preprocessed_reviews)\n",
    "print(\"some feature names \", count_vect.get_feature_names()[:10])\n",
    "bow_features = count_vect.get_feature_names()\n",
    "print(len(bow_features))\n",
    "print('='*50)\n",
    "\n",
    "final_counts = count_vect.transform(preprocessed_reviews)\n",
    "print(\"the type of count vectorizer \",type(final_counts))\n",
    "print(\"the shape of out text BOW vectorizer \",final_counts.get_shape())\n",
    "print(\"the number of unique words \", final_counts.get_shape()[1])"
   ]
  },
  {
   "cell_type": "markdown",
   "metadata": {
    "colab_type": "text",
    "id": "mjfrB76yiWOa"
   },
   "source": [
    "## [4.2] Bi-Grams and n-Grams."
   ]
  },
  {
   "cell_type": "code",
   "execution_count": 18,
   "metadata": {
    "colab": {},
    "colab_type": "code",
    "id": "mzOdOY6MiWOb",
    "outputId": "5ca07a6a-fb12-4deb-b0f4-21cdb42ccb7a"
   },
   "outputs": [
    {
     "name": "stdout",
     "output_type": "stream",
     "text": [
      "the type of count vectorizer  <class 'scipy.sparse.csr.csr_matrix'>\n",
      "the shape of out text BOW vectorizer  (4986, 3144)\n",
      "the number of unique words including both unigrams and bigrams  3144\n"
     ]
    }
   ],
   "source": [
    "#bi-gram, tri-gram and n-gram\n",
    "\n",
    "#removing stop words like \"not\" should be avoided before building n-grams\n",
    "# count_vect = CountVectorizer(ngram_range=(1,2))\n",
    "# please do read the CountVectorizer documentation http://scikit-learn.org/stable/modules/generated/sklearn.feature_extraction.text.CountVectorizer.html\n",
    "\n",
    "# you can choose these numebrs min_df=10, max_features=5000, of your choice\n",
    "count_vect = CountVectorizer(ngram_range=(1,2), min_df=10, max_features=5000)\n",
    "final_bigram_counts = count_vect.fit_transform(preprocessed_reviews)\n",
    "print(\"the type of count vectorizer \",type(final_bigram_counts))\n",
    "print(\"the shape of out text BOW vectorizer \",final_bigram_counts.get_shape())\n",
    "print(\"the number of unique words including both unigrams and bigrams \", final_bigram_counts.get_shape()[1])"
   ]
  },
  {
   "cell_type": "markdown",
   "metadata": {
    "colab_type": "text",
    "id": "0tcbbZxSiWOd"
   },
   "source": [
    "## [4.3] TF-IDF"
   ]
  },
  {
   "cell_type": "code",
   "execution_count": 19,
   "metadata": {
    "colab": {},
    "colab_type": "code",
    "id": "mQ3EDEsoiWOd",
    "outputId": "b305ed29-861d-40e9-c1df-b12c4e6492a8"
   },
   "outputs": [
    {
     "name": "stdout",
     "output_type": "stream",
     "text": [
      "some sample features(unique words in the corpus) ['ability', 'able', 'able find', 'able get', 'absolute', 'absolutely', 'absolutely delicious', 'absolutely love', 'absolutely no', 'according']\n",
      "==================================================\n",
      "the type of count vectorizer  <class 'scipy.sparse.csr.csr_matrix'>\n",
      "the shape of out text TFIDF vectorizer  (4986, 3144)\n",
      "the number of unique words including both unigrams and bigrams  3144\n"
     ]
    }
   ],
   "source": [
    "tf_idf_vect = TfidfVectorizer(ngram_range=(1,2), min_df=10)\n",
    "tf_idf_vect.fit(preprocessed_reviews)\n",
    "print(\"some sample features(unique words in the corpus)\",tf_idf_vect.get_feature_names()[0:10])\n",
    "print('='*50)\n",
    "\n",
    "final_tf_idf = tf_idf_vect.transform(preprocessed_reviews)\n",
    "print(\"the type of count vectorizer \",type(final_tf_idf))\n",
    "print(\"the shape of out text TFIDF vectorizer \",final_tf_idf.get_shape())\n",
    "print(\"the number of unique words including both unigrams and bigrams \", final_tf_idf.get_shape()[1])"
   ]
  },
  {
   "cell_type": "markdown",
   "metadata": {
    "colab_type": "text",
    "id": "u566lt93iWOf"
   },
   "source": [
    "## [4.4] Word2Vec"
   ]
  },
  {
   "cell_type": "code",
   "execution_count": 20,
   "metadata": {
    "colab": {},
    "colab_type": "code",
    "id": "pxlbMwFjiWOg"
   },
   "outputs": [],
   "source": [
    "# Train your own Word2Vec model using your own text corpus\n",
    "i=0\n",
    "list_of_sentance=[]\n",
    "for sentance in preprocessed_reviews:\n",
    "    list_of_sentance.append(sentance.split())"
   ]
  },
  {
   "cell_type": "code",
   "execution_count": 21,
   "metadata": {
    "colab": {},
    "colab_type": "code",
    "id": "NOd5wp0yiWOh",
    "outputId": "ae28439d-438c-4d88-ed12-db5f3317218f",
    "scrolled": true
   },
   "outputs": [
    {
     "name": "stdout",
     "output_type": "stream",
     "text": [
      "[('alternative', 0.9950153827667236), ('excellent', 0.9949604868888855), ('care', 0.9947179555892944), ('snack', 0.9946397542953491), ('though', 0.9941668510437012), ('especially', 0.9941451549530029), ('pretty', 0.9941332936286926), ('overall', 0.9938345551490784), ('decent', 0.9937876462936401), ('popchips', 0.9937267899513245)]\n",
      "==================================================\n",
      "[('awful', 0.9995365142822266), ('type', 0.9994642734527588), ('experience', 0.9994605779647827), ('wow', 0.9994303584098816), ('mine', 0.9993852972984314), ('lover', 0.9993796944618225), ('remember', 0.99936443567276), ('truly', 0.9993579387664795), ('oh', 0.999349057674408), ('varieties', 0.9993482828140259)]\n"
     ]
    }
   ],
   "source": [
    "# Using Google News Word2Vectors\n",
    "\n",
    "# in this project we are using a pretrained model by google\n",
    "# its 3.3G file, once you load this into your memory \n",
    "# it occupies ~9Gb, so please do this step only if you have >12G of ram\n",
    "# we will provide a pickle file wich contains a dict , \n",
    "# and it contains all our courpus words as keys and  model[word] as values\n",
    "# To use this code-snippet, download \"GoogleNews-vectors-negative300.bin\" \n",
    "# from https://drive.google.com/file/d/0B7XkCwpI5KDYNlNUTTlSS21pQmM/edit\n",
    "# it's 1.9GB in size.\n",
    "\n",
    "\n",
    "# http://kavita-ganesan.com/gensim-word2vec-tutorial-starter-code/#.W17SRFAzZPY\n",
    "# you can comment this whole cell\n",
    "# or change these varible according to your need\n",
    "\n",
    "is_your_ram_gt_16g=False\n",
    "want_to_use_google_w2v = False\n",
    "want_to_train_w2v = True\n",
    "\n",
    "if want_to_train_w2v:\n",
    "    # min_count = 5 considers only words that occured atleast 5 times\n",
    "    w2v_model=Word2Vec(list_of_sentance,min_count=5,size=50, workers=4)\n",
    "    print(w2v_model.wv.most_similar('great'))\n",
    "    print('='*50)\n",
    "    print(w2v_model.wv.most_similar('worst'))\n",
    "    \n",
    "elif want_to_use_google_w2v and is_your_ram_gt_16g:\n",
    "    if os.path.isfile('GoogleNews-vectors-negative300.bin'):\n",
    "        w2v_model=KeyedVectors.load_word2vec_format('GoogleNews-vectors-negative300.bin', binary=True)\n",
    "        print(w2v_model.wv.most_similar('great'))\n",
    "        print(w2v_model.wv.most_similar('worst'))\n",
    "    else:\n",
    "        print(\"you don't have gogole's word2vec file, keep want_to_train_w2v = True, to train your own w2v \")"
   ]
  },
  {
   "cell_type": "code",
   "execution_count": 22,
   "metadata": {
    "colab": {},
    "colab_type": "code",
    "id": "teE01Qk2iWOj",
    "outputId": "f063436c-8b62-49d3-e093-723395e66ccd"
   },
   "outputs": [
    {
     "name": "stdout",
     "output_type": "stream",
     "text": [
      "number of words that occured minimum 5 times  3817\n",
      "sample words  ['product', 'available', 'course', 'total', 'pretty', 'stinky', 'right', 'nearby', 'used', 'ca', 'not', 'beat', 'great', 'received', 'shipment', 'could', 'hardly', 'wait', 'try', 'love', 'call', 'instead', 'removed', 'easily', 'daughter', 'designed', 'printed', 'use', 'car', 'windows', 'beautifully', 'shop', 'program', 'going', 'lot', 'fun', 'everywhere', 'like', 'tv', 'computer', 'really', 'good', 'idea', 'final', 'outstanding', 'window', 'everybody', 'asks', 'bought', 'made']\n"
     ]
    }
   ],
   "source": [
    "w2v_words = list(w2v_model.wv.vocab)\n",
    "print(\"number of words that occured minimum 5 times \",len(w2v_words))\n",
    "print(\"sample words \", w2v_words[0:50])"
   ]
  },
  {
   "cell_type": "markdown",
   "metadata": {
    "colab_type": "text",
    "id": "mUNnof40iWOl"
   },
   "source": [
    "## [4.4.1] Converting text into vectors using Avg W2V, TFIDF-W2V"
   ]
  },
  {
   "cell_type": "markdown",
   "metadata": {
    "colab_type": "text",
    "id": "heHLB_FCiWOm"
   },
   "source": [
    "#### [4.4.1.1] Avg W2v"
   ]
  },
  {
   "cell_type": "code",
   "execution_count": 23,
   "metadata": {
    "colab": {},
    "colab_type": "code",
    "id": "iCYoNRANiWOm",
    "outputId": "96ebb104-44d7-4b7d-aa45-62614bbfcf44"
   },
   "outputs": [
    {
     "name": "stderr",
     "output_type": "stream",
     "text": [
      "100%|██████████| 4986/4986 [00:04<00:00, 1221.76it/s]"
     ]
    },
    {
     "name": "stdout",
     "output_type": "stream",
     "text": [
      "4986\n",
      "50\n"
     ]
    },
    {
     "name": "stderr",
     "output_type": "stream",
     "text": [
      "\n"
     ]
    }
   ],
   "source": [
    "# average Word2Vec\n",
    "# compute average word2vec for each review.\n",
    "sent_vectors = []; # the avg-w2v for each sentence/review is stored in this list\n",
    "for sent in tqdm(list_of_sentance): # for each review/sentence\n",
    "    sent_vec = np.zeros(50) # as word vectors are of zero length 50, you might need to change this to 300 if you use google's w2v\n",
    "    cnt_words =0; # num of words with a valid vector in the sentence/review\n",
    "    for word in sent: # for each word in a review/sentence\n",
    "        if word in w2v_words:\n",
    "            vec = w2v_model.wv[word]\n",
    "            sent_vec += vec\n",
    "            cnt_words += 1\n",
    "    if cnt_words != 0:\n",
    "        sent_vec /= cnt_words\n",
    "    sent_vectors.append(sent_vec)\n",
    "print(len(sent_vectors))\n",
    "print(len(sent_vectors[0]))"
   ]
  },
  {
   "cell_type": "markdown",
   "metadata": {
    "colab_type": "text",
    "id": "ylTn3LgiiWOo"
   },
   "source": [
    "#### [4.4.1.2] TFIDF weighted W2v"
   ]
  },
  {
   "cell_type": "code",
   "execution_count": 24,
   "metadata": {
    "colab": {},
    "colab_type": "code",
    "id": "XBxf_qKSiWOo"
   },
   "outputs": [],
   "source": [
    "# S = [\"abc def pqr\", \"def def def abc\", \"pqr pqr def\"]\n",
    "model = TfidfVectorizer()\n",
    "tf_idf_matrix = model.fit_transform(preprocessed_reviews)\n",
    "# we are converting a dictionary with word as a key, and the idf as a value\n",
    "dictionary = dict(zip(model.get_feature_names(), list(model.idf_)))"
   ]
  },
  {
   "cell_type": "code",
   "execution_count": 25,
   "metadata": {
    "colab": {},
    "colab_type": "code",
    "id": "5FHQMSyUiWOp",
    "outputId": "6b5b71be-e3f7-4933-cd74-f78fb703132d",
    "scrolled": true
   },
   "outputs": [
    {
     "name": "stderr",
     "output_type": "stream",
     "text": [
      "100%|██████████| 4986/4986 [00:20<00:00, 239.95it/s]\n"
     ]
    }
   ],
   "source": [
    "# TF-IDF weighted Word2Vec\n",
    "tfidf_feat = model.get_feature_names() # tfidf words/col-names\n",
    "# final_tf_idf is the sparse matrix with row= sentence, col=word and cell_val = tfidf\n",
    "\n",
    "tfidf_sent_vectors = []; # the tfidf-w2v for each sentence/review is stored in this list\n",
    "row=0;\n",
    "for sent in tqdm(list_of_sentance): # for each review/sentence \n",
    "    sent_vec = np.zeros(50) # as word vectors are of zero length\n",
    "    weight_sum =0; # num of words with a valid vector in the sentence/review\n",
    "    for word in sent: # for each word in a review/sentence\n",
    "        if word in w2v_words and word in tfidf_feat:\n",
    "            vec = w2v_model.wv[word]\n",
    "#             tf_idf = tf_idf_matrix[row, tfidf_feat.index(word)]\n",
    "            # to reduce the computation we are \n",
    "            # dictionary[word] = idf value of word in whole courpus\n",
    "            # sent.count(word) = tf valeus of word in this review\n",
    "            tf_idf = dictionary[word]*(sent.count(word)/len(sent))\n",
    "            sent_vec += (vec * tf_idf)\n",
    "            weight_sum += tf_idf\n",
    "    if weight_sum != 0:\n",
    "        sent_vec /= weight_sum\n",
    "    tfidf_sent_vectors.append(sent_vec)\n",
    "    row += 1"
   ]
  },
  {
   "cell_type": "markdown",
   "metadata": {
    "colab_type": "text",
    "id": "IwObBT2UiWOr"
   },
   "source": [
    "# [5] Assignment 8: Decision Trees"
   ]
  },
  {
   "cell_type": "markdown",
   "metadata": {
    "colab_type": "text",
    "id": "k_mwmumRiWOr"
   },
   "source": [
    "<ol>\n",
    "    <li><strong>Apply Decision Trees on these feature sets</strong>\n",
    "        <ul>\n",
    "            <li><font color='red'>SET 1:</font>Review text, preprocessed one converted into vectors using (BOW)</li>\n",
    "            <li><font color='red'>SET 2:</font>Review text, preprocessed one converted into vectors using (TFIDF)</li>\n",
    "            <li><font color='red'>SET 3:</font>Review text, preprocessed one converted into vectors using (AVG W2v)</li>\n",
    "            <li><font color='red'>SET 4:</font>Review text, preprocessed one converted into vectors using (TFIDF W2v)</li>\n",
    "        </ul>\n",
    "    </li>\n",
    "    <br>\n",
    "    <li><strong>The hyper paramter tuning (best `depth` in range [1, 5, 10, 50, 100, 500, 100], and the best `min_samples_split` in range [5, 10, 100, 500])</strong>\n",
    "        <ul>\n",
    "    <li>Find the best hyper parameter which will give the maximum <a href='https://www.appliedaicourse.com/course/applied-ai-course-online/lessons/receiver-operating-characteristic-curve-roc-curve-and-auc-1/'>AUC</a> value</li>\n",
    "    <li>Find the best hyper paramter using k-fold cross validation or simple cross validation data</li>\n",
    "    <li>Use gridsearch cv or randomsearch cv or you can also write your own for loops to do this task of hyperparameter tuning</li>          \n",
    "        </ul>\n",
    "    </li>\n",
    "    <br>\n",
    "    <li><strong>Graphviz</strong>\n",
    "        <ul>\n",
    "    <li>Visualize your decision tree with Graphviz. It helps you to understand how a decision is being made, given a new vector.</li>\n",
    "    <li>Since feature names are not obtained from word2vec related models, visualize only BOW & TFIDF decision trees using Graphviz</li>\n",
    "    <li>Make sure to print the words in each node of the decision tree instead of printing its index.</li>\n",
    "    <li>Just for visualization purpose, limit max_depth to 2 or 3 and either embed the generated images of graphviz in your notebook, or directly upload them as .png files.</li>                \n",
    "        </ul>\n",
    "    </li>\n",
    "    <br>\n",
    "    <li><strong>Feature importance</strong>\n",
    "        <ul>\n",
    "    <li>Find the top 20 important features from both feature sets <font color='red'>Set 1</font> and <font color='red'>Set 2</font> using `feature_importances_` method of <a href='https://scikit-learn.org/stable/modules/generated/sklearn.tree.DecisionTreeClassifier.html'>Decision Tree Classifier</a> and print their corresponding feature names</li>\n",
    "        </ul>\n",
    "    </li>\n",
    "    <br>\n",
    "    <li><strong>Feature engineering</strong>\n",
    "        <ul>\n",
    "    <li>To increase the performance of your model, you can also experiment with with feature engineering like :</li>\n",
    "            <ul>\n",
    "            <li>Taking length of reviews as another feature.</li>\n",
    "            <li>Considering some features from review summary as well.</li>\n",
    "        </ul>\n",
    "        </ul>\n",
    "    </li>\n",
    "    <br>\n",
    "    <li><strong>Representation of results</strong>\n",
    "        <ul>\n",
    "    <li>You need to plot the performance of model both on train data and cross validation data for each hyper parameter, like shown in the figure.\n",
    "    <img src='train_cv_auc.JPG' width=300px></li>\n",
    "    <li>Once after you found the best hyper parameter, you need to train your model with it, and find the AUC on test data and plot the ROC curve on both train and test.\n",
    "    <img src='train_test_auc.JPG' width=300px></li>\n",
    "    <li>Along with plotting ROC curve, you need to print the <a href='https://www.appliedaicourse.com/course/applied-ai-course-online/lessons/confusion-matrix-tpr-fpr-fnr-tnr-1/'>confusion matrix</a> with predicted and original labels of test data points. Please visualize your confusion matrices using <a href='https://seaborn.pydata.org/generated/seaborn.heatmap.html'>seaborn heatmaps.\n",
    "    <img src='confusion_matrix.png' width=300px></li>\n",
    "        </ul>\n",
    "    </li>\n",
    "    <br>\n",
    "    <li><strong>Conclusion</strong>\n",
    "        <ul>\n",
    "    <li>You need to summarize the results at the end of the notebook, summarize it in the table format. To print out a table please refer to this prettytable library<a href='http://zetcode.com/python/prettytable/'>  link</a> \n",
    "        <img src='summary.JPG' width=400px>\n",
    "    </li>\n",
    "        </ul>\n",
    "</ol>"
   ]
  },
  {
   "cell_type": "markdown",
   "metadata": {
    "colab_type": "text",
    "id": "uqhvv_IiiWOs"
   },
   "source": [
    "<h4><font color='red'>Note: Data Leakage</font></h4>\n",
    "\n",
    "1. There will be an issue of data-leakage if you vectorize the entire data and then split it into train/cv/test.\n",
    "2. To avoid the issue of data-leakag, make sure to split your data first and then vectorize it. \n",
    "3. While vectorizing your data, apply the method fit_transform() on you train data, and apply the method transform() on cv/test data.\n",
    "4. For more details please go through this <a href='https://soundcloud.com/applied-ai-course/leakage-bow-and-tfidf'>link.</a>"
   ]
  },
  {
   "cell_type": "code",
   "execution_count": 20,
   "metadata": {},
   "outputs": [],
   "source": [
    "#Helper function to print heatmap from confusionmatrix. \n",
    "#Source: https://gist.github.com/shaypal5/94c53d765083101efc0240d776a23823\n",
    "\n",
    "def print_confusion_matrix(confusion_matrix, class_names, figsize = (10,7), fontsize=14):\n",
    "    \"\"\"Prints a confusion matrix, as returned by sklearn.metrics.confusion_matrix, as a heatmap.\n",
    "    \n",
    "    Arguments\n",
    "    ---------\n",
    "    confusion_matrix: numpy.ndarray\n",
    "        The numpy.ndarray object returned from a call to sklearn.metrics.confusion_matrix. \n",
    "        Similarly constructed ndarrays can also be used.\n",
    "    class_names: list\n",
    "        An ordered list of class names, in the order they index the given confusion matrix.\n",
    "    figsize: tuple\n",
    "        A 2-long tuple, the first value determining the horizontal size of the ouputted figure,\n",
    "        the second determining the vertical size. Defaults to (10,7).\n",
    "    fontsize: int\n",
    "        Font size for axes labels. Defaults to 14.\n",
    "        \n",
    "    Returns\n",
    "    -------\n",
    "    matplotlib.figure.Figure\n",
    "        The resulting confusion matrix figure\n",
    "    \"\"\"\n",
    "    df_cm = pd.DataFrame(\n",
    "        confusion_matrix, index=class_names, columns=class_names, \n",
    "    )\n",
    "    fig = plt.figure(figsize=figsize)\n",
    "    try:\n",
    "        heatmap = sns.heatmap(df_cm, annot=True, fmt=\"d\")\n",
    "    except ValueError:\n",
    "        raise ValueError(\"Confusion matrix values must be integers.\")\n",
    "    heatmap.yaxis.set_ticklabels(heatmap.yaxis.get_ticklabels(), rotation=0, ha='right', fontsize=fontsize)\n",
    "    heatmap.xaxis.set_ticklabels(heatmap.xaxis.get_ticklabels(), rotation=45, ha='right', fontsize=fontsize)\n",
    "    plt.ylabel('True label')\n",
    "    plt.xlabel('Predicted label')\n",
    "    #return fig"
   ]
  },
  {
   "cell_type": "markdown",
   "metadata": {
    "colab_type": "text",
    "id": "ayLYlocviWOs"
   },
   "source": [
    "# Applying Decision Trees"
   ]
  },
  {
   "cell_type": "markdown",
   "metadata": {
    "colab_type": "text",
    "id": "fvKQwJMWiWOt"
   },
   "source": [
    "## [5.1] Applying Decision Trees on BOW,<font color='red'> SET 1</font>"
   ]
  },
  {
   "cell_type": "code",
   "execution_count": 21,
   "metadata": {},
   "outputs": [
    {
     "name": "stderr",
     "output_type": "stream",
     "text": [
      "/home/rishiraj/.local/lib/python3.6/site-packages/sklearn/cross_validation.py:41: DeprecationWarning: This module was deprecated in version 0.18 in favor of the model_selection module into which all the refactored classes and functions are moved. Also note that the interface of the new CV iterators are different from that of this module. This module will be removed in 0.20.\n",
      "  \"This module will be removed in 0.20.\", DeprecationWarning)\n",
      "/home/rishiraj/.local/lib/python3.6/site-packages/sklearn/grid_search.py:42: DeprecationWarning: This module was deprecated in version 0.18 in favor of the model_selection module into which all the refactored classes and functions are moved. This module will be removed in 0.20.\n",
      "  DeprecationWarning)\n"
     ]
    },
    {
     "name": "stdout",
     "output_type": "stream",
     "text": [
      "Optimal Depth for Train Data =  500\n",
      "Optimal Depth for CV Data =  50\n"
     ]
    },
    {
     "data": {
      "image/png": "[encoded data removed]",
      "text/plain": [
       "<Figure size 432x288 with 1 Axes>"
      ]
     },
     "metadata": {},
     "output_type": "display_data"
    },
    {
     "name": "stdout",
     "output_type": "stream",
     "text": [
      "Optimal Minimum Sample Split for Train Data =  502\n",
      "Optimal Minimum Sample Split for CV Data =  500\n"
     ]
    },
    {
     "data": {
      "image/png": "[encoded data removed]",
      "text/plain": [
       "<Figure size 432x288 with 1 Axes>"
      ]
     },
     "metadata": {},
     "output_type": "display_data"
    },
    {
     "data": {
      "image/png": "[encoded data removed]",
      "text/plain": [
       "<Figure size 432x288 with 1 Axes>"
      ]
     },
     "metadata": {},
     "output_type": "display_data"
    },
    {
     "name": "stdout",
     "output_type": "stream",
     "text": [
      "The AUC Score on Test data =  0.6944177366066185\n"
     ]
    },
    {
     "data": {
      "image/png": "[encoded data removed]",
      "text/plain": [
       "<Figure size 720x504 with 2 Axes>"
      ]
     },
     "metadata": {},
     "output_type": "display_data"
    }
   ],
   "source": [
    "# Please write all the code with proper documentation\n",
    "from sklearn.cross_validation import train_test_split\n",
    "from sklearn.metrics import accuracy_score\n",
    "from sklearn.cross_validation import cross_val_score\n",
    "from sklearn import cross_validation\n",
    "from sklearn.metrics import confusion_matrix\n",
    "from sklearn import metrics\n",
    "from sklearn.metrics import roc_curve, auc\n",
    "import graphviz\n",
    "from sklearn import tree\n",
    "from matplotlib.legend_handler import HandlerLine2D\n",
    "from sklearn import cross_validation\n",
    "from sklearn.grid_search import GridSearchCV\n",
    "\n",
    "#Train Test Split Before Vectorizing. This is to prevent Data Leakage\n",
    "X_train, X_test, y_train, y_test = cross_validation.train_test_split(preprocessed_reviews, final['Score'], test_size=0.3, random_state=0)\n",
    "\n",
    "#Splitting X_train again into X_train and X_val.\n",
    "X_train, X_val, y_train, y_val = cross_validation.train_test_split(X_train, y_train, test_size=0.3, random_state=0)\n",
    "\n",
    "\n",
    "#BoW On Training Data, CV Data and Test Data\n",
    "count_vect = CountVectorizer() \n",
    "final_counts_train = count_vect.fit_transform(X_train)\n",
    "final_counts_val = count_vect.transform(X_val)\n",
    "final_counts_test = count_vect.transform(X_test)\n",
    "#BOW Data Features\n",
    "bow_features = count_vect.get_feature_names()\n",
    "\n",
    "\n",
    "min_samples_splits = [5, 10, 100, 500, 501, 502, 503]\n",
    "max_depths = [1, 5, 10, 50, 100, 500, 100]\n",
    "train_results = []\n",
    "cv_results = []\n",
    "max_roc_auc_train = 0\n",
    "max_roc_auc_cv = 0\n",
    "optimalMinSSplitTrain = 0\n",
    "optimalMinSSplitCV = 0\n",
    "for max_depth, min_samples_split in zip(max_depths, min_samples_splits):\n",
    "    clf = tree.DecisionTreeClassifier(min_samples_split=min_samples_split, max_depth=max_depth)\n",
    "    clf.fit(final_counts_train, y_train)\n",
    "    false_positive_rate, true_positive_rate, thresholds = roc_curve(y_train, clf.predict_proba(final_counts_train)[:,1])\n",
    "    roc_auc_train = auc(false_positive_rate, true_positive_rate)\n",
    "    \n",
    "    #store the optimal depth and the corresponding AUC score\n",
    "    if roc_auc_train > max_roc_auc_train:\n",
    "        max_roc_auc_train = roc_auc_train\n",
    "        optimalMinSSplitTrain = min_samples_split\n",
    "        optimalDepthTrain = max_depth\n",
    "    # Add auc score to previous train results\n",
    "    train_results.append(roc_auc_train)\n",
    "    \n",
    "   \n",
    "    false_positive_rate, true_positive_rate, thresholds = roc_curve(y_val, clf.predict_proba(final_counts_val)[:,1])\n",
    "    roc_auc_cv = auc(false_positive_rate, true_positive_rate)\n",
    "    #store the optimal depth and the corresponding AUC score\n",
    "    if roc_auc_cv > max_roc_auc_cv:\n",
    "        max_roc_auc_cv = roc_auc_cv\n",
    "        optimalMinSSplitCV = min_samples_split\n",
    "        optimalDepthCV = max_depth\n",
    "    # Add auc score to previous test results\n",
    "    cv_results.append(roc_auc_cv)\n",
    "    \n",
    "print(\"Optimal Depth for Train Data = \",optimalDepthTrain)\n",
    "print(\"Optimal Depth for CV Data = \",optimalDepthCV)\n",
    "line1, = plt.plot(max_depths, train_results, 'b', label=\"Train AUC\")\n",
    "line2, = plt.plot(max_depths, cv_results, 'r', label=\"CV AUC\")\n",
    "plt.legend(handler_map={line1: HandlerLine2D(numpoints=2)})\n",
    "plt.ylabel('AUC Score')\n",
    "plt.xlabel('Tree Depth')\n",
    "plt.show()\n",
    "\n",
    "print(\"Optimal Minimum Sample Split for Train Data = \",optimalMinSSplitTrain)\n",
    "print(\"Optimal Minimum Sample Split for CV Data = \",optimalMinSSplitCV)\n",
    "line1, = plt.plot(min_samples_splits, train_results, 'b', label=\"Train AUC\")\n",
    "line2, = plt.plot(min_samples_splits, cv_results, 'r', label=\"Test AUC\")\n",
    "plt.legend(handler_map={line1: HandlerLine2D(numpoints=2)})\n",
    "plt.ylabel('AUC Score')\n",
    "plt.xlabel('Tree Depth')\n",
    "plt.show()\n",
    "\n",
    "\n",
    "#Finding Model Performance based on optimal parameters found above. We will plot the ROC and show the confusion matrix\n",
    "#Training with optimal parameters\n",
    "clff = tree.DecisionTreeClassifier(max_depth=optimalDepthCV, min_samples_split=optimalMinSSplitCV)\n",
    "clff = clff.fit(final_counts_train, y_train)\n",
    "#Prediction on train and test data\n",
    "train_pred = clff.predict(final_counts_train)\n",
    "y_pred = clff.predict(final_counts_test)\n",
    "#ROC for training data\n",
    "false_positive_rateTr, true_positive_rateTr, thresholdsTr = roc_curve(y_train, train_pred)\n",
    "#ROC for test data\n",
    "false_positive_rate, true_positive_rate, thresholds = roc_curve(y_test, y_pred)\n",
    "#Plot ROC for train/test\n",
    "line1, = plt.plot(false_positive_rateTr, true_positive_rateTr, 'green', label=\"Train ROC\")\n",
    "line2, = plt.plot(false_positive_rate, true_positive_rate, 'darkorange', label=\"Test ROC\")\n",
    "plt.legend(handler_map={line1: HandlerLine2D(numpoints=2)})\n",
    "plt.ylabel('TPR')\n",
    "plt.xlabel('FPR')\n",
    "plt.show()\n",
    "#Finding the AUC Score on test data and printing Confusion Matrix\n",
    "roc_auc = auc(false_positive_rate, true_positive_rate)\n",
    "print(\"The AUC Score on Test data = \",roc_auc)\n",
    "cfs_matrix = confusion_matrix(y_test.values, y_pred)\n",
    "class_names = ['True', 'False']\n",
    "print_confusion_matrix(cfs_matrix, class_names, figsize = (10,7), fontsize=14)"
   ]
  },
  {
   "cell_type": "markdown",
   "metadata": {
    "colab_type": "text",
    "id": "jm4vkPwMiWOu"
   },
   "source": [
    "### [5.1.1] Top 20 important features from<font color='red'> SET 1</font>"
   ]
  },
  {
   "cell_type": "code",
   "execution_count": 22,
   "metadata": {
    "colab": {},
    "colab_type": "code",
    "id": "puCcjOAkiWOv"
   },
   "outputs": [
    {
     "name": "stdout",
     "output_type": "stream",
     "text": [
      "[('not', 0.09455977810245698), ('great', 0.0566599941553764), ('worst', 0.0357411095353704), ('horrible', 0.034519518951094376), ('disappointed', 0.033500494356707995), ('money', 0.02727104805114298), ('terrible', 0.026518580658857465), ('best', 0.023402711184239637), ('delicious', 0.020406069459347816), ('awful', 0.019897741504848798), ('good', 0.018352083267003196), ('disappointing', 0.01790432670891988), ('love', 0.016028676551014722), ('waste', 0.015125620457458619), ('return', 0.013689081966489488), ('loves', 0.013542381294974625), ('perfect', 0.012362230492368498), ('nice', 0.011797557265327328), ('threw', 0.010451380418006206), ('unfortunately', 0.009317478381355404)]\n"
     ]
    }
   ],
   "source": [
    "# Please write all the code with proper documentation\n",
    "\n",
    "dictSet1 = dict(zip(bow_features, clff.feature_importances_))\n",
    "dictSet1RSorted = sorted(dictSet1.items(), key=lambda kv: kv[1], reverse=True)\n",
    "print(dictSet1RSorted[0:20])"
   ]
  },
  {
   "cell_type": "markdown",
   "metadata": {
    "colab_type": "text",
    "id": "7JyitDTTiWOx"
   },
   "source": [
    "### [5.1.2] Graphviz visualization of Decision Tree on BOW,<font color='red'> SET 1</font>"
   ]
  },
  {
   "cell_type": "code",
   "execution_count": 23,
   "metadata": {
    "colab": {},
    "colab_type": "code",
    "id": "-jxU7zrAiWOy",
    "scrolled": false
   },
   "outputs": [
    {
     "data": {
      "image/svg+xml": [
       "<?xml version=\"1.0\" encoding=\"UTF-8\" standalone=\"no\"?>\n",
       "<!DOCTYPE svg PUBLIC \"-//W3C//DTD SVG 1.1//EN\"\n",
       " \"http://www.w3.org/Graphics/SVG/1.1/DTD/svg11.dtd\">\n",
       "<!-- Generated by graphviz version 2.40.1 (20161225.0304)\n",
       " -->\n",
       "<!-- Title: Tree Pages: 1 -->\n",
       "<svg width=\"1258pt\" height=\"758pt\"\n",
       " viewBox=\"0.00 0.00 1258.00 758.00\" xmlns=\"http://www.w3.org/2000/svg\" xmlns:xlink=\"http://www.w3.org/1999/xlink\">\n",
       "<g id=\"graph0\" class=\"graph\" transform=\"scale(1 1) rotate(0) translate(4 754)\">\n",
       "<title>Tree</title>\n",
       "<polygon fill=\"#ffffff\" stroke=\"transparent\" points=\"-4,4 -4,-754 1254,-754 1254,4 -4,4\"/>\n",
       "<!-- 0 -->\n",
       "<g id=\"node1\" class=\"node\">\n",
       "<title>0</title>\n",
       "<path fill=\"#399de5\" fill-opacity=\"0.803922\" stroke=\"#000000\" d=\"M762,-750C762,-750 639,-750 639,-750 633,-750 627,-744 627,-738 627,-738 627,-679 627,-679 627,-673 633,-667 639,-667 639,-667 762,-667 762,-667 768,-667 774,-673 774,-679 774,-679 774,-738 774,-738 774,-744 768,-750 762,-750\"/>\n",
       "<text text-anchor=\"start\" x=\"673.5\" y=\"-734.8\" font-family=\"Helvetica,sans-Serif\" font-size=\"14.00\" fill=\"#000000\">not ≤ 0.5</text>\n",
       "<text text-anchor=\"start\" x=\"665\" y=\"-719.8\" font-family=\"Helvetica,sans-Serif\" font-size=\"14.00\" fill=\"#000000\">gini = 0.274</text>\n",
       "<text text-anchor=\"start\" x=\"648\" y=\"-704.8\" font-family=\"Helvetica,sans-Serif\" font-size=\"14.00\" fill=\"#000000\">samples = 43008</text>\n",
       "<text text-anchor=\"start\" x=\"635\" y=\"-689.8\" font-family=\"Helvetica,sans-Serif\" font-size=\"14.00\" fill=\"#000000\">value = [7040, 35968]</text>\n",
       "<text text-anchor=\"start\" x=\"673\" y=\"-674.8\" font-family=\"Helvetica,sans-Serif\" font-size=\"14.00\" fill=\"#000000\">class = 1</text>\n",
       "</g>\n",
       "<!-- 1 -->\n",
       "<g id=\"node2\" class=\"node\">\n",
       "<title>1</title>\n",
       "<path fill=\"#399de5\" fill-opacity=\"0.905882\" stroke=\"#000000\" d=\"M680,-631C680,-631 557,-631 557,-631 551,-631 545,-625 545,-619 545,-619 545,-560 545,-560 545,-554 551,-548 557,-548 557,-548 680,-548 680,-548 686,-548 692,-554 692,-560 692,-560 692,-619 692,-619 692,-625 686,-631 680,-631\"/>\n",
       "<text text-anchor=\"start\" x=\"585\" y=\"-615.8\" font-family=\"Helvetica,sans-Serif\" font-size=\"14.00\" fill=\"#000000\">worst ≤ 0.5</text>\n",
       "<text text-anchor=\"start\" x=\"583\" y=\"-600.8\" font-family=\"Helvetica,sans-Serif\" font-size=\"14.00\" fill=\"#000000\">gini = 0.159</text>\n",
       "<text text-anchor=\"start\" x=\"566\" y=\"-585.8\" font-family=\"Helvetica,sans-Serif\" font-size=\"14.00\" fill=\"#000000\">samples = 19514</text>\n",
       "<text text-anchor=\"start\" x=\"553\" y=\"-570.8\" font-family=\"Helvetica,sans-Serif\" font-size=\"14.00\" fill=\"#000000\">value = [1700, 17814]</text>\n",
       "<text text-anchor=\"start\" x=\"591\" y=\"-555.8\" font-family=\"Helvetica,sans-Serif\" font-size=\"14.00\" fill=\"#000000\">class = 1</text>\n",
       "</g>\n",
       "<!-- 0&#45;&gt;1 -->\n",
       "<g id=\"edge1\" class=\"edge\">\n",
       "<title>0&#45;&gt;1</title>\n",
       "<path fill=\"none\" stroke=\"#000000\" d=\"M671.8204,-666.8796C665.7385,-658.0534 659.2578,-648.6485 652.9859,-639.5466\"/>\n",
       "<polygon fill=\"#000000\" stroke=\"#000000\" points=\"655.8582,-637.5465 647.302,-631.2981 650.0941,-641.5184 655.8582,-637.5465\"/>\n",
       "<text text-anchor=\"middle\" x=\"642.7761\" y=\"-652.185\" font-family=\"Helvetica,sans-Serif\" font-size=\"14.00\" fill=\"#000000\">True</text>\n",
       "</g>\n",
       "<!-- 358 -->\n",
       "<g id=\"node13\" class=\"node\">\n",
       "<title>358</title>\n",
       "<path fill=\"#399de5\" fill-opacity=\"0.705882\" stroke=\"#000000\" d=\"M845,-631C845,-631 722,-631 722,-631 716,-631 710,-625 710,-619 710,-619 710,-560 710,-560 710,-554 716,-548 722,-548 722,-548 845,-548 845,-548 851,-548 857,-554 857,-560 857,-560 857,-619 857,-619 857,-625 851,-631 845,-631\"/>\n",
       "<text text-anchor=\"start\" x=\"750.5\" y=\"-615.8\" font-family=\"Helvetica,sans-Serif\" font-size=\"14.00\" fill=\"#000000\">great ≤ 0.5</text>\n",
       "<text text-anchor=\"start\" x=\"748\" y=\"-600.8\" font-family=\"Helvetica,sans-Serif\" font-size=\"14.00\" fill=\"#000000\">gini = 0.351</text>\n",
       "<text text-anchor=\"start\" x=\"731\" y=\"-585.8\" font-family=\"Helvetica,sans-Serif\" font-size=\"14.00\" fill=\"#000000\">samples = 23494</text>\n",
       "<text text-anchor=\"start\" x=\"718\" y=\"-570.8\" font-family=\"Helvetica,sans-Serif\" font-size=\"14.00\" fill=\"#000000\">value = [5340, 18154]</text>\n",
       "<text text-anchor=\"start\" x=\"756\" y=\"-555.8\" font-family=\"Helvetica,sans-Serif\" font-size=\"14.00\" fill=\"#000000\">class = 1</text>\n",
       "</g>\n",
       "<!-- 0&#45;&gt;358 -->\n",
       "<g id=\"edge12\" class=\"edge\">\n",
       "<title>0&#45;&gt;358</title>\n",
       "<path fill=\"none\" stroke=\"#000000\" d=\"M729.5294,-666.8796C735.6855,-658.0534 742.2451,-648.6485 748.5936,-639.5466\"/>\n",
       "<polygon fill=\"#000000\" stroke=\"#000000\" points=\"751.4967,-641.5024 754.3467,-631.2981 745.7552,-637.4978 751.4967,-641.5024\"/>\n",
       "<text text-anchor=\"middle\" x=\"758.7331\" y=\"-652.2103\" font-family=\"Helvetica,sans-Serif\" font-size=\"14.00\" fill=\"#000000\">False</text>\n",
       "</g>\n",
       "<!-- 2 -->\n",
       "<g id=\"node3\" class=\"node\">\n",
       "<title>2</title>\n",
       "<path fill=\"#399de5\" fill-opacity=\"0.909804\" stroke=\"#000000\" d=\"M534,-512C534,-512 411,-512 411,-512 405,-512 399,-506 399,-500 399,-500 399,-441 399,-441 399,-435 405,-429 411,-429 411,-429 534,-429 534,-429 540,-429 546,-435 546,-441 546,-441 546,-500 546,-500 546,-506 540,-512 534,-512\"/>\n",
       "<text text-anchor=\"start\" x=\"416.5\" y=\"-496.8\" font-family=\"Helvetica,sans-Serif\" font-size=\"14.00\" fill=\"#000000\">disappointed ≤ 0.5</text>\n",
       "<text text-anchor=\"start\" x=\"437\" y=\"-481.8\" font-family=\"Helvetica,sans-Serif\" font-size=\"14.00\" fill=\"#000000\">gini = 0.154</text>\n",
       "<text text-anchor=\"start\" x=\"420\" y=\"-466.8\" font-family=\"Helvetica,sans-Serif\" font-size=\"14.00\" fill=\"#000000\">samples = 19443</text>\n",
       "<text text-anchor=\"start\" x=\"407\" y=\"-451.8\" font-family=\"Helvetica,sans-Serif\" font-size=\"14.00\" fill=\"#000000\">value = [1639, 17804]</text>\n",
       "<text text-anchor=\"start\" x=\"445\" y=\"-436.8\" font-family=\"Helvetica,sans-Serif\" font-size=\"14.00\" fill=\"#000000\">class = 1</text>\n",
       "</g>\n",
       "<!-- 1&#45;&gt;2 -->\n",
       "<g id=\"edge2\" class=\"edge\">\n",
       "<title>1&#45;&gt;2</title>\n",
       "<path fill=\"none\" stroke=\"#000000\" d=\"M567.4363,-547.8796C555.9445,-538.513 543.6532,-528.4948 531.855,-518.8784\"/>\n",
       "<polygon fill=\"#000000\" stroke=\"#000000\" points=\"533.7444,-515.903 523.7817,-512.2981 529.3218,-521.329 533.7444,-515.903\"/>\n",
       "</g>\n",
       "<!-- 357 -->\n",
       "<g id=\"node12\" class=\"node\">\n",
       "<title>357</title>\n",
       "<path fill=\"#e58139\" fill-opacity=\"0.835294\" stroke=\"#000000\" d=\"M662.5,-504.5C662.5,-504.5 576.5,-504.5 576.5,-504.5 570.5,-504.5 564.5,-498.5 564.5,-492.5 564.5,-492.5 564.5,-448.5 564.5,-448.5 564.5,-442.5 570.5,-436.5 576.5,-436.5 576.5,-436.5 662.5,-436.5 662.5,-436.5 668.5,-436.5 674.5,-442.5 674.5,-448.5 674.5,-448.5 674.5,-492.5 674.5,-492.5 674.5,-498.5 668.5,-504.5 662.5,-504.5\"/>\n",
       "<text text-anchor=\"start\" x=\"584\" y=\"-489.3\" font-family=\"Helvetica,sans-Serif\" font-size=\"14.00\" fill=\"#000000\">gini = 0.242</text>\n",
       "<text text-anchor=\"start\" x=\"578.5\" y=\"-474.3\" font-family=\"Helvetica,sans-Serif\" font-size=\"14.00\" fill=\"#000000\">samples = 71</text>\n",
       "<text text-anchor=\"start\" x=\"572.5\" y=\"-459.3\" font-family=\"Helvetica,sans-Serif\" font-size=\"14.00\" fill=\"#000000\">value = [61, 10]</text>\n",
       "<text text-anchor=\"start\" x=\"592\" y=\"-444.3\" font-family=\"Helvetica,sans-Serif\" font-size=\"14.00\" fill=\"#000000\">class = 0</text>\n",
       "</g>\n",
       "<!-- 1&#45;&gt;357 -->\n",
       "<g id=\"edge11\" class=\"edge\">\n",
       "<title>1&#45;&gt;357</title>\n",
       "<path fill=\"none\" stroke=\"#000000\" d=\"M618.8498,-547.8796C618.9394,-537.2134 619.0361,-525.7021 619.1269,-514.9015\"/>\n",
       "<polygon fill=\"#000000\" stroke=\"#000000\" points=\"622.6274,-514.844 619.2116,-504.8149 615.6276,-514.7851 622.6274,-514.844\"/>\n",
       "</g>\n",
       "<!-- 3 -->\n",
       "<g id=\"node4\" class=\"node\">\n",
       "<title>3</title>\n",
       "<path fill=\"#399de5\" fill-opacity=\"0.913725\" stroke=\"#000000\" d=\"M385,-393C385,-393 262,-393 262,-393 256,-393 250,-387 250,-381 250,-381 250,-322 250,-322 250,-316 256,-310 262,-310 262,-310 385,-310 385,-310 391,-310 397,-316 397,-322 397,-322 397,-381 397,-381 397,-387 391,-393 385,-393\"/>\n",
       "<text text-anchor=\"start\" x=\"290\" y=\"-377.8\" font-family=\"Helvetica,sans-Serif\" font-size=\"14.00\" fill=\"#000000\">awful ≤ 0.5</text>\n",
       "<text text-anchor=\"start\" x=\"288\" y=\"-362.8\" font-family=\"Helvetica,sans-Serif\" font-size=\"14.00\" fill=\"#000000\">gini = 0.147</text>\n",
       "<text text-anchor=\"start\" x=\"271\" y=\"-347.8\" font-family=\"Helvetica,sans-Serif\" font-size=\"14.00\" fill=\"#000000\">samples = 19240</text>\n",
       "<text text-anchor=\"start\" x=\"258\" y=\"-332.8\" font-family=\"Helvetica,sans-Serif\" font-size=\"14.00\" fill=\"#000000\">value = [1532, 17708]</text>\n",
       "<text text-anchor=\"start\" x=\"296\" y=\"-317.8\" font-family=\"Helvetica,sans-Serif\" font-size=\"14.00\" fill=\"#000000\">class = 1</text>\n",
       "</g>\n",
       "<!-- 2&#45;&gt;3 -->\n",
       "<g id=\"edge3\" class=\"edge\">\n",
       "<title>2&#45;&gt;3</title>\n",
       "<path fill=\"none\" stroke=\"#000000\" d=\"M420.387,-428.8796C408.4775,-419.368 395.7266,-409.1843 383.5156,-399.432\"/>\n",
       "<polygon fill=\"#000000\" stroke=\"#000000\" points=\"385.5816,-396.6027 375.5835,-393.0969 381.2132,-402.0724 385.5816,-396.6027\"/>\n",
       "</g>\n",
       "<!-- 356 -->\n",
       "<g id=\"node11\" class=\"node\">\n",
       "<title>356</title>\n",
       "<path fill=\"#e58139\" fill-opacity=\"0.101961\" stroke=\"#000000\" d=\"M520,-385.5C520,-385.5 427,-385.5 427,-385.5 421,-385.5 415,-379.5 415,-373.5 415,-373.5 415,-329.5 415,-329.5 415,-323.5 421,-317.5 427,-317.5 427,-317.5 520,-317.5 520,-317.5 526,-317.5 532,-323.5 532,-329.5 532,-329.5 532,-373.5 532,-373.5 532,-379.5 526,-385.5 520,-385.5\"/>\n",
       "<text text-anchor=\"start\" x=\"438\" y=\"-370.3\" font-family=\"Helvetica,sans-Serif\" font-size=\"14.00\" fill=\"#000000\">gini = 0.499</text>\n",
       "<text text-anchor=\"start\" x=\"428.5\" y=\"-355.3\" font-family=\"Helvetica,sans-Serif\" font-size=\"14.00\" fill=\"#000000\">samples = 203</text>\n",
       "<text text-anchor=\"start\" x=\"423\" y=\"-340.3\" font-family=\"Helvetica,sans-Serif\" font-size=\"14.00\" fill=\"#000000\">value = [107, 96]</text>\n",
       "<text text-anchor=\"start\" x=\"446\" y=\"-325.3\" font-family=\"Helvetica,sans-Serif\" font-size=\"14.00\" fill=\"#000000\">class = 0</text>\n",
       "</g>\n",
       "<!-- 2&#45;&gt;356 -->\n",
       "<g id=\"edge10\" class=\"edge\">\n",
       "<title>2&#45;&gt;356</title>\n",
       "<path fill=\"none\" stroke=\"#000000\" d=\"M472.8498,-428.8796C472.9394,-418.2134 473.0361,-406.7021 473.1269,-395.9015\"/>\n",
       "<polygon fill=\"#000000\" stroke=\"#000000\" points=\"476.6274,-395.844 473.2116,-385.8149 469.6276,-395.7851 476.6274,-395.844\"/>\n",
       "</g>\n",
       "<!-- 4 -->\n",
       "<g id=\"node5\" class=\"node\">\n",
       "<title>4</title>\n",
       "<path fill=\"#399de5\" fill-opacity=\"0.917647\" stroke=\"#000000\" d=\"M245,-274C245,-274 122,-274 122,-274 116,-274 110,-268 110,-262 110,-262 110,-203 110,-203 110,-197 116,-191 122,-191 122,-191 245,-191 245,-191 251,-191 257,-197 257,-203 257,-203 257,-262 257,-262 257,-268 251,-274 245,-274\"/>\n",
       "<text text-anchor=\"start\" x=\"126\" y=\"-258.8\" font-family=\"Helvetica,sans-Serif\" font-size=\"14.00\" fill=\"#000000\">disappointing ≤ 0.5</text>\n",
       "<text text-anchor=\"start\" x=\"148\" y=\"-243.8\" font-family=\"Helvetica,sans-Serif\" font-size=\"14.00\" fill=\"#000000\">gini = 0.142</text>\n",
       "<text text-anchor=\"start\" x=\"131\" y=\"-228.8\" font-family=\"Helvetica,sans-Serif\" font-size=\"14.00\" fill=\"#000000\">samples = 19167</text>\n",
       "<text text-anchor=\"start\" x=\"118\" y=\"-213.8\" font-family=\"Helvetica,sans-Serif\" font-size=\"14.00\" fill=\"#000000\">value = [1475, 17692]</text>\n",
       "<text text-anchor=\"start\" x=\"156\" y=\"-198.8\" font-family=\"Helvetica,sans-Serif\" font-size=\"14.00\" fill=\"#000000\">class = 1</text>\n",
       "</g>\n",
       "<!-- 3&#45;&gt;4 -->\n",
       "<g id=\"edge4\" class=\"edge\">\n",
       "<title>3&#45;&gt;4</title>\n",
       "<path fill=\"none\" stroke=\"#000000\" d=\"M274.5348,-309.8796C263.5153,-300.513 251.7291,-290.4948 240.4158,-280.8784\"/>\n",
       "<polygon fill=\"#000000\" stroke=\"#000000\" points=\"242.5604,-278.1078 232.6742,-274.2981 238.0268,-283.4414 242.5604,-278.1078\"/>\n",
       "</g>\n",
       "<!-- 355 -->\n",
       "<g id=\"node10\" class=\"node\">\n",
       "<title>355</title>\n",
       "<path fill=\"#e58139\" fill-opacity=\"0.717647\" stroke=\"#000000\" d=\"M373.5,-266.5C373.5,-266.5 287.5,-266.5 287.5,-266.5 281.5,-266.5 275.5,-260.5 275.5,-254.5 275.5,-254.5 275.5,-210.5 275.5,-210.5 275.5,-204.5 281.5,-198.5 287.5,-198.5 287.5,-198.5 373.5,-198.5 373.5,-198.5 379.5,-198.5 385.5,-204.5 385.5,-210.5 385.5,-210.5 385.5,-254.5 385.5,-254.5 385.5,-260.5 379.5,-266.5 373.5,-266.5\"/>\n",
       "<text text-anchor=\"start\" x=\"295\" y=\"-251.3\" font-family=\"Helvetica,sans-Serif\" font-size=\"14.00\" fill=\"#000000\">gini = 0.342</text>\n",
       "<text text-anchor=\"start\" x=\"289.5\" y=\"-236.3\" font-family=\"Helvetica,sans-Serif\" font-size=\"14.00\" fill=\"#000000\">samples = 73</text>\n",
       "<text text-anchor=\"start\" x=\"283.5\" y=\"-221.3\" font-family=\"Helvetica,sans-Serif\" font-size=\"14.00\" fill=\"#000000\">value = [57, 16]</text>\n",
       "<text text-anchor=\"start\" x=\"303\" y=\"-206.3\" font-family=\"Helvetica,sans-Serif\" font-size=\"14.00\" fill=\"#000000\">class = 0</text>\n",
       "</g>\n",
       "<!-- 3&#45;&gt;355 -->\n",
       "<g id=\"edge9\" class=\"edge\">\n",
       "<title>3&#45;&gt;355</title>\n",
       "<path fill=\"none\" stroke=\"#000000\" d=\"M325.9483,-309.8796C326.5757,-299.2134 327.2528,-287.7021 327.8881,-276.9015\"/>\n",
       "<polygon fill=\"#000000\" stroke=\"#000000\" points=\"331.3881,-277.0032 328.4815,-266.8149 324.4002,-276.5921 331.3881,-277.0032\"/>\n",
       "</g>\n",
       "<!-- 5 -->\n",
       "<g id=\"node6\" class=\"node\">\n",
       "<title>5</title>\n",
       "<path fill=\"#399de5\" fill-opacity=\"0.917647\" stroke=\"#000000\" d=\"M135,-155C135,-155 12,-155 12,-155 6,-155 0,-149 0,-143 0,-143 0,-84 0,-84 0,-78 6,-72 12,-72 12,-72 135,-72 135,-72 141,-72 147,-78 147,-84 147,-84 147,-143 147,-143 147,-149 141,-155 135,-155\"/>\n",
       "<text text-anchor=\"start\" x=\"39.5\" y=\"-139.8\" font-family=\"Helvetica,sans-Serif\" font-size=\"14.00\" fill=\"#000000\">threw ≤ 0.5</text>\n",
       "<text text-anchor=\"start\" x=\"38\" y=\"-124.8\" font-family=\"Helvetica,sans-Serif\" font-size=\"14.00\" fill=\"#000000\">gini = 0.139</text>\n",
       "<text text-anchor=\"start\" x=\"21\" y=\"-109.8\" font-family=\"Helvetica,sans-Serif\" font-size=\"14.00\" fill=\"#000000\">samples = 19110</text>\n",
       "<text text-anchor=\"start\" x=\"8\" y=\"-94.8\" font-family=\"Helvetica,sans-Serif\" font-size=\"14.00\" fill=\"#000000\">value = [1431, 17679]</text>\n",
       "<text text-anchor=\"start\" x=\"46\" y=\"-79.8\" font-family=\"Helvetica,sans-Serif\" font-size=\"14.00\" fill=\"#000000\">class = 1</text>\n",
       "</g>\n",
       "<!-- 4&#45;&gt;5 -->\n",
       "<g id=\"edge5\" class=\"edge\">\n",
       "<title>4&#45;&gt;5</title>\n",
       "<path fill=\"none\" stroke=\"#000000\" d=\"M145.0273,-190.8796C136.6189,-181.7832 127.6424,-172.0722 118.9897,-162.7116\"/>\n",
       "<polygon fill=\"#000000\" stroke=\"#000000\" points=\"121.495,-160.2656 112.1369,-155.2981 116.3547,-165.0172 121.495,-160.2656\"/>\n",
       "</g>\n",
       "<!-- 354 -->\n",
       "<g id=\"node9\" class=\"node\">\n",
       "<title>354</title>\n",
       "<path fill=\"#e58139\" fill-opacity=\"0.705882\" stroke=\"#000000\" d=\"M263.5,-147.5C263.5,-147.5 177.5,-147.5 177.5,-147.5 171.5,-147.5 165.5,-141.5 165.5,-135.5 165.5,-135.5 165.5,-91.5 165.5,-91.5 165.5,-85.5 171.5,-79.5 177.5,-79.5 177.5,-79.5 263.5,-79.5 263.5,-79.5 269.5,-79.5 275.5,-85.5 275.5,-91.5 275.5,-91.5 275.5,-135.5 275.5,-135.5 275.5,-141.5 269.5,-147.5 263.5,-147.5\"/>\n",
       "<text text-anchor=\"start\" x=\"185\" y=\"-132.3\" font-family=\"Helvetica,sans-Serif\" font-size=\"14.00\" fill=\"#000000\">gini = 0.352</text>\n",
       "<text text-anchor=\"start\" x=\"179.5\" y=\"-117.3\" font-family=\"Helvetica,sans-Serif\" font-size=\"14.00\" fill=\"#000000\">samples = 57</text>\n",
       "<text text-anchor=\"start\" x=\"173.5\" y=\"-102.3\" font-family=\"Helvetica,sans-Serif\" font-size=\"14.00\" fill=\"#000000\">value = [44, 13]</text>\n",
       "<text text-anchor=\"start\" x=\"193\" y=\"-87.3\" font-family=\"Helvetica,sans-Serif\" font-size=\"14.00\" fill=\"#000000\">class = 0</text>\n",
       "</g>\n",
       "<!-- 4&#45;&gt;354 -->\n",
       "<g id=\"edge8\" class=\"edge\">\n",
       "<title>4&#45;&gt;354</title>\n",
       "<path fill=\"none\" stroke=\"#000000\" d=\"M196.4408,-190.8796C199.7914,-180.1034 203.4101,-168.4647 206.7983,-157.5677\"/>\n",
       "<polygon fill=\"#000000\" stroke=\"#000000\" points=\"210.2037,-158.4032 209.8307,-147.8149 203.5194,-156.3248 210.2037,-158.4032\"/>\n",
       "</g>\n",
       "<!-- 6 -->\n",
       "<g id=\"node7\" class=\"node\">\n",
       "<title>6</title>\n",
       "<path fill=\"#c0c0c0\" stroke=\"#000000\" d=\"M52.5,-36C52.5,-36 22.5,-36 22.5,-36 16.5,-36 10.5,-30 10.5,-24 10.5,-24 10.5,-12 10.5,-12 10.5,-6 16.5,0 22.5,0 22.5,0 52.5,0 52.5,0 58.5,0 64.5,-6 64.5,-12 64.5,-12 64.5,-24 64.5,-24 64.5,-30 58.5,-36 52.5,-36\"/>\n",
       "<text text-anchor=\"middle\" x=\"37.5\" y=\"-14.3\" font-family=\"Helvetica,sans-Serif\" font-size=\"14.00\" fill=\"#000000\">(...)</text>\n",
       "</g>\n",
       "<!-- 5&#45;&gt;6 -->\n",
       "<g id=\"edge6\" class=\"edge\">\n",
       "<title>5&#45;&gt;6</title>\n",
       "<path fill=\"none\" stroke=\"#000000\" d=\"M57.8146,-71.8901C54.4739,-63.0279 51.025,-53.8788 47.9386,-45.6913\"/>\n",
       "<polygon fill=\"#000000\" stroke=\"#000000\" points=\"51.1877,-44.3878 44.3853,-36.2651 44.6376,-46.8569 51.1877,-44.3878\"/>\n",
       "</g>\n",
       "<!-- 353 -->\n",
       "<g id=\"node8\" class=\"node\">\n",
       "<title>353</title>\n",
       "<path fill=\"#c0c0c0\" stroke=\"#000000\" d=\"M124.5,-36C124.5,-36 94.5,-36 94.5,-36 88.5,-36 82.5,-30 82.5,-24 82.5,-24 82.5,-12 82.5,-12 82.5,-6 88.5,0 94.5,0 94.5,0 124.5,0 124.5,0 130.5,0 136.5,-6 136.5,-12 136.5,-12 136.5,-24 136.5,-24 136.5,-30 130.5,-36 124.5,-36\"/>\n",
       "<text text-anchor=\"middle\" x=\"109.5\" y=\"-14.3\" font-family=\"Helvetica,sans-Serif\" font-size=\"14.00\" fill=\"#000000\">(...)</text>\n",
       "</g>\n",
       "<!-- 5&#45;&gt;353 -->\n",
       "<g id=\"edge7\" class=\"edge\">\n",
       "<title>5&#45;&gt;353</title>\n",
       "<path fill=\"none\" stroke=\"#000000\" d=\"M89.1854,-71.8901C92.5261,-63.0279 95.975,-53.8788 99.0614,-45.6913\"/>\n",
       "<polygon fill=\"#000000\" stroke=\"#000000\" points=\"102.3624,-46.8569 102.6147,-36.2651 95.8123,-44.3878 102.3624,-46.8569\"/>\n",
       "</g>\n",
       "<!-- 359 -->\n",
       "<g id=\"node14\" class=\"node\">\n",
       "<title>359</title>\n",
       "<path fill=\"#399de5\" fill-opacity=\"0.635294\" stroke=\"#000000\" d=\"M845,-512C845,-512 722,-512 722,-512 716,-512 710,-506 710,-500 710,-500 710,-441 710,-441 710,-435 716,-429 722,-429 722,-429 845,-429 845,-429 851,-429 857,-435 857,-441 857,-441 857,-500 857,-500 857,-506 851,-512 845,-512\"/>\n",
       "<text text-anchor=\"start\" x=\"745.5\" y=\"-496.8\" font-family=\"Helvetica,sans-Serif\" font-size=\"14.00\" fill=\"#000000\">money ≤ 0.5</text>\n",
       "<text text-anchor=\"start\" x=\"748\" y=\"-481.8\" font-family=\"Helvetica,sans-Serif\" font-size=\"14.00\" fill=\"#000000\">gini = 0.392</text>\n",
       "<text text-anchor=\"start\" x=\"731\" y=\"-466.8\" font-family=\"Helvetica,sans-Serif\" font-size=\"14.00\" fill=\"#000000\">samples = 18042</text>\n",
       "<text text-anchor=\"start\" x=\"718\" y=\"-451.8\" font-family=\"Helvetica,sans-Serif\" font-size=\"14.00\" fill=\"#000000\">value = [4836, 13206]</text>\n",
       "<text text-anchor=\"start\" x=\"756\" y=\"-436.8\" font-family=\"Helvetica,sans-Serif\" font-size=\"14.00\" fill=\"#000000\">class = 1</text>\n",
       "</g>\n",
       "<!-- 358&#45;&gt;359 -->\n",
       "<g id=\"edge13\" class=\"edge\">\n",
       "<title>358&#45;&gt;359</title>\n",
       "<path fill=\"none\" stroke=\"#000000\" d=\"M783.5,-547.8796C783.5,-539.6838 783.5,-530.9891 783.5,-522.5013\"/>\n",
       "<polygon fill=\"#000000\" stroke=\"#000000\" points=\"787.0001,-522.298 783.5,-512.2981 780.0001,-522.2981 787.0001,-522.298\"/>\n",
       "</g>\n",
       "<!-- 1034 -->\n",
       "<g id=\"node27\" class=\"node\">\n",
       "<title>1034</title>\n",
       "<path fill=\"#399de5\" fill-opacity=\"0.898039\" stroke=\"#000000\" d=\"M1102.5,-512C1102.5,-512 994.5,-512 994.5,-512 988.5,-512 982.5,-506 982.5,-500 982.5,-500 982.5,-441 982.5,-441 982.5,-435 988.5,-429 994.5,-429 994.5,-429 1102.5,-429 1102.5,-429 1108.5,-429 1114.5,-435 1114.5,-441 1114.5,-441 1114.5,-500 1114.5,-500 1114.5,-506 1108.5,-512 1102.5,-512\"/>\n",
       "<text text-anchor=\"start\" x=\"1008\" y=\"-496.8\" font-family=\"Helvetica,sans-Serif\" font-size=\"14.00\" fill=\"#000000\">reviews ≤ 0.5</text>\n",
       "<text text-anchor=\"start\" x=\"1013\" y=\"-481.8\" font-family=\"Helvetica,sans-Serif\" font-size=\"14.00\" fill=\"#000000\">gini = 0.168</text>\n",
       "<text text-anchor=\"start\" x=\"1000\" y=\"-466.8\" font-family=\"Helvetica,sans-Serif\" font-size=\"14.00\" fill=\"#000000\">samples = 5452</text>\n",
       "<text text-anchor=\"start\" x=\"990.5\" y=\"-451.8\" font-family=\"Helvetica,sans-Serif\" font-size=\"14.00\" fill=\"#000000\">value = [504, 4948]</text>\n",
       "<text text-anchor=\"start\" x=\"1021\" y=\"-436.8\" font-family=\"Helvetica,sans-Serif\" font-size=\"14.00\" fill=\"#000000\">class = 1</text>\n",
       "</g>\n",
       "<!-- 358&#45;&gt;1034 -->\n",
       "<g id=\"edge26\" class=\"edge\">\n",
       "<title>358&#45;&gt;1034</title>\n",
       "<path fill=\"none\" stroke=\"#000000\" d=\"M857.3173,-556.3519C893.3069,-540.1905 936.535,-520.7786 972.775,-504.5048\"/>\n",
       "<polygon fill=\"#000000\" stroke=\"#000000\" points=\"974.6242,-507.5112 982.3129,-500.2218 971.7567,-501.1254 974.6242,-507.5112\"/>\n",
       "</g>\n",
       "<!-- 360 -->\n",
       "<g id=\"node15\" class=\"node\">\n",
       "<title>360</title>\n",
       "<path fill=\"#399de5\" fill-opacity=\"0.658824\" stroke=\"#000000\" d=\"M689,-393C689,-393 566,-393 566,-393 560,-393 554,-387 554,-381 554,-381 554,-322 554,-322 554,-316 560,-310 566,-310 566,-310 689,-310 689,-310 695,-310 701,-316 701,-322 701,-322 701,-381 701,-381 701,-387 695,-393 689,-393\"/>\n",
       "<text text-anchor=\"start\" x=\"587.5\" y=\"-377.8\" font-family=\"Helvetica,sans-Serif\" font-size=\"14.00\" fill=\"#000000\">horrible ≤ 0.5</text>\n",
       "<text text-anchor=\"start\" x=\"595.5\" y=\"-362.8\" font-family=\"Helvetica,sans-Serif\" font-size=\"14.00\" fill=\"#000000\">gini = 0.38</text>\n",
       "<text text-anchor=\"start\" x=\"575\" y=\"-347.8\" font-family=\"Helvetica,sans-Serif\" font-size=\"14.00\" fill=\"#000000\">samples = 17324</text>\n",
       "<text text-anchor=\"start\" x=\"562\" y=\"-332.8\" font-family=\"Helvetica,sans-Serif\" font-size=\"14.00\" fill=\"#000000\">value = [4425, 12899]</text>\n",
       "<text text-anchor=\"start\" x=\"600\" y=\"-317.8\" font-family=\"Helvetica,sans-Serif\" font-size=\"14.00\" fill=\"#000000\">class = 1</text>\n",
       "</g>\n",
       "<!-- 359&#45;&gt;360 -->\n",
       "<g id=\"edge14\" class=\"edge\">\n",
       "<title>359&#45;&gt;360</title>\n",
       "<path fill=\"none\" stroke=\"#000000\" d=\"M728.9388,-428.8796C716.4698,-419.368 703.1198,-409.1843 690.3352,-399.432\"/>\n",
       "<polygon fill=\"#000000\" stroke=\"#000000\" points=\"692.104,-396.3792 682.0304,-393.0969 687.8585,-401.9448 692.104,-396.3792\"/>\n",
       "</g>\n",
       "<!-- 1029 -->\n",
       "<g id=\"node22\" class=\"node\">\n",
       "<title>1029</title>\n",
       "<path fill=\"#e58139\" fill-opacity=\"0.254902\" stroke=\"#000000\" d=\"M834,-393C834,-393 733,-393 733,-393 727,-393 721,-387 721,-381 721,-381 721,-322 721,-322 721,-316 727,-310 733,-310 733,-310 834,-310 834,-310 840,-310 846,-316 846,-322 846,-322 846,-381 846,-381 846,-387 840,-393 834,-393\"/>\n",
       "<text text-anchor=\"start\" x=\"748.5\" y=\"-377.8\" font-family=\"Helvetica,sans-Serif\" font-size=\"14.00\" fill=\"#000000\">waste ≤ 0.5</text>\n",
       "<text text-anchor=\"start\" x=\"751.5\" y=\"-362.8\" font-family=\"Helvetica,sans-Serif\" font-size=\"14.00\" fill=\"#000000\">gini = 0.49</text>\n",
       "<text text-anchor=\"start\" x=\"738.5\" y=\"-347.8\" font-family=\"Helvetica,sans-Serif\" font-size=\"14.00\" fill=\"#000000\">samples = 718</text>\n",
       "<text text-anchor=\"start\" x=\"729\" y=\"-332.8\" font-family=\"Helvetica,sans-Serif\" font-size=\"14.00\" fill=\"#000000\">value = [411, 307]</text>\n",
       "<text text-anchor=\"start\" x=\"756\" y=\"-317.8\" font-family=\"Helvetica,sans-Serif\" font-size=\"14.00\" fill=\"#000000\">class = 0</text>\n",
       "</g>\n",
       "<!-- 359&#45;&gt;1029 -->\n",
       "<g id=\"edge21\" class=\"edge\">\n",
       "<title>359&#45;&gt;1029</title>\n",
       "<path fill=\"none\" stroke=\"#000000\" d=\"M783.5,-428.8796C783.5,-420.6838 783.5,-411.9891 783.5,-403.5013\"/>\n",
       "<polygon fill=\"#000000\" stroke=\"#000000\" points=\"787.0001,-403.298 783.5,-393.2981 780.0001,-403.2981 787.0001,-403.298\"/>\n",
       "</g>\n",
       "<!-- 361 -->\n",
       "<g id=\"node16\" class=\"node\">\n",
       "<title>361</title>\n",
       "<path fill=\"#399de5\" fill-opacity=\"0.670588\" stroke=\"#000000\" d=\"M539,-274C539,-274 416,-274 416,-274 410,-274 404,-268 404,-262 404,-262 404,-203 404,-203 404,-197 410,-191 416,-191 416,-191 539,-191 539,-191 545,-191 551,-197 551,-203 551,-203 551,-262 551,-262 551,-268 545,-274 539,-274\"/>\n",
       "<text text-anchor=\"start\" x=\"439.5\" y=\"-258.8\" font-family=\"Helvetica,sans-Serif\" font-size=\"14.00\" fill=\"#000000\">terrible ≤ 0.5</text>\n",
       "<text text-anchor=\"start\" x=\"442\" y=\"-243.8\" font-family=\"Helvetica,sans-Serif\" font-size=\"14.00\" fill=\"#000000\">gini = 0.374</text>\n",
       "<text text-anchor=\"start\" x=\"425\" y=\"-228.8\" font-family=\"Helvetica,sans-Serif\" font-size=\"14.00\" fill=\"#000000\">samples = 17109</text>\n",
       "<text text-anchor=\"start\" x=\"412\" y=\"-213.8\" font-family=\"Helvetica,sans-Serif\" font-size=\"14.00\" fill=\"#000000\">value = [4255, 12854]</text>\n",
       "<text text-anchor=\"start\" x=\"450\" y=\"-198.8\" font-family=\"Helvetica,sans-Serif\" font-size=\"14.00\" fill=\"#000000\">class = 1</text>\n",
       "</g>\n",
       "<!-- 360&#45;&gt;361 -->\n",
       "<g id=\"edge15\" class=\"edge\">\n",
       "<title>360&#45;&gt;361</title>\n",
       "<path fill=\"none\" stroke=\"#000000\" d=\"M575.0373,-309.8796C563.0479,-300.368 550.2113,-290.1843 537.9184,-280.432\"/>\n",
       "<polygon fill=\"#000000\" stroke=\"#000000\" points=\"539.9425,-277.5701 529.9331,-274.0969 535.5919,-283.054 539.9425,-277.5701\"/>\n",
       "</g>\n",
       "<!-- 1028 -->\n",
       "<g id=\"node21\" class=\"node\">\n",
       "<title>1028</title>\n",
       "<path fill=\"#e58139\" fill-opacity=\"0.733333\" stroke=\"#000000\" d=\"M674,-266.5C674,-266.5 581,-266.5 581,-266.5 575,-266.5 569,-260.5 569,-254.5 569,-254.5 569,-210.5 569,-210.5 569,-204.5 575,-198.5 581,-198.5 581,-198.5 674,-198.5 674,-198.5 680,-198.5 686,-204.5 686,-210.5 686,-210.5 686,-254.5 686,-254.5 686,-260.5 680,-266.5 674,-266.5\"/>\n",
       "<text text-anchor=\"start\" x=\"592\" y=\"-251.3\" font-family=\"Helvetica,sans-Serif\" font-size=\"14.00\" fill=\"#000000\">gini = 0.331</text>\n",
       "<text text-anchor=\"start\" x=\"582.5\" y=\"-236.3\" font-family=\"Helvetica,sans-Serif\" font-size=\"14.00\" fill=\"#000000\">samples = 215</text>\n",
       "<text text-anchor=\"start\" x=\"577\" y=\"-221.3\" font-family=\"Helvetica,sans-Serif\" font-size=\"14.00\" fill=\"#000000\">value = [170, 45]</text>\n",
       "<text text-anchor=\"start\" x=\"600\" y=\"-206.3\" font-family=\"Helvetica,sans-Serif\" font-size=\"14.00\" fill=\"#000000\">class = 0</text>\n",
       "</g>\n",
       "<!-- 360&#45;&gt;1028 -->\n",
       "<g id=\"edge20\" class=\"edge\">\n",
       "<title>360&#45;&gt;1028</title>\n",
       "<path fill=\"none\" stroke=\"#000000\" d=\"M627.5,-309.8796C627.5,-299.2134 627.5,-287.7021 627.5,-276.9015\"/>\n",
       "<polygon fill=\"#000000\" stroke=\"#000000\" points=\"631.0001,-276.8149 627.5,-266.8149 624.0001,-276.815 631.0001,-276.8149\"/>\n",
       "</g>\n",
       "<!-- 362 -->\n",
       "<g id=\"node17\" class=\"node\">\n",
       "<title>362</title>\n",
       "<path fill=\"#399de5\" fill-opacity=\"0.678431\" stroke=\"#000000\" d=\"M502,-155C502,-155 379,-155 379,-155 373,-155 367,-149 367,-143 367,-143 367,-84 367,-84 367,-78 373,-72 379,-72 379,-72 502,-72 502,-72 508,-72 514,-78 514,-84 514,-84 514,-143 514,-143 514,-149 508,-155 502,-155\"/>\n",
       "<text text-anchor=\"start\" x=\"410\" y=\"-139.8\" font-family=\"Helvetica,sans-Serif\" font-size=\"14.00\" fill=\"#000000\">best ≤ 0.5</text>\n",
       "<text text-anchor=\"start\" x=\"405\" y=\"-124.8\" font-family=\"Helvetica,sans-Serif\" font-size=\"14.00\" fill=\"#000000\">gini = 0.368</text>\n",
       "<text text-anchor=\"start\" x=\"388\" y=\"-109.8\" font-family=\"Helvetica,sans-Serif\" font-size=\"14.00\" fill=\"#000000\">samples = 16916</text>\n",
       "<text text-anchor=\"start\" x=\"375\" y=\"-94.8\" font-family=\"Helvetica,sans-Serif\" font-size=\"14.00\" fill=\"#000000\">value = [4108, 12808]</text>\n",
       "<text text-anchor=\"start\" x=\"413\" y=\"-79.8\" font-family=\"Helvetica,sans-Serif\" font-size=\"14.00\" fill=\"#000000\">class = 1</text>\n",
       "</g>\n",
       "<!-- 361&#45;&gt;362 -->\n",
       "<g id=\"edge16\" class=\"edge\">\n",
       "<title>361&#45;&gt;362</title>\n",
       "<path fill=\"none\" stroke=\"#000000\" d=\"M464.5592,-190.8796C461.9549,-182.5037 459.1886,-173.6067 456.4946,-164.942\"/>\n",
       "<polygon fill=\"#000000\" stroke=\"#000000\" points=\"459.8073,-163.808 453.496,-155.2981 453.123,-165.8863 459.8073,-163.808\"/>\n",
       "</g>\n",
       "<!-- 1027 -->\n",
       "<g id=\"node20\" class=\"node\">\n",
       "<title>1027</title>\n",
       "<path fill=\"#e58139\" fill-opacity=\"0.686275\" stroke=\"#000000\" d=\"M637,-147.5C637,-147.5 544,-147.5 544,-147.5 538,-147.5 532,-141.5 532,-135.5 532,-135.5 532,-91.5 532,-91.5 532,-85.5 538,-79.5 544,-79.5 544,-79.5 637,-79.5 637,-79.5 643,-79.5 649,-85.5 649,-91.5 649,-91.5 649,-135.5 649,-135.5 649,-141.5 643,-147.5 637,-147.5\"/>\n",
       "<text text-anchor=\"start\" x=\"555\" y=\"-132.3\" font-family=\"Helvetica,sans-Serif\" font-size=\"14.00\" fill=\"#000000\">gini = 0.363</text>\n",
       "<text text-anchor=\"start\" x=\"545.5\" y=\"-117.3\" font-family=\"Helvetica,sans-Serif\" font-size=\"14.00\" fill=\"#000000\">samples = 193</text>\n",
       "<text text-anchor=\"start\" x=\"540\" y=\"-102.3\" font-family=\"Helvetica,sans-Serif\" font-size=\"14.00\" fill=\"#000000\">value = [147, 46]</text>\n",
       "<text text-anchor=\"start\" x=\"563\" y=\"-87.3\" font-family=\"Helvetica,sans-Serif\" font-size=\"14.00\" fill=\"#000000\">class = 0</text>\n",
       "</g>\n",
       "<!-- 361&#45;&gt;1027 -->\n",
       "<g id=\"edge19\" class=\"edge\">\n",
       "<title>361&#45;&gt;1027</title>\n",
       "<path fill=\"none\" stroke=\"#000000\" d=\"M517.0219,-190.8796C527.9857,-179.3337 539.8897,-166.7976 550.8601,-155.2446\"/>\n",
       "<polygon fill=\"#000000\" stroke=\"#000000\" points=\"553.5673,-157.4766 557.9152,-147.8149 548.4913,-152.6564 553.5673,-157.4766\"/>\n",
       "</g>\n",
       "<!-- 363 -->\n",
       "<g id=\"node18\" class=\"node\">\n",
       "<title>363</title>\n",
       "<path fill=\"#c0c0c0\" stroke=\"#000000\" d=\"M419.5,-36C419.5,-36 389.5,-36 389.5,-36 383.5,-36 377.5,-30 377.5,-24 377.5,-24 377.5,-12 377.5,-12 377.5,-6 383.5,0 389.5,0 389.5,0 419.5,0 419.5,0 425.5,0 431.5,-6 431.5,-12 431.5,-12 431.5,-24 431.5,-24 431.5,-30 425.5,-36 419.5,-36\"/>\n",
       "<text text-anchor=\"middle\" x=\"404.5\" y=\"-14.3\" font-family=\"Helvetica,sans-Serif\" font-size=\"14.00\" fill=\"#000000\">(...)</text>\n",
       "</g>\n",
       "<!-- 362&#45;&gt;363 -->\n",
       "<g id=\"edge17\" class=\"edge\">\n",
       "<title>362&#45;&gt;363</title>\n",
       "<path fill=\"none\" stroke=\"#000000\" d=\"M424.8146,-71.8901C421.4739,-63.0279 418.025,-53.8788 414.9386,-45.6913\"/>\n",
       "<polygon fill=\"#000000\" stroke=\"#000000\" points=\"418.1877,-44.3878 411.3853,-36.2651 411.6376,-46.8569 418.1877,-44.3878\"/>\n",
       "</g>\n",
       "<!-- 938 -->\n",
       "<g id=\"node19\" class=\"node\">\n",
       "<title>938</title>\n",
       "<path fill=\"#c0c0c0\" stroke=\"#000000\" d=\"M491.5,-36C491.5,-36 461.5,-36 461.5,-36 455.5,-36 449.5,-30 449.5,-24 449.5,-24 449.5,-12 449.5,-12 449.5,-6 455.5,0 461.5,0 461.5,0 491.5,0 491.5,0 497.5,0 503.5,-6 503.5,-12 503.5,-12 503.5,-24 503.5,-24 503.5,-30 497.5,-36 491.5,-36\"/>\n",
       "<text text-anchor=\"middle\" x=\"476.5\" y=\"-14.3\" font-family=\"Helvetica,sans-Serif\" font-size=\"14.00\" fill=\"#000000\">(...)</text>\n",
       "</g>\n",
       "<!-- 362&#45;&gt;938 -->\n",
       "<g id=\"edge18\" class=\"edge\">\n",
       "<title>362&#45;&gt;938</title>\n",
       "<path fill=\"none\" stroke=\"#000000\" d=\"M456.1854,-71.8901C459.5261,-63.0279 462.975,-53.8788 466.0614,-45.6913\"/>\n",
       "<polygon fill=\"#000000\" stroke=\"#000000\" points=\"469.3624,-46.8569 469.6147,-36.2651 462.8123,-44.3878 469.3624,-46.8569\"/>\n",
       "</g>\n",
       "<!-- 1030 -->\n",
       "<g id=\"node23\" class=\"node\">\n",
       "<title>1030</title>\n",
       "<path fill=\"#399de5\" fill-opacity=\"0.113725\" stroke=\"#000000\" d=\"M817,-274C817,-274 716,-274 716,-274 710,-274 704,-268 704,-262 704,-262 704,-203 704,-203 704,-197 710,-191 716,-191 716,-191 817,-191 817,-191 823,-191 829,-197 829,-203 829,-203 829,-262 829,-262 829,-268 823,-274 817,-274\"/>\n",
       "<text text-anchor=\"start\" x=\"736\" y=\"-258.8\" font-family=\"Helvetica,sans-Serif\" font-size=\"14.00\" fill=\"#000000\">best ≤ 0.5</text>\n",
       "<text text-anchor=\"start\" x=\"731\" y=\"-243.8\" font-family=\"Helvetica,sans-Serif\" font-size=\"14.00\" fill=\"#000000\">gini = 0.498</text>\n",
       "<text text-anchor=\"start\" x=\"721.5\" y=\"-228.8\" font-family=\"Helvetica,sans-Serif\" font-size=\"14.00\" fill=\"#000000\">samples = 551</text>\n",
       "<text text-anchor=\"start\" x=\"712\" y=\"-213.8\" font-family=\"Helvetica,sans-Serif\" font-size=\"14.00\" fill=\"#000000\">value = [259, 292]</text>\n",
       "<text text-anchor=\"start\" x=\"739\" y=\"-198.8\" font-family=\"Helvetica,sans-Serif\" font-size=\"14.00\" fill=\"#000000\">class = 1</text>\n",
       "</g>\n",
       "<!-- 1029&#45;&gt;1030 -->\n",
       "<g id=\"edge22\" class=\"edge\">\n",
       "<title>1029&#45;&gt;1030</title>\n",
       "<path fill=\"none\" stroke=\"#000000\" d=\"M777.5542,-309.8796C776.3705,-301.5938 775.114,-292.798 773.8888,-284.2216\"/>\n",
       "<polygon fill=\"#000000\" stroke=\"#000000\" points=\"777.3503,-283.7026 772.4712,-274.2981 770.4206,-284.6926 777.3503,-283.7026\"/>\n",
       "</g>\n",
       "<!-- 1033 -->\n",
       "<g id=\"node26\" class=\"node\">\n",
       "<title>1033</title>\n",
       "<path fill=\"#e58139\" fill-opacity=\"0.901961\" stroke=\"#000000\" d=\"M952,-266.5C952,-266.5 859,-266.5 859,-266.5 853,-266.5 847,-260.5 847,-254.5 847,-254.5 847,-210.5 847,-210.5 847,-204.5 853,-198.5 859,-198.5 859,-198.5 952,-198.5 952,-198.5 958,-198.5 964,-204.5 964,-210.5 964,-210.5 964,-254.5 964,-254.5 964,-260.5 958,-266.5 952,-266.5\"/>\n",
       "<text text-anchor=\"start\" x=\"870\" y=\"-251.3\" font-family=\"Helvetica,sans-Serif\" font-size=\"14.00\" fill=\"#000000\">gini = 0.164</text>\n",
       "<text text-anchor=\"start\" x=\"860.5\" y=\"-236.3\" font-family=\"Helvetica,sans-Serif\" font-size=\"14.00\" fill=\"#000000\">samples = 167</text>\n",
       "<text text-anchor=\"start\" x=\"855\" y=\"-221.3\" font-family=\"Helvetica,sans-Serif\" font-size=\"14.00\" fill=\"#000000\">value = [152, 15]</text>\n",
       "<text text-anchor=\"start\" x=\"878\" y=\"-206.3\" font-family=\"Helvetica,sans-Serif\" font-size=\"14.00\" fill=\"#000000\">class = 0</text>\n",
       "</g>\n",
       "<!-- 1029&#45;&gt;1033 -->\n",
       "<g id=\"edge25\" class=\"edge\">\n",
       "<title>1029&#45;&gt;1033</title>\n",
       "<path fill=\"none\" stroke=\"#000000\" d=\"M826.1697,-309.8796C838.1194,-298.2237 851.1037,-285.5587 863.0411,-273.9148\"/>\n",
       "<polygon fill=\"#000000\" stroke=\"#000000\" points=\"865.6053,-276.303 870.32,-266.8149 860.7175,-271.292 865.6053,-276.303\"/>\n",
       "</g>\n",
       "<!-- 1031 -->\n",
       "<g id=\"node24\" class=\"node\">\n",
       "<title>1031</title>\n",
       "<path fill=\"#e58139\" fill-opacity=\"0.023529\" stroke=\"#000000\" d=\"M799,-147.5C799,-147.5 698,-147.5 698,-147.5 692,-147.5 686,-141.5 686,-135.5 686,-135.5 686,-91.5 686,-91.5 686,-85.5 692,-79.5 698,-79.5 698,-79.5 799,-79.5 799,-79.5 805,-79.5 811,-85.5 811,-91.5 811,-91.5 811,-135.5 811,-135.5 811,-141.5 805,-147.5 799,-147.5\"/>\n",
       "<text text-anchor=\"start\" x=\"720.5\" y=\"-132.3\" font-family=\"Helvetica,sans-Serif\" font-size=\"14.00\" fill=\"#000000\">gini = 0.5</text>\n",
       "<text text-anchor=\"start\" x=\"703.5\" y=\"-117.3\" font-family=\"Helvetica,sans-Serif\" font-size=\"14.00\" fill=\"#000000\">samples = 484</text>\n",
       "<text text-anchor=\"start\" x=\"694\" y=\"-102.3\" font-family=\"Helvetica,sans-Serif\" font-size=\"14.00\" fill=\"#000000\">value = [245, 239]</text>\n",
       "<text text-anchor=\"start\" x=\"721\" y=\"-87.3\" font-family=\"Helvetica,sans-Serif\" font-size=\"14.00\" fill=\"#000000\">class = 0</text>\n",
       "</g>\n",
       "<!-- 1030&#45;&gt;1031 -->\n",
       "<g id=\"edge23\" class=\"edge\">\n",
       "<title>1030&#45;&gt;1031</title>\n",
       "<path fill=\"none\" stroke=\"#000000\" d=\"M760.2045,-190.8796C758.5911,-180.2134 756.8499,-168.7021 755.2162,-157.9015\"/>\n",
       "<polygon fill=\"#000000\" stroke=\"#000000\" points=\"758.6468,-157.179 753.6905,-147.8149 751.7255,-158.226 758.6468,-157.179\"/>\n",
       "</g>\n",
       "<!-- 1032 -->\n",
       "<g id=\"node25\" class=\"node\">\n",
       "<title>1032</title>\n",
       "<path fill=\"#399de5\" fill-opacity=\"0.737255\" stroke=\"#000000\" d=\"M927.5,-147.5C927.5,-147.5 841.5,-147.5 841.5,-147.5 835.5,-147.5 829.5,-141.5 829.5,-135.5 829.5,-135.5 829.5,-91.5 829.5,-91.5 829.5,-85.5 835.5,-79.5 841.5,-79.5 841.5,-79.5 927.5,-79.5 927.5,-79.5 933.5,-79.5 939.5,-85.5 939.5,-91.5 939.5,-91.5 939.5,-135.5 939.5,-135.5 939.5,-141.5 933.5,-147.5 927.5,-147.5\"/>\n",
       "<text text-anchor=\"start\" x=\"849\" y=\"-132.3\" font-family=\"Helvetica,sans-Serif\" font-size=\"14.00\" fill=\"#000000\">gini = 0.331</text>\n",
       "<text text-anchor=\"start\" x=\"843.5\" y=\"-117.3\" font-family=\"Helvetica,sans-Serif\" font-size=\"14.00\" fill=\"#000000\">samples = 67</text>\n",
       "<text text-anchor=\"start\" x=\"837.5\" y=\"-102.3\" font-family=\"Helvetica,sans-Serif\" font-size=\"14.00\" fill=\"#000000\">value = [14, 53]</text>\n",
       "<text text-anchor=\"start\" x=\"857\" y=\"-87.3\" font-family=\"Helvetica,sans-Serif\" font-size=\"14.00\" fill=\"#000000\">class = 1</text>\n",
       "</g>\n",
       "<!-- 1030&#45;&gt;1032 -->\n",
       "<g id=\"edge24\" class=\"edge\">\n",
       "<title>1030&#45;&gt;1032</title>\n",
       "<path fill=\"none\" stroke=\"#000000\" d=\"M807.7707,-190.8796C819.2195,-179.3337 831.6503,-166.7976 843.1062,-155.2446\"/>\n",
       "<polygon fill=\"#000000\" stroke=\"#000000\" points=\"845.9175,-157.3802 850.4734,-147.8149 840.9469,-152.4514 845.9175,-157.3802\"/>\n",
       "</g>\n",
       "<!-- 1035 -->\n",
       "<g id=\"node28\" class=\"node\">\n",
       "<title>1035</title>\n",
       "<path fill=\"#399de5\" fill-opacity=\"0.909804\" stroke=\"#000000\" d=\"M1102.5,-393C1102.5,-393 994.5,-393 994.5,-393 988.5,-393 982.5,-387 982.5,-381 982.5,-381 982.5,-322 982.5,-322 982.5,-316 988.5,-310 994.5,-310 994.5,-310 1102.5,-310 1102.5,-310 1108.5,-310 1114.5,-316 1114.5,-322 1114.5,-322 1114.5,-381 1114.5,-381 1114.5,-387 1108.5,-393 1102.5,-393\"/>\n",
       "<text text-anchor=\"start\" x=\"992\" y=\"-377.8\" font-family=\"Helvetica,sans-Serif\" font-size=\"14.00\" fill=\"#000000\">unfortunately ≤ 0.5</text>\n",
       "<text text-anchor=\"start\" x=\"1013\" y=\"-362.8\" font-family=\"Helvetica,sans-Serif\" font-size=\"14.00\" fill=\"#000000\">gini = 0.151</text>\n",
       "<text text-anchor=\"start\" x=\"1000\" y=\"-347.8\" font-family=\"Helvetica,sans-Serif\" font-size=\"14.00\" fill=\"#000000\">samples = 5189</text>\n",
       "<text text-anchor=\"start\" x=\"990.5\" y=\"-332.8\" font-family=\"Helvetica,sans-Serif\" font-size=\"14.00\" fill=\"#000000\">value = [428, 4761]</text>\n",
       "<text text-anchor=\"start\" x=\"1021\" y=\"-317.8\" font-family=\"Helvetica,sans-Serif\" font-size=\"14.00\" fill=\"#000000\">class = 1</text>\n",
       "</g>\n",
       "<!-- 1034&#45;&gt;1035 -->\n",
       "<g id=\"edge27\" class=\"edge\">\n",
       "<title>1034&#45;&gt;1035</title>\n",
       "<path fill=\"none\" stroke=\"#000000\" d=\"M1048.5,-428.8796C1048.5,-420.6838 1048.5,-411.9891 1048.5,-403.5013\"/>\n",
       "<polygon fill=\"#000000\" stroke=\"#000000\" points=\"1052.0001,-403.298 1048.5,-393.2981 1045.0001,-403.2981 1052.0001,-403.298\"/>\n",
       "</g>\n",
       "<!-- 1244 -->\n",
       "<g id=\"node35\" class=\"node\">\n",
       "<title>1244</title>\n",
       "<path fill=\"#399de5\" fill-opacity=\"0.592157\" stroke=\"#000000\" d=\"M1238,-385.5C1238,-385.5 1145,-385.5 1145,-385.5 1139,-385.5 1133,-379.5 1133,-373.5 1133,-373.5 1133,-329.5 1133,-329.5 1133,-323.5 1139,-317.5 1145,-317.5 1145,-317.5 1238,-317.5 1238,-317.5 1244,-317.5 1250,-323.5 1250,-329.5 1250,-329.5 1250,-373.5 1250,-373.5 1250,-379.5 1244,-385.5 1238,-385.5\"/>\n",
       "<text text-anchor=\"start\" x=\"1156\" y=\"-370.3\" font-family=\"Helvetica,sans-Serif\" font-size=\"14.00\" fill=\"#000000\">gini = 0.411</text>\n",
       "<text text-anchor=\"start\" x=\"1146.5\" y=\"-355.3\" font-family=\"Helvetica,sans-Serif\" font-size=\"14.00\" fill=\"#000000\">samples = 263</text>\n",
       "<text text-anchor=\"start\" x=\"1141\" y=\"-340.3\" font-family=\"Helvetica,sans-Serif\" font-size=\"14.00\" fill=\"#000000\">value = [76, 187]</text>\n",
       "<text text-anchor=\"start\" x=\"1164\" y=\"-325.3\" font-family=\"Helvetica,sans-Serif\" font-size=\"14.00\" fill=\"#000000\">class = 1</text>\n",
       "</g>\n",
       "<!-- 1034&#45;&gt;1244 -->\n",
       "<g id=\"edge34\" class=\"edge\">\n",
       "<title>1034&#45;&gt;1244</title>\n",
       "<path fill=\"none\" stroke=\"#000000\" d=\"M1098.5145,-428.8796C1112.7853,-417.0038 1128.3151,-404.0804 1142.5233,-392.2568\"/>\n",
       "<polygon fill=\"#000000\" stroke=\"#000000\" points=\"1144.8166,-394.9019 1150.2644,-385.8149 1140.339,-389.5212 1144.8166,-394.9019\"/>\n",
       "</g>\n",
       "<!-- 1036 -->\n",
       "<g id=\"node29\" class=\"node\">\n",
       "<title>1036</title>\n",
       "<path fill=\"#399de5\" fill-opacity=\"0.917647\" stroke=\"#000000\" d=\"M1102.5,-274C1102.5,-274 994.5,-274 994.5,-274 988.5,-274 982.5,-268 982.5,-262 982.5,-262 982.5,-203 982.5,-203 982.5,-197 988.5,-191 994.5,-191 994.5,-191 1102.5,-191 1102.5,-191 1108.5,-191 1114.5,-197 1114.5,-203 1114.5,-203 1114.5,-262 1114.5,-262 1114.5,-268 1108.5,-274 1102.5,-274\"/>\n",
       "<text text-anchor=\"start\" x=\"1015\" y=\"-258.8\" font-family=\"Helvetica,sans-Serif\" font-size=\"14.00\" fill=\"#000000\">worst ≤ 0.5</text>\n",
       "<text text-anchor=\"start\" x=\"1013\" y=\"-243.8\" font-family=\"Helvetica,sans-Serif\" font-size=\"14.00\" fill=\"#000000\">gini = 0.143</text>\n",
       "<text text-anchor=\"start\" x=\"1000\" y=\"-228.8\" font-family=\"Helvetica,sans-Serif\" font-size=\"14.00\" fill=\"#000000\">samples = 5100</text>\n",
       "<text text-anchor=\"start\" x=\"990.5\" y=\"-213.8\" font-family=\"Helvetica,sans-Serif\" font-size=\"14.00\" fill=\"#000000\">value = [396, 4704]</text>\n",
       "<text text-anchor=\"start\" x=\"1021\" y=\"-198.8\" font-family=\"Helvetica,sans-Serif\" font-size=\"14.00\" fill=\"#000000\">class = 1</text>\n",
       "</g>\n",
       "<!-- 1035&#45;&gt;1036 -->\n",
       "<g id=\"edge28\" class=\"edge\">\n",
       "<title>1035&#45;&gt;1036</title>\n",
       "<path fill=\"none\" stroke=\"#000000\" d=\"M1048.5,-309.8796C1048.5,-301.6838 1048.5,-292.9891 1048.5,-284.5013\"/>\n",
       "<polygon fill=\"#000000\" stroke=\"#000000\" points=\"1052.0001,-284.298 1048.5,-274.2981 1045.0001,-284.2981 1052.0001,-284.298\"/>\n",
       "</g>\n",
       "<!-- 1243 -->\n",
       "<g id=\"node34\" class=\"node\">\n",
       "<title>1243</title>\n",
       "<path fill=\"#399de5\" fill-opacity=\"0.439216\" stroke=\"#000000\" d=\"M1230.5,-266.5C1230.5,-266.5 1144.5,-266.5 1144.5,-266.5 1138.5,-266.5 1132.5,-260.5 1132.5,-254.5 1132.5,-254.5 1132.5,-210.5 1132.5,-210.5 1132.5,-204.5 1138.5,-198.5 1144.5,-198.5 1144.5,-198.5 1230.5,-198.5 1230.5,-198.5 1236.5,-198.5 1242.5,-204.5 1242.5,-210.5 1242.5,-210.5 1242.5,-254.5 1242.5,-254.5 1242.5,-260.5 1236.5,-266.5 1230.5,-266.5\"/>\n",
       "<text text-anchor=\"start\" x=\"1152\" y=\"-251.3\" font-family=\"Helvetica,sans-Serif\" font-size=\"14.00\" fill=\"#000000\">gini = 0.461</text>\n",
       "<text text-anchor=\"start\" x=\"1146.5\" y=\"-236.3\" font-family=\"Helvetica,sans-Serif\" font-size=\"14.00\" fill=\"#000000\">samples = 89</text>\n",
       "<text text-anchor=\"start\" x=\"1140.5\" y=\"-221.3\" font-family=\"Helvetica,sans-Serif\" font-size=\"14.00\" fill=\"#000000\">value = [32, 57]</text>\n",
       "<text text-anchor=\"start\" x=\"1160\" y=\"-206.3\" font-family=\"Helvetica,sans-Serif\" font-size=\"14.00\" fill=\"#000000\">class = 1</text>\n",
       "</g>\n",
       "<!-- 1035&#45;&gt;1243 -->\n",
       "<g id=\"edge33\" class=\"edge\">\n",
       "<title>1035&#45;&gt;1243</title>\n",
       "<path fill=\"none\" stroke=\"#000000\" d=\"M1097.1155,-309.8796C1110.8587,-298.1138 1125.8031,-285.3197 1139.5093,-273.5855\"/>\n",
       "<polygon fill=\"#000000\" stroke=\"#000000\" points=\"1142.0976,-275.9771 1147.4178,-266.8149 1137.5452,-270.6596 1142.0976,-275.9771\"/>\n",
       "</g>\n",
       "<!-- 1037 -->\n",
       "<g id=\"node30\" class=\"node\">\n",
       "<title>1037</title>\n",
       "<path fill=\"#399de5\" fill-opacity=\"0.917647\" stroke=\"#000000\" d=\"M1080.5,-155C1080.5,-155 972.5,-155 972.5,-155 966.5,-155 960.5,-149 960.5,-143 960.5,-143 960.5,-84 960.5,-84 960.5,-78 966.5,-72 972.5,-72 972.5,-72 1080.5,-72 1080.5,-72 1086.5,-72 1092.5,-78 1092.5,-84 1092.5,-84 1092.5,-143 1092.5,-143 1092.5,-149 1086.5,-155 1080.5,-155\"/>\n",
       "<text text-anchor=\"start\" x=\"999.5\" y=\"-139.8\" font-family=\"Helvetica,sans-Serif\" font-size=\"14.00\" fill=\"#000000\">not ≤ 1.5</text>\n",
       "<text text-anchor=\"start\" x=\"991\" y=\"-124.8\" font-family=\"Helvetica,sans-Serif\" font-size=\"14.00\" fill=\"#000000\">gini = 0.139</text>\n",
       "<text text-anchor=\"start\" x=\"978\" y=\"-109.8\" font-family=\"Helvetica,sans-Serif\" font-size=\"14.00\" fill=\"#000000\">samples = 5079</text>\n",
       "<text text-anchor=\"start\" x=\"968.5\" y=\"-94.8\" font-family=\"Helvetica,sans-Serif\" font-size=\"14.00\" fill=\"#000000\">value = [383, 4696]</text>\n",
       "<text text-anchor=\"start\" x=\"999\" y=\"-79.8\" font-family=\"Helvetica,sans-Serif\" font-size=\"14.00\" fill=\"#000000\">class = 1</text>\n",
       "</g>\n",
       "<!-- 1036&#45;&gt;1037 -->\n",
       "<g id=\"edge29\" class=\"edge\">\n",
       "<title>1036&#45;&gt;1037</title>\n",
       "<path fill=\"none\" stroke=\"#000000\" d=\"M1040.8055,-190.8796C1039.2736,-182.5938 1037.6475,-173.798 1036.062,-165.2216\"/>\n",
       "<polygon fill=\"#000000\" stroke=\"#000000\" points=\"1039.4871,-164.4951 1034.2274,-155.2981 1032.6037,-165.7677 1039.4871,-164.4951\"/>\n",
       "</g>\n",
       "<!-- 1242 -->\n",
       "<g id=\"node33\" class=\"node\">\n",
       "<title>1242</title>\n",
       "<path fill=\"#e58139\" fill-opacity=\"0.384314\" stroke=\"#000000\" d=\"M1200.5,-147.5C1200.5,-147.5 1122.5,-147.5 1122.5,-147.5 1116.5,-147.5 1110.5,-141.5 1110.5,-135.5 1110.5,-135.5 1110.5,-91.5 1110.5,-91.5 1110.5,-85.5 1116.5,-79.5 1122.5,-79.5 1122.5,-79.5 1200.5,-79.5 1200.5,-79.5 1206.5,-79.5 1212.5,-85.5 1212.5,-91.5 1212.5,-91.5 1212.5,-135.5 1212.5,-135.5 1212.5,-141.5 1206.5,-147.5 1200.5,-147.5\"/>\n",
       "<text text-anchor=\"start\" x=\"1126\" y=\"-132.3\" font-family=\"Helvetica,sans-Serif\" font-size=\"14.00\" fill=\"#000000\">gini = 0.472</text>\n",
       "<text text-anchor=\"start\" x=\"1120.5\" y=\"-117.3\" font-family=\"Helvetica,sans-Serif\" font-size=\"14.00\" fill=\"#000000\">samples = 21</text>\n",
       "<text text-anchor=\"start\" x=\"1118.5\" y=\"-102.3\" font-family=\"Helvetica,sans-Serif\" font-size=\"14.00\" fill=\"#000000\">value = [13, 8]</text>\n",
       "<text text-anchor=\"start\" x=\"1134\" y=\"-87.3\" font-family=\"Helvetica,sans-Serif\" font-size=\"14.00\" fill=\"#000000\">class = 0</text>\n",
       "</g>\n",
       "<!-- 1036&#45;&gt;1242 -->\n",
       "<g id=\"edge32\" class=\"edge\">\n",
       "<title>1036&#45;&gt;1242</title>\n",
       "<path fill=\"none\" stroke=\"#000000\" d=\"M1088.0219,-190.8796C1098.9857,-179.3337 1110.8897,-166.7976 1121.8601,-155.2446\"/>\n",
       "<polygon fill=\"#000000\" stroke=\"#000000\" points=\"1124.5673,-157.4766 1128.9152,-147.8149 1119.4913,-152.6564 1124.5673,-157.4766\"/>\n",
       "</g>\n",
       "<!-- 1038 -->\n",
       "<g id=\"node31\" class=\"node\">\n",
       "<title>1038</title>\n",
       "<path fill=\"#c0c0c0\" stroke=\"#000000\" d=\"M1005.5,-36C1005.5,-36 975.5,-36 975.5,-36 969.5,-36 963.5,-30 963.5,-24 963.5,-24 963.5,-12 963.5,-12 963.5,-6 969.5,0 975.5,0 975.5,0 1005.5,0 1005.5,0 1011.5,0 1017.5,-6 1017.5,-12 1017.5,-12 1017.5,-24 1017.5,-24 1017.5,-30 1011.5,-36 1005.5,-36\"/>\n",
       "<text text-anchor=\"middle\" x=\"990.5\" y=\"-14.3\" font-family=\"Helvetica,sans-Serif\" font-size=\"14.00\" fill=\"#000000\">(...)</text>\n",
       "</g>\n",
       "<!-- 1037&#45;&gt;1038 -->\n",
       "<g id=\"edge30\" class=\"edge\">\n",
       "<title>1037&#45;&gt;1038</title>\n",
       "<path fill=\"none\" stroke=\"#000000\" d=\"M1010.8146,-71.8901C1007.4739,-63.0279 1004.025,-53.8788 1000.9386,-45.6913\"/>\n",
       "<polygon fill=\"#000000\" stroke=\"#000000\" points=\"1004.1877,-44.3878 997.3853,-36.2651 997.6376,-46.8569 1004.1877,-44.3878\"/>\n",
       "</g>\n",
       "<!-- 1127 -->\n",
       "<g id=\"node32\" class=\"node\">\n",
       "<title>1127</title>\n",
       "<path fill=\"#c0c0c0\" stroke=\"#000000\" d=\"M1077.5,-36C1077.5,-36 1047.5,-36 1047.5,-36 1041.5,-36 1035.5,-30 1035.5,-24 1035.5,-24 1035.5,-12 1035.5,-12 1035.5,-6 1041.5,0 1047.5,0 1047.5,0 1077.5,0 1077.5,0 1083.5,0 1089.5,-6 1089.5,-12 1089.5,-12 1089.5,-24 1089.5,-24 1089.5,-30 1083.5,-36 1077.5,-36\"/>\n",
       "<text text-anchor=\"middle\" x=\"1062.5\" y=\"-14.3\" font-family=\"Helvetica,sans-Serif\" font-size=\"14.00\" fill=\"#000000\">(...)</text>\n",
       "</g>\n",
       "<!-- 1037&#45;&gt;1127 -->\n",
       "<g id=\"edge31\" class=\"edge\">\n",
       "<title>1037&#45;&gt;1127</title>\n",
       "<path fill=\"none\" stroke=\"#000000\" d=\"M1042.1854,-71.8901C1045.5261,-63.0279 1048.975,-53.8788 1052.0614,-45.6913\"/>\n",
       "<polygon fill=\"#000000\" stroke=\"#000000\" points=\"1055.3624,-46.8569 1055.6147,-36.2651 1048.8123,-44.3878 1055.3624,-46.8569\"/>\n",
       "</g>\n",
       "</g>\n",
       "</svg>\n"
      ],
      "text/plain": [
       "<graphviz.files.Source at 0x7fdc5f63dc88>"
      ]
     },
     "execution_count": 23,
     "metadata": {},
     "output_type": "execute_result"
    }
   ],
   "source": [
    "# Please write all the code with proper documentation\n",
    "dtreeDOT = tree.export_graphviz(clff, out_file=None, feature_names=bow_features, class_names=['0','1'], filled=True, rounded=True, special_characters=True, max_depth=5)\n",
    "graph = graphviz.Source(dtreeDOT) \n",
    "graph"
   ]
  },
  {
   "cell_type": "markdown",
   "metadata": {
    "colab_type": "text",
    "id": "5przjMTbiWOz"
   },
   "source": [
    "## [5.2] Applying Decision Trees on TFIDF,<font color='red'> SET 2</font>"
   ]
  },
  {
   "cell_type": "code",
   "execution_count": 24,
   "metadata": {
    "colab": {},
    "colab_type": "code",
    "id": "Bm3mfI7miWOz"
   },
   "outputs": [
    {
     "name": "stdout",
     "output_type": "stream",
     "text": [
      "Optimal Depth for Train Data =  500\n",
      "Optimal Depth for CV Data =  50\n"
     ]
    },
    {
     "data": {
      "image/png": "[encoded data removed]",
      "text/plain": [
       "<Figure size 432x288 with 1 Axes>"
      ]
     },
     "metadata": {},
     "output_type": "display_data"
    },
    {
     "name": "stdout",
     "output_type": "stream",
     "text": [
      "Optimal Minimum Sample Split for Train Data =  502\n",
      "Optimal Minimum Sample Split for CV Data =  500\n"
     ]
    },
    {
     "data": {
      "image/png": "[encoded data removed]",
      "text/plain": [
       "<Figure size 432x288 with 1 Axes>"
      ]
     },
     "metadata": {},
     "output_type": "display_data"
    },
    {
     "data": {
      "image/png": "[encoded data removed]",
      "text/plain": [
       "<Figure size 432x288 with 1 Axes>"
      ]
     },
     "metadata": {},
     "output_type": "display_data"
    },
    {
     "name": "stdout",
     "output_type": "stream",
     "text": [
      "The AUC Score on Test data =  0.7165464214750191\n"
     ]
    },
    {
     "data": {
      "image/png": "[encoded data removed]",
      "text/plain": [
       "<Figure size 720x504 with 2 Axes>"
      ]
     },
     "metadata": {},
     "output_type": "display_data"
    }
   ],
   "source": [
    "#Train Test Split Before Vectorizing. This is to prevent Data Leakage\n",
    "X_train, X_test, y_train, y_test = cross_validation.train_test_split(preprocessed_reviews, final['Score'], test_size=0.3, random_state=0)\n",
    "\n",
    "#Splitting X_train again into X_train and X_val.\n",
    "X_train, X_val, y_train, y_val = cross_validation.train_test_split(X_train, y_train, test_size=0.3, random_state=0)\n",
    "\n",
    "\n",
    "#TFIDF Vectors of Train Data\n",
    "tf_idf_vect = TfidfVectorizer(ngram_range=(1,2), min_df=10)\n",
    "final_tfidf_count_train = tf_idf_vect.fit_transform(X_train)\n",
    "final_tfidf_count_val = tf_idf_vect.transform(X_val)\n",
    "final_tfidf_count_test = tf_idf_vect.transform(X_test)\n",
    "#TFIDF Data Features\n",
    "tdidf_vect_features = tf_idf_vect.get_feature_names()\n",
    "\n",
    "\n",
    "min_samples_splits = [5, 10, 100, 500, 501, 502, 503]\n",
    "max_depths = [1, 5, 10, 50, 100, 500, 100]\n",
    "train_results = []\n",
    "cv_results = []\n",
    "max_roc_auc_train = 0\n",
    "max_roc_auc_cv = 0\n",
    "optimalMinSSplitTrain = 0\n",
    "optimalMinSSplitCV = 0\n",
    "for max_depth, min_samples_split in zip(max_depths, min_samples_splits):\n",
    "    clf = tree.DecisionTreeClassifier(min_samples_split=min_samples_split, max_depth=max_depth)\n",
    "    clf.fit(final_tfidf_count_train, y_train)\n",
    "    false_positive_rate, true_positive_rate, thresholds = roc_curve(y_train, clf.predict_proba(final_tfidf_count_train)[:,1])\n",
    "    roc_auc_train = auc(false_positive_rate, true_positive_rate)\n",
    "    \n",
    "    #store the optimal depth and the corresponding AUC score\n",
    "    if roc_auc_train > max_roc_auc_train:\n",
    "        max_roc_auc_train = roc_auc_train\n",
    "        optimalMinSSplitTrain = min_samples_split\n",
    "        optimalDepthTrain = max_depth\n",
    "    # Add auc score to previous train results\n",
    "    train_results.append(roc_auc_train)\n",
    "    \n",
    "   \n",
    "    false_positive_rate, true_positive_rate, thresholds = roc_curve(y_val, clf.predict_proba(final_tfidf_count_val)[:,1])\n",
    "    roc_auc_cv = auc(false_positive_rate, true_positive_rate)\n",
    "    #store the optimal depth and the corresponding AUC score\n",
    "    if roc_auc_cv > max_roc_auc_cv:\n",
    "        max_roc_auc_cv = roc_auc_cv\n",
    "        optimalMinSSplitCV = min_samples_split\n",
    "        optimalDepthCV = max_depth\n",
    "    # Add auc score to previous test results\n",
    "    cv_results.append(roc_auc_cv)\n",
    "    \n",
    "print(\"Optimal Depth for Train Data = \",optimalDepthTrain)\n",
    "print(\"Optimal Depth for CV Data = \",optimalDepthCV)\n",
    "line1, = plt.plot(max_depths, train_results, 'b', label=\"Train AUC\")\n",
    "line2, = plt.plot(max_depths, cv_results, 'r', label=\"CV AUC\")\n",
    "plt.legend(handler_map={line1: HandlerLine2D(numpoints=2)})\n",
    "plt.ylabel('AUC Score')\n",
    "plt.xlabel('Tree Depth')\n",
    "plt.show()\n",
    "\n",
    "print(\"Optimal Minimum Sample Split for Train Data = \",optimalMinSSplitTrain)\n",
    "print(\"Optimal Minimum Sample Split for CV Data = \",optimalMinSSplitCV)\n",
    "line1, = plt.plot(min_samples_splits, train_results, 'b', label=\"Train AUC\")\n",
    "line2, = plt.plot(min_samples_splits, cv_results, 'r', label=\"Test AUC\")\n",
    "plt.legend(handler_map={line1: HandlerLine2D(numpoints=2)})\n",
    "plt.ylabel('AUC Score')\n",
    "plt.xlabel('Tree Depth')\n",
    "plt.show()\n",
    "\n",
    "\n",
    "#Finding Model Performance based on optimal parameters found above. We will plot the ROC and show the confusion matrix\n",
    "#Training with optimal parameters\n",
    "clff = tree.DecisionTreeClassifier(max_depth=optimalDepthCV, min_samples_split=optimalMinSSplitCV)\n",
    "clff = clff.fit(final_tfidf_count_train, y_train)\n",
    "#Prediction on train and test data\n",
    "train_pred = clff.predict(final_tfidf_count_train)\n",
    "y_pred = clff.predict(final_tfidf_count_test)\n",
    "#ROC for training data\n",
    "false_positive_rateTr, true_positive_rateTr, thresholdsTr = roc_curve(y_train, train_pred)\n",
    "#ROC for test data\n",
    "false_positive_rate, true_positive_rate, thresholds = roc_curve(y_test, y_pred)\n",
    "#Plot ROC for train/test\n",
    "line1, = plt.plot(false_positive_rateTr, true_positive_rateTr, 'green', label=\"Train ROC\")\n",
    "line2, = plt.plot(false_positive_rate, true_positive_rate, 'darkorange', label=\"Test ROC\")\n",
    "plt.legend(handler_map={line1: HandlerLine2D(numpoints=2)})\n",
    "plt.ylabel('TPR')\n",
    "plt.xlabel('FPR')\n",
    "plt.show()\n",
    "#Finding the AUC Score on test data and printing Confusion Matrix\n",
    "roc_auc = auc(false_positive_rate, true_positive_rate)\n",
    "print(\"The AUC Score on Test data = \",roc_auc)\n",
    "cfs_matrix = confusion_matrix(y_test.values, y_pred)\n",
    "class_names = ['True', 'False']\n",
    "print_confusion_matrix(cfs_matrix, class_names, figsize = (10,7), fontsize=14)"
   ]
  },
  {
   "cell_type": "markdown",
   "metadata": {
    "colab_type": "text",
    "id": "PIKUCldjiWO0"
   },
   "source": [
    "### [5.2.1] Top 20 important features from<font color='red'> SET 2</font>"
   ]
  },
  {
   "cell_type": "code",
   "execution_count": 25,
   "metadata": {
    "colab": {},
    "colab_type": "code",
    "id": "p2P0iHQciWO1"
   },
   "outputs": [
    {
     "name": "stdout",
     "output_type": "stream",
     "text": [
      "Most Important Features For DT On TFIDF Vectors\n",
      "\n",
      "\n",
      "[('not', 0.10167970058146873), ('great', 0.05088832539071241), ('worst', 0.036298081995303134), ('disappointed', 0.034817777011333206), ('horrible', 0.03290190831065864), ('awful', 0.02607823898693395), ('not worth', 0.02203639639325496), ('terrible', 0.02085315218014896), ('not buy', 0.01917817531099007), ('good', 0.016015596095978833), ('disappointing', 0.01550240925852403), ('return', 0.015474493769917375), ('threw', 0.014624261966178937), ('delicious', 0.014229175249658395), ('not disappointed', 0.01404943863224704), ('love', 0.013176665634758923), ('not recommend', 0.013030023168873672), ('waste money', 0.012625588489101211), ('waste', 0.01260084554966952), ('not good', 0.01257193724942368)]\n"
     ]
    }
   ],
   "source": [
    "# Please write all the code with proper documentation\n",
    "dictSet1 = dict(zip(tdidf_vect_features, clff.feature_importances_))\n",
    "dictSet1RSorted = sorted(dictSet1.items(), key=lambda kv: kv[1], reverse=True)\n",
    "print(\"Most Important Features For DT On TFIDF Vectors\\n\\n\")\n",
    "print(dictSet1RSorted[0:20])"
   ]
  },
  {
   "cell_type": "markdown",
   "metadata": {
    "colab_type": "text",
    "id": "RTZB9ipUiWO3"
   },
   "source": [
    "### [5.2.2] Graphviz visualization of Decision Tree on TFIDF,<font color='red'> SET 2</font>"
   ]
  },
  {
   "cell_type": "code",
   "execution_count": 26,
   "metadata": {
    "colab": {},
    "colab_type": "code",
    "id": "DMbZoPoTiWO4"
   },
   "outputs": [
    {
     "data": {
      "image/svg+xml": [
       "<?xml version=\"1.0\" encoding=\"UTF-8\" standalone=\"no\"?>\n",
       "<!DOCTYPE svg PUBLIC \"-//W3C//DTD SVG 1.1//EN\"\n",
       " \"http://www.w3.org/Graphics/SVG/1.1/DTD/svg11.dtd\">\n",
       "<!-- Generated by graphviz version 2.40.1 (20161225.0304)\n",
       " -->\n",
       "<!-- Title: Tree Pages: 1 -->\n",
       "<svg width=\"1248pt\" height=\"758pt\"\n",
       " viewBox=\"0.00 0.00 1247.50 758.00\" xmlns=\"http://www.w3.org/2000/svg\" xmlns:xlink=\"http://www.w3.org/1999/xlink\">\n",
       "<g id=\"graph0\" class=\"graph\" transform=\"scale(1 1) rotate(0) translate(4 754)\">\n",
       "<title>Tree</title>\n",
       "<polygon fill=\"#ffffff\" stroke=\"transparent\" points=\"-4,4 -4,-754 1243.5,-754 1243.5,4 -4,4\"/>\n",
       "<!-- 0 -->\n",
       "<g id=\"node1\" class=\"node\">\n",
       "<title>0</title>\n",
       "<path fill=\"#399de5\" fill-opacity=\"0.803922\" stroke=\"#000000\" d=\"M879,-750C879,-750 756,-750 756,-750 750,-750 744,-744 744,-738 744,-738 744,-679 744,-679 744,-673 750,-667 756,-667 756,-667 879,-667 879,-667 885,-667 891,-673 891,-679 891,-679 891,-738 891,-738 891,-744 885,-750 879,-750\"/>\n",
       "<text text-anchor=\"start\" x=\"783\" y=\"-734.8\" font-family=\"Helvetica,sans-Serif\" font-size=\"14.00\" fill=\"#000000\">not ≤ 0.064</text>\n",
       "<text text-anchor=\"start\" x=\"782\" y=\"-719.8\" font-family=\"Helvetica,sans-Serif\" font-size=\"14.00\" fill=\"#000000\">gini = 0.274</text>\n",
       "<text text-anchor=\"start\" x=\"765\" y=\"-704.8\" font-family=\"Helvetica,sans-Serif\" font-size=\"14.00\" fill=\"#000000\">samples = 43008</text>\n",
       "<text text-anchor=\"start\" x=\"752\" y=\"-689.8\" font-family=\"Helvetica,sans-Serif\" font-size=\"14.00\" fill=\"#000000\">value = [7040, 35968]</text>\n",
       "<text text-anchor=\"start\" x=\"790\" y=\"-674.8\" font-family=\"Helvetica,sans-Serif\" font-size=\"14.00\" fill=\"#000000\">class = 1</text>\n",
       "</g>\n",
       "<!-- 1 -->\n",
       "<g id=\"node2\" class=\"node\">\n",
       "<title>1</title>\n",
       "<path fill=\"#399de5\" fill-opacity=\"0.854902\" stroke=\"#000000\" d=\"M764,-631C764,-631 641,-631 641,-631 635,-631 629,-625 629,-619 629,-619 629,-560 629,-560 629,-554 635,-548 641,-548 641,-548 764,-548 764,-548 770,-548 776,-554 776,-560 776,-560 776,-619 776,-619 776,-625 770,-631 764,-631\"/>\n",
       "<text text-anchor=\"start\" x=\"661.5\" y=\"-615.8\" font-family=\"Helvetica,sans-Serif\" font-size=\"14.00\" fill=\"#000000\">worst ≤ 0.068</text>\n",
       "<text text-anchor=\"start\" x=\"667\" y=\"-600.8\" font-family=\"Helvetica,sans-Serif\" font-size=\"14.00\" fill=\"#000000\">gini = 0.221</text>\n",
       "<text text-anchor=\"start\" x=\"650\" y=\"-585.8\" font-family=\"Helvetica,sans-Serif\" font-size=\"14.00\" fill=\"#000000\">samples = 33899</text>\n",
       "<text text-anchor=\"start\" x=\"637\" y=\"-570.8\" font-family=\"Helvetica,sans-Serif\" font-size=\"14.00\" fill=\"#000000\">value = [4296, 29603]</text>\n",
       "<text text-anchor=\"start\" x=\"675\" y=\"-555.8\" font-family=\"Helvetica,sans-Serif\" font-size=\"14.00\" fill=\"#000000\">class = 1</text>\n",
       "</g>\n",
       "<!-- 0&#45;&gt;1 -->\n",
       "<g id=\"edge1\" class=\"edge\">\n",
       "<title>0&#45;&gt;1</title>\n",
       "<path fill=\"none\" stroke=\"#000000\" d=\"M777.2786,-666.8796C768.488,-657.7832 759.1034,-648.0722 750.0574,-638.7116\"/>\n",
       "<polygon fill=\"#000000\" stroke=\"#000000\" points=\"752.3591,-636.0568 742.8931,-631.2981 747.3255,-640.9212 752.3591,-636.0568\"/>\n",
       "<text text-anchor=\"middle\" x=\"742.4658\" y=\"-652.5944\" font-family=\"Helvetica,sans-Serif\" font-size=\"14.00\" fill=\"#000000\">True</text>\n",
       "</g>\n",
       "<!-- 692 -->\n",
       "<g id=\"node17\" class=\"node\">\n",
       "<title>692</title>\n",
       "<path fill=\"#399de5\" fill-opacity=\"0.568627\" stroke=\"#000000\" d=\"M931.5,-631C931.5,-631 815.5,-631 815.5,-631 809.5,-631 803.5,-625 803.5,-619 803.5,-619 803.5,-560 803.5,-560 803.5,-554 809.5,-548 815.5,-548 815.5,-548 931.5,-548 931.5,-548 937.5,-548 943.5,-554 943.5,-560 943.5,-560 943.5,-619 943.5,-619 943.5,-625 937.5,-631 931.5,-631\"/>\n",
       "<text text-anchor=\"start\" x=\"833\" y=\"-615.8\" font-family=\"Helvetica,sans-Serif\" font-size=\"14.00\" fill=\"#000000\">great ≤ 0.014</text>\n",
       "<text text-anchor=\"start\" x=\"838\" y=\"-600.8\" font-family=\"Helvetica,sans-Serif\" font-size=\"14.00\" fill=\"#000000\">gini = 0.421</text>\n",
       "<text text-anchor=\"start\" x=\"825\" y=\"-585.8\" font-family=\"Helvetica,sans-Serif\" font-size=\"14.00\" fill=\"#000000\">samples = 9109</text>\n",
       "<text text-anchor=\"start\" x=\"811.5\" y=\"-570.8\" font-family=\"Helvetica,sans-Serif\" font-size=\"14.00\" fill=\"#000000\">value = [2744, 6365]</text>\n",
       "<text text-anchor=\"start\" x=\"846\" y=\"-555.8\" font-family=\"Helvetica,sans-Serif\" font-size=\"14.00\" fill=\"#000000\">class = 1</text>\n",
       "</g>\n",
       "<!-- 0&#45;&gt;692 -->\n",
       "<g id=\"edge16\" class=\"edge\">\n",
       "<title>0&#45;&gt;692</title>\n",
       "<path fill=\"none\" stroke=\"#000000\" d=\"M837.0861,-666.8796C841.1124,-658.3236 845.3947,-649.2238 849.5549,-640.3833\"/>\n",
       "<polygon fill=\"#000000\" stroke=\"#000000\" points=\"852.7392,-641.8366 853.8303,-631.2981 846.4054,-638.856 852.7392,-641.8366\"/>\n",
       "<text text-anchor=\"middle\" x=\"862.2983\" y=\"-651.1203\" font-family=\"Helvetica,sans-Serif\" font-size=\"14.00\" fill=\"#000000\">False</text>\n",
       "</g>\n",
       "<!-- 2 -->\n",
       "<g id=\"node3\" class=\"node\">\n",
       "<title>2</title>\n",
       "<path fill=\"#399de5\" fill-opacity=\"0.858824\" stroke=\"#000000\" d=\"M580,-512C580,-512 457,-512 457,-512 451,-512 445,-506 445,-500 445,-500 445,-441 445,-441 445,-435 451,-429 457,-429 457,-429 580,-429 580,-429 586,-429 592,-435 592,-441 592,-441 592,-500 592,-500 592,-506 586,-512 580,-512\"/>\n",
       "<text text-anchor=\"start\" x=\"455\" y=\"-496.8\" font-family=\"Helvetica,sans-Serif\" font-size=\"14.00\" fill=\"#000000\">disappointed ≤ 0.053</text>\n",
       "<text text-anchor=\"start\" x=\"483\" y=\"-481.8\" font-family=\"Helvetica,sans-Serif\" font-size=\"14.00\" fill=\"#000000\">gini = 0.215</text>\n",
       "<text text-anchor=\"start\" x=\"466\" y=\"-466.8\" font-family=\"Helvetica,sans-Serif\" font-size=\"14.00\" fill=\"#000000\">samples = 33723</text>\n",
       "<text text-anchor=\"start\" x=\"453\" y=\"-451.8\" font-family=\"Helvetica,sans-Serif\" font-size=\"14.00\" fill=\"#000000\">value = [4142, 29581]</text>\n",
       "<text text-anchor=\"start\" x=\"491\" y=\"-436.8\" font-family=\"Helvetica,sans-Serif\" font-size=\"14.00\" fill=\"#000000\">class = 1</text>\n",
       "</g>\n",
       "<!-- 1&#45;&gt;2 -->\n",
       "<g id=\"edge2\" class=\"edge\">\n",
       "<title>1&#45;&gt;2</title>\n",
       "<path fill=\"none\" stroke=\"#000000\" d=\"M638.1457,-547.8796C623.0185,-538.0962 606.7919,-527.6019 591.3224,-517.5971\"/>\n",
       "<polygon fill=\"#000000\" stroke=\"#000000\" points=\"593.1156,-514.5887 582.8179,-512.0969 589.3141,-520.4665 593.1156,-514.5887\"/>\n",
       "</g>\n",
       "<!-- 691 -->\n",
       "<g id=\"node16\" class=\"node\">\n",
       "<title>691</title>\n",
       "<path fill=\"#e58139\" fill-opacity=\"0.858824\" stroke=\"#000000\" d=\"M749,-504.5C749,-504.5 656,-504.5 656,-504.5 650,-504.5 644,-498.5 644,-492.5 644,-492.5 644,-448.5 644,-448.5 644,-442.5 650,-436.5 656,-436.5 656,-436.5 749,-436.5 749,-436.5 755,-436.5 761,-442.5 761,-448.5 761,-448.5 761,-492.5 761,-492.5 761,-498.5 755,-504.5 749,-504.5\"/>\n",
       "<text text-anchor=\"start\" x=\"667\" y=\"-489.3\" font-family=\"Helvetica,sans-Serif\" font-size=\"14.00\" fill=\"#000000\">gini = 0.219</text>\n",
       "<text text-anchor=\"start\" x=\"657.5\" y=\"-474.3\" font-family=\"Helvetica,sans-Serif\" font-size=\"14.00\" fill=\"#000000\">samples = 176</text>\n",
       "<text text-anchor=\"start\" x=\"652\" y=\"-459.3\" font-family=\"Helvetica,sans-Serif\" font-size=\"14.00\" fill=\"#000000\">value = [154, 22]</text>\n",
       "<text text-anchor=\"start\" x=\"675\" y=\"-444.3\" font-family=\"Helvetica,sans-Serif\" font-size=\"14.00\" fill=\"#000000\">class = 0</text>\n",
       "</g>\n",
       "<!-- 1&#45;&gt;691 -->\n",
       "<g id=\"edge15\" class=\"edge\">\n",
       "<title>1&#45;&gt;691</title>\n",
       "<path fill=\"none\" stroke=\"#000000\" d=\"M702.5,-547.8796C702.5,-537.2134 702.5,-525.7021 702.5,-514.9015\"/>\n",
       "<polygon fill=\"#000000\" stroke=\"#000000\" points=\"706.0001,-514.8149 702.5,-504.8149 699.0001,-514.815 706.0001,-514.8149\"/>\n",
       "</g>\n",
       "<!-- 3 -->\n",
       "<g id=\"node4\" class=\"node\">\n",
       "<title>3</title>\n",
       "<path fill=\"#399de5\" fill-opacity=\"0.870588\" stroke=\"#000000\" d=\"M397,-393C397,-393 274,-393 274,-393 268,-393 262,-387 262,-381 262,-381 262,-322 262,-322 262,-316 268,-310 274,-310 274,-310 397,-310 397,-310 403,-310 409,-316 409,-322 409,-322 409,-381 409,-381 409,-387 403,-393 397,-393\"/>\n",
       "<text text-anchor=\"start\" x=\"294.5\" y=\"-377.8\" font-family=\"Helvetica,sans-Serif\" font-size=\"14.00\" fill=\"#000000\">awful ≤ 0.083</text>\n",
       "<text text-anchor=\"start\" x=\"300\" y=\"-362.8\" font-family=\"Helvetica,sans-Serif\" font-size=\"14.00\" fill=\"#000000\">gini = 0.204</text>\n",
       "<text text-anchor=\"start\" x=\"283\" y=\"-347.8\" font-family=\"Helvetica,sans-Serif\" font-size=\"14.00\" fill=\"#000000\">samples = 33071</text>\n",
       "<text text-anchor=\"start\" x=\"270\" y=\"-332.8\" font-family=\"Helvetica,sans-Serif\" font-size=\"14.00\" fill=\"#000000\">value = [3821, 29250]</text>\n",
       "<text text-anchor=\"start\" x=\"308\" y=\"-317.8\" font-family=\"Helvetica,sans-Serif\" font-size=\"14.00\" fill=\"#000000\">class = 1</text>\n",
       "</g>\n",
       "<!-- 2&#45;&gt;3 -->\n",
       "<g id=\"edge3\" class=\"edge\">\n",
       "<title>2&#45;&gt;3</title>\n",
       "<path fill=\"none\" stroke=\"#000000\" d=\"M454.4955,-428.8796C439.4505,-419.0962 423.3121,-408.6019 407.9267,-398.5971\"/>\n",
       "<polygon fill=\"#000000\" stroke=\"#000000\" points=\"409.7598,-395.6143 399.4684,-393.0969 405.9437,-401.4827 409.7598,-395.6143\"/>\n",
       "</g>\n",
       "<!-- 686 -->\n",
       "<g id=\"node11\" class=\"node\">\n",
       "<title>686</title>\n",
       "<path fill=\"#399de5\" fill-opacity=\"0.031373\" stroke=\"#000000\" d=\"M589,-393C589,-393 448,-393 448,-393 442,-393 436,-387 436,-381 436,-381 436,-322 436,-322 436,-316 442,-310 448,-310 448,-310 589,-310 589,-310 595,-310 601,-316 601,-322 601,-322 601,-381 601,-381 601,-387 595,-393 589,-393\"/>\n",
       "<text text-anchor=\"start\" x=\"444\" y=\"-377.8\" font-family=\"Helvetica,sans-Serif\" font-size=\"14.00\" fill=\"#000000\">not disappointed ≤ 0.072</text>\n",
       "<text text-anchor=\"start\" x=\"490.5\" y=\"-362.8\" font-family=\"Helvetica,sans-Serif\" font-size=\"14.00\" fill=\"#000000\">gini = 0.5</text>\n",
       "<text text-anchor=\"start\" x=\"473.5\" y=\"-347.8\" font-family=\"Helvetica,sans-Serif\" font-size=\"14.00\" fill=\"#000000\">samples = 652</text>\n",
       "<text text-anchor=\"start\" x=\"464\" y=\"-332.8\" font-family=\"Helvetica,sans-Serif\" font-size=\"14.00\" fill=\"#000000\">value = [321, 331]</text>\n",
       "<text text-anchor=\"start\" x=\"491\" y=\"-317.8\" font-family=\"Helvetica,sans-Serif\" font-size=\"14.00\" fill=\"#000000\">class = 1</text>\n",
       "</g>\n",
       "<!-- 2&#45;&gt;686 -->\n",
       "<g id=\"edge10\" class=\"edge\">\n",
       "<title>2&#45;&gt;686</title>\n",
       "<path fill=\"none\" stroke=\"#000000\" d=\"M518.5,-428.8796C518.5,-420.6838 518.5,-411.9891 518.5,-403.5013\"/>\n",
       "<polygon fill=\"#000000\" stroke=\"#000000\" points=\"522.0001,-403.298 518.5,-393.2981 515.0001,-403.2981 522.0001,-403.298\"/>\n",
       "</g>\n",
       "<!-- 4 -->\n",
       "<g id=\"node5\" class=\"node\">\n",
       "<title>4</title>\n",
       "<path fill=\"#399de5\" fill-opacity=\"0.874510\" stroke=\"#000000\" d=\"M247,-274C247,-274 124,-274 124,-274 118,-274 112,-268 112,-262 112,-262 112,-203 112,-203 112,-197 118,-191 124,-191 124,-191 247,-191 247,-191 253,-191 259,-197 259,-203 259,-203 259,-262 259,-262 259,-268 253,-274 247,-274\"/>\n",
       "<text text-anchor=\"start\" x=\"138\" y=\"-258.8\" font-family=\"Helvetica,sans-Serif\" font-size=\"14.00\" fill=\"#000000\">horrible ≤ 0.041</text>\n",
       "<text text-anchor=\"start\" x=\"150\" y=\"-243.8\" font-family=\"Helvetica,sans-Serif\" font-size=\"14.00\" fill=\"#000000\">gini = 0.199</text>\n",
       "<text text-anchor=\"start\" x=\"133\" y=\"-228.8\" font-family=\"Helvetica,sans-Serif\" font-size=\"14.00\" fill=\"#000000\">samples = 32902</text>\n",
       "<text text-anchor=\"start\" x=\"120\" y=\"-213.8\" font-family=\"Helvetica,sans-Serif\" font-size=\"14.00\" fill=\"#000000\">value = [3695, 29207]</text>\n",
       "<text text-anchor=\"start\" x=\"158\" y=\"-198.8\" font-family=\"Helvetica,sans-Serif\" font-size=\"14.00\" fill=\"#000000\">class = 1</text>\n",
       "</g>\n",
       "<!-- 3&#45;&gt;4 -->\n",
       "<g id=\"edge4\" class=\"edge\">\n",
       "<title>3&#45;&gt;4</title>\n",
       "<path fill=\"none\" stroke=\"#000000\" d=\"M283.0373,-309.8796C271.0479,-300.368 258.2113,-290.1843 245.9184,-280.432\"/>\n",
       "<polygon fill=\"#000000\" stroke=\"#000000\" points=\"247.9425,-277.5701 237.9331,-274.0969 243.5919,-283.054 247.9425,-277.5701\"/>\n",
       "</g>\n",
       "<!-- 685 -->\n",
       "<g id=\"node10\" class=\"node\">\n",
       "<title>685</title>\n",
       "<path fill=\"#e58139\" fill-opacity=\"0.658824\" stroke=\"#000000\" d=\"M382,-266.5C382,-266.5 289,-266.5 289,-266.5 283,-266.5 277,-260.5 277,-254.5 277,-254.5 277,-210.5 277,-210.5 277,-204.5 283,-198.5 289,-198.5 289,-198.5 382,-198.5 382,-198.5 388,-198.5 394,-204.5 394,-210.5 394,-210.5 394,-254.5 394,-254.5 394,-260.5 388,-266.5 382,-266.5\"/>\n",
       "<text text-anchor=\"start\" x=\"300\" y=\"-251.3\" font-family=\"Helvetica,sans-Serif\" font-size=\"14.00\" fill=\"#000000\">gini = 0.379</text>\n",
       "<text text-anchor=\"start\" x=\"290.5\" y=\"-236.3\" font-family=\"Helvetica,sans-Serif\" font-size=\"14.00\" fill=\"#000000\">samples = 169</text>\n",
       "<text text-anchor=\"start\" x=\"285\" y=\"-221.3\" font-family=\"Helvetica,sans-Serif\" font-size=\"14.00\" fill=\"#000000\">value = [126, 43]</text>\n",
       "<text text-anchor=\"start\" x=\"308\" y=\"-206.3\" font-family=\"Helvetica,sans-Serif\" font-size=\"14.00\" fill=\"#000000\">class = 0</text>\n",
       "</g>\n",
       "<!-- 3&#45;&gt;685 -->\n",
       "<g id=\"edge9\" class=\"edge\">\n",
       "<title>3&#45;&gt;685</title>\n",
       "<path fill=\"none\" stroke=\"#000000\" d=\"M335.5,-309.8796C335.5,-299.2134 335.5,-287.7021 335.5,-276.9015\"/>\n",
       "<polygon fill=\"#000000\" stroke=\"#000000\" points=\"339.0001,-276.8149 335.5,-266.8149 332.0001,-276.815 339.0001,-276.8149\"/>\n",
       "</g>\n",
       "<!-- 5 -->\n",
       "<g id=\"node6\" class=\"node\">\n",
       "<title>5</title>\n",
       "<path fill=\"#399de5\" fill-opacity=\"0.878431\" stroke=\"#000000\" d=\"M135,-155C135,-155 12,-155 12,-155 6,-155 0,-149 0,-143 0,-143 0,-84 0,-84 0,-78 6,-72 12,-72 12,-72 135,-72 135,-72 141,-72 147,-78 147,-84 147,-84 147,-143 147,-143 147,-149 141,-155 135,-155\"/>\n",
       "<text text-anchor=\"start\" x=\"33\" y=\"-139.8\" font-family=\"Helvetica,sans-Serif\" font-size=\"14.00\" fill=\"#000000\">great ≤ 0.036</text>\n",
       "<text text-anchor=\"start\" x=\"38\" y=\"-124.8\" font-family=\"Helvetica,sans-Serif\" font-size=\"14.00\" fill=\"#000000\">gini = 0.194</text>\n",
       "<text text-anchor=\"start\" x=\"21\" y=\"-109.8\" font-family=\"Helvetica,sans-Serif\" font-size=\"14.00\" fill=\"#000000\">samples = 32700</text>\n",
       "<text text-anchor=\"start\" x=\"8\" y=\"-94.8\" font-family=\"Helvetica,sans-Serif\" font-size=\"14.00\" fill=\"#000000\">value = [3561, 29139]</text>\n",
       "<text text-anchor=\"start\" x=\"46\" y=\"-79.8\" font-family=\"Helvetica,sans-Serif\" font-size=\"14.00\" fill=\"#000000\">class = 1</text>\n",
       "</g>\n",
       "<!-- 4&#45;&gt;5 -->\n",
       "<g id=\"edge5\" class=\"edge\">\n",
       "<title>4&#45;&gt;5</title>\n",
       "<path fill=\"none\" stroke=\"#000000\" d=\"M146.3278,-190.8796C137.7665,-181.7832 128.6268,-172.0722 119.8168,-162.7116\"/>\n",
       "<polygon fill=\"#000000\" stroke=\"#000000\" points=\"122.2417,-160.1813 112.8394,-155.2981 117.1443,-164.9789 122.2417,-160.1813\"/>\n",
       "</g>\n",
       "<!-- 684 -->\n",
       "<g id=\"node9\" class=\"node\">\n",
       "<title>684</title>\n",
       "<path fill=\"#e58139\" fill-opacity=\"0.494118\" stroke=\"#000000\" d=\"M270,-147.5C270,-147.5 177,-147.5 177,-147.5 171,-147.5 165,-141.5 165,-135.5 165,-135.5 165,-91.5 165,-91.5 165,-85.5 171,-79.5 177,-79.5 177,-79.5 270,-79.5 270,-79.5 276,-79.5 282,-85.5 282,-91.5 282,-91.5 282,-135.5 282,-135.5 282,-141.5 276,-147.5 270,-147.5\"/>\n",
       "<text text-anchor=\"start\" x=\"188\" y=\"-132.3\" font-family=\"Helvetica,sans-Serif\" font-size=\"14.00\" fill=\"#000000\">gini = 0.447</text>\n",
       "<text text-anchor=\"start\" x=\"178.5\" y=\"-117.3\" font-family=\"Helvetica,sans-Serif\" font-size=\"14.00\" fill=\"#000000\">samples = 202</text>\n",
       "<text text-anchor=\"start\" x=\"173\" y=\"-102.3\" font-family=\"Helvetica,sans-Serif\" font-size=\"14.00\" fill=\"#000000\">value = [134, 68]</text>\n",
       "<text text-anchor=\"start\" x=\"196\" y=\"-87.3\" font-family=\"Helvetica,sans-Serif\" font-size=\"14.00\" fill=\"#000000\">class = 0</text>\n",
       "</g>\n",
       "<!-- 4&#45;&gt;684 -->\n",
       "<g id=\"edge8\" class=\"edge\">\n",
       "<title>4&#45;&gt;684</title>\n",
       "<path fill=\"none\" stroke=\"#000000\" d=\"M198.7906,-190.8796C202.2317,-180.1034 205.9483,-168.4647 209.4279,-157.5677\"/>\n",
       "<polygon fill=\"#000000\" stroke=\"#000000\" points=\"212.8344,-158.4057 212.5423,-147.8149 206.1661,-156.2763 212.8344,-158.4057\"/>\n",
       "</g>\n",
       "<!-- 6 -->\n",
       "<g id=\"node7\" class=\"node\">\n",
       "<title>6</title>\n",
       "<path fill=\"#c0c0c0\" stroke=\"#000000\" d=\"M52.5,-36C52.5,-36 22.5,-36 22.5,-36 16.5,-36 10.5,-30 10.5,-24 10.5,-24 10.5,-12 10.5,-12 10.5,-6 16.5,0 22.5,0 22.5,0 52.5,0 52.5,0 58.5,0 64.5,-6 64.5,-12 64.5,-12 64.5,-24 64.5,-24 64.5,-30 58.5,-36 52.5,-36\"/>\n",
       "<text text-anchor=\"middle\" x=\"37.5\" y=\"-14.3\" font-family=\"Helvetica,sans-Serif\" font-size=\"14.00\" fill=\"#000000\">(...)</text>\n",
       "</g>\n",
       "<!-- 5&#45;&gt;6 -->\n",
       "<g id=\"edge6\" class=\"edge\">\n",
       "<title>5&#45;&gt;6</title>\n",
       "<path fill=\"none\" stroke=\"#000000\" d=\"M57.8146,-71.8901C54.4739,-63.0279 51.025,-53.8788 47.9386,-45.6913\"/>\n",
       "<polygon fill=\"#000000\" stroke=\"#000000\" points=\"51.1877,-44.3878 44.3853,-36.2651 44.6376,-46.8569 51.1877,-44.3878\"/>\n",
       "</g>\n",
       "<!-- 595 -->\n",
       "<g id=\"node8\" class=\"node\">\n",
       "<title>595</title>\n",
       "<path fill=\"#c0c0c0\" stroke=\"#000000\" d=\"M124.5,-36C124.5,-36 94.5,-36 94.5,-36 88.5,-36 82.5,-30 82.5,-24 82.5,-24 82.5,-12 82.5,-12 82.5,-6 88.5,0 94.5,0 94.5,0 124.5,0 124.5,0 130.5,0 136.5,-6 136.5,-12 136.5,-12 136.5,-24 136.5,-24 136.5,-30 130.5,-36 124.5,-36\"/>\n",
       "<text text-anchor=\"middle\" x=\"109.5\" y=\"-14.3\" font-family=\"Helvetica,sans-Serif\" font-size=\"14.00\" fill=\"#000000\">(...)</text>\n",
       "</g>\n",
       "<!-- 5&#45;&gt;595 -->\n",
       "<g id=\"edge7\" class=\"edge\">\n",
       "<title>5&#45;&gt;595</title>\n",
       "<path fill=\"none\" stroke=\"#000000\" d=\"M89.1854,-71.8901C92.5261,-63.0279 95.975,-53.8788 99.0614,-45.6913\"/>\n",
       "<polygon fill=\"#000000\" stroke=\"#000000\" points=\"102.3624,-46.8569 102.6147,-36.2651 95.8123,-44.3878 102.3624,-46.8569\"/>\n",
       "</g>\n",
       "<!-- 687 -->\n",
       "<g id=\"node12\" class=\"node\">\n",
       "<title>687</title>\n",
       "<path fill=\"#e58139\" fill-opacity=\"0.372549\" stroke=\"#000000\" d=\"M525,-274C525,-274 424,-274 424,-274 418,-274 412,-268 412,-262 412,-262 412,-203 412,-203 412,-197 418,-191 424,-191 424,-191 525,-191 525,-191 531,-191 537,-197 537,-203 537,-203 537,-262 537,-262 537,-268 531,-274 525,-274\"/>\n",
       "<text text-anchor=\"start\" x=\"438\" y=\"-258.8\" font-family=\"Helvetica,sans-Serif\" font-size=\"14.00\" fill=\"#000000\">great ≤ 0.03</text>\n",
       "<text text-anchor=\"start\" x=\"439\" y=\"-243.8\" font-family=\"Helvetica,sans-Serif\" font-size=\"14.00\" fill=\"#000000\">gini = 0.474</text>\n",
       "<text text-anchor=\"start\" x=\"429.5\" y=\"-228.8\" font-family=\"Helvetica,sans-Serif\" font-size=\"14.00\" fill=\"#000000\">samples = 522</text>\n",
       "<text text-anchor=\"start\" x=\"420\" y=\"-213.8\" font-family=\"Helvetica,sans-Serif\" font-size=\"14.00\" fill=\"#000000\">value = [321, 201]</text>\n",
       "<text text-anchor=\"start\" x=\"447\" y=\"-198.8\" font-family=\"Helvetica,sans-Serif\" font-size=\"14.00\" fill=\"#000000\">class = 0</text>\n",
       "</g>\n",
       "<!-- 686&#45;&gt;687 -->\n",
       "<g id=\"edge11\" class=\"edge\">\n",
       "<title>686&#45;&gt;687</title>\n",
       "<path fill=\"none\" stroke=\"#000000\" d=\"M503.1109,-309.8796C500.014,-301.5037 496.7243,-292.6067 493.5206,-283.942\"/>\n",
       "<polygon fill=\"#000000\" stroke=\"#000000\" points=\"496.7056,-282.4636 489.9547,-274.2981 490.14,-284.8913 496.7056,-282.4636\"/>\n",
       "</g>\n",
       "<!-- 690 -->\n",
       "<g id=\"node15\" class=\"node\">\n",
       "<title>690</title>\n",
       "<path fill=\"#399de5\" stroke=\"#000000\" d=\"M653.5,-266.5C653.5,-266.5 567.5,-266.5 567.5,-266.5 561.5,-266.5 555.5,-260.5 555.5,-254.5 555.5,-254.5 555.5,-210.5 555.5,-210.5 555.5,-204.5 561.5,-198.5 567.5,-198.5 567.5,-198.5 653.5,-198.5 653.5,-198.5 659.5,-198.5 665.5,-204.5 665.5,-210.5 665.5,-210.5 665.5,-254.5 665.5,-254.5 665.5,-260.5 659.5,-266.5 653.5,-266.5\"/>\n",
       "<text text-anchor=\"start\" x=\"582.5\" y=\"-251.3\" font-family=\"Helvetica,sans-Serif\" font-size=\"14.00\" fill=\"#000000\">gini = 0.0</text>\n",
       "<text text-anchor=\"start\" x=\"565.5\" y=\"-236.3\" font-family=\"Helvetica,sans-Serif\" font-size=\"14.00\" fill=\"#000000\">samples = 130</text>\n",
       "<text text-anchor=\"start\" x=\"563.5\" y=\"-221.3\" font-family=\"Helvetica,sans-Serif\" font-size=\"14.00\" fill=\"#000000\">value = [0, 130]</text>\n",
       "<text text-anchor=\"start\" x=\"583\" y=\"-206.3\" font-family=\"Helvetica,sans-Serif\" font-size=\"14.00\" fill=\"#000000\">class = 1</text>\n",
       "</g>\n",
       "<!-- 686&#45;&gt;690 -->\n",
       "<g id=\"edge14\" class=\"edge\">\n",
       "<title>686&#45;&gt;690</title>\n",
       "<path fill=\"none\" stroke=\"#000000\" d=\"M550.6771,-309.8796C559.4333,-298.5536 568.9262,-286.2748 577.7156,-274.9058\"/>\n",
       "<polygon fill=\"#000000\" stroke=\"#000000\" points=\"580.6234,-276.8671 583.9708,-266.8149 575.0854,-272.5856 580.6234,-276.8671\"/>\n",
       "</g>\n",
       "<!-- 688 -->\n",
       "<g id=\"node13\" class=\"node\">\n",
       "<title>688</title>\n",
       "<path fill=\"#e58139\" fill-opacity=\"0.521569\" stroke=\"#000000\" d=\"M488,-147.5C488,-147.5 387,-147.5 387,-147.5 381,-147.5 375,-141.5 375,-135.5 375,-135.5 375,-91.5 375,-91.5 375,-85.5 381,-79.5 387,-79.5 387,-79.5 488,-79.5 488,-79.5 494,-79.5 500,-85.5 500,-91.5 500,-91.5 500,-135.5 500,-135.5 500,-141.5 494,-147.5 488,-147.5\"/>\n",
       "<text text-anchor=\"start\" x=\"402\" y=\"-132.3\" font-family=\"Helvetica,sans-Serif\" font-size=\"14.00\" fill=\"#000000\">gini = 0.438</text>\n",
       "<text text-anchor=\"start\" x=\"392.5\" y=\"-117.3\" font-family=\"Helvetica,sans-Serif\" font-size=\"14.00\" fill=\"#000000\">samples = 433</text>\n",
       "<text text-anchor=\"start\" x=\"383\" y=\"-102.3\" font-family=\"Helvetica,sans-Serif\" font-size=\"14.00\" fill=\"#000000\">value = [293, 140]</text>\n",
       "<text text-anchor=\"start\" x=\"410\" y=\"-87.3\" font-family=\"Helvetica,sans-Serif\" font-size=\"14.00\" fill=\"#000000\">class = 0</text>\n",
       "</g>\n",
       "<!-- 687&#45;&gt;688 -->\n",
       "<g id=\"edge12\" class=\"edge\">\n",
       "<title>687&#45;&gt;688</title>\n",
       "<path fill=\"none\" stroke=\"#000000\" d=\"M461.5592,-190.8796C458.2086,-180.1034 454.5899,-168.4647 451.2017,-157.5677\"/>\n",
       "<polygon fill=\"#000000\" stroke=\"#000000\" points=\"454.4806,-156.3248 448.1693,-147.8149 447.7963,-158.4032 454.4806,-156.3248\"/>\n",
       "</g>\n",
       "<!-- 689 -->\n",
       "<g id=\"node14\" class=\"node\">\n",
       "<title>689</title>\n",
       "<path fill=\"#399de5\" fill-opacity=\"0.541176\" stroke=\"#000000\" d=\"M616.5,-147.5C616.5,-147.5 530.5,-147.5 530.5,-147.5 524.5,-147.5 518.5,-141.5 518.5,-135.5 518.5,-135.5 518.5,-91.5 518.5,-91.5 518.5,-85.5 524.5,-79.5 530.5,-79.5 530.5,-79.5 616.5,-79.5 616.5,-79.5 622.5,-79.5 628.5,-85.5 628.5,-91.5 628.5,-91.5 628.5,-135.5 628.5,-135.5 628.5,-141.5 622.5,-147.5 616.5,-147.5\"/>\n",
       "<text text-anchor=\"start\" x=\"538\" y=\"-132.3\" font-family=\"Helvetica,sans-Serif\" font-size=\"14.00\" fill=\"#000000\">gini = 0.431</text>\n",
       "<text text-anchor=\"start\" x=\"532.5\" y=\"-117.3\" font-family=\"Helvetica,sans-Serif\" font-size=\"14.00\" fill=\"#000000\">samples = 89</text>\n",
       "<text text-anchor=\"start\" x=\"526.5\" y=\"-102.3\" font-family=\"Helvetica,sans-Serif\" font-size=\"14.00\" fill=\"#000000\">value = [28, 61]</text>\n",
       "<text text-anchor=\"start\" x=\"546\" y=\"-87.3\" font-family=\"Helvetica,sans-Serif\" font-size=\"14.00\" fill=\"#000000\">class = 1</text>\n",
       "</g>\n",
       "<!-- 687&#45;&gt;689 -->\n",
       "<g id=\"edge13\" class=\"edge\">\n",
       "<title>687&#45;&gt;689</title>\n",
       "<path fill=\"none\" stroke=\"#000000\" d=\"M509.1254,-190.8796C518.6393,-179.4436 528.9614,-167.0363 538.4965,-155.575\"/>\n",
       "<polygon fill=\"#000000\" stroke=\"#000000\" points=\"541.2474,-157.7409 544.9523,-147.8149 535.8661,-153.264 541.2474,-157.7409\"/>\n",
       "</g>\n",
       "<!-- 693 -->\n",
       "<g id=\"node18\" class=\"node\">\n",
       "<title>693</title>\n",
       "<path fill=\"#399de5\" fill-opacity=\"0.466667\" stroke=\"#000000\" d=\"M931.5,-512C931.5,-512 815.5,-512 815.5,-512 809.5,-512 803.5,-506 803.5,-500 803.5,-500 803.5,-441 803.5,-441 803.5,-435 809.5,-429 815.5,-429 815.5,-429 931.5,-429 931.5,-429 937.5,-429 943.5,-435 943.5,-441 943.5,-441 943.5,-500 943.5,-500 943.5,-506 937.5,-512 931.5,-512\"/>\n",
       "<text text-anchor=\"start\" x=\"820.5\" y=\"-496.8\" font-family=\"Helvetica,sans-Serif\" font-size=\"14.00\" fill=\"#000000\">not worth ≤ 0.063</text>\n",
       "<text text-anchor=\"start\" x=\"838\" y=\"-481.8\" font-family=\"Helvetica,sans-Serif\" font-size=\"14.00\" fill=\"#000000\">gini = 0.453</text>\n",
       "<text text-anchor=\"start\" x=\"825\" y=\"-466.8\" font-family=\"Helvetica,sans-Serif\" font-size=\"14.00\" fill=\"#000000\">samples = 7255</text>\n",
       "<text text-anchor=\"start\" x=\"811.5\" y=\"-451.8\" font-family=\"Helvetica,sans-Serif\" font-size=\"14.00\" fill=\"#000000\">value = [2518, 4737]</text>\n",
       "<text text-anchor=\"start\" x=\"846\" y=\"-436.8\" font-family=\"Helvetica,sans-Serif\" font-size=\"14.00\" fill=\"#000000\">class = 1</text>\n",
       "</g>\n",
       "<!-- 692&#45;&gt;693 -->\n",
       "<g id=\"edge17\" class=\"edge\">\n",
       "<title>692&#45;&gt;693</title>\n",
       "<path fill=\"none\" stroke=\"#000000\" d=\"M873.5,-547.8796C873.5,-539.6838 873.5,-530.9891 873.5,-522.5013\"/>\n",
       "<polygon fill=\"#000000\" stroke=\"#000000\" points=\"877.0001,-522.298 873.5,-512.2981 870.0001,-522.2981 877.0001,-522.298\"/>\n",
       "</g>\n",
       "<!-- 990 -->\n",
       "<g id=\"node27\" class=\"node\">\n",
       "<title>990</title>\n",
       "<path fill=\"#399de5\" fill-opacity=\"0.862745\" stroke=\"#000000\" d=\"M1098.5,-512C1098.5,-512 990.5,-512 990.5,-512 984.5,-512 978.5,-506 978.5,-500 978.5,-500 978.5,-441 978.5,-441 978.5,-435 984.5,-429 990.5,-429 990.5,-429 1098.5,-429 1098.5,-429 1104.5,-429 1110.5,-435 1110.5,-441 1110.5,-441 1110.5,-500 1110.5,-500 1110.5,-506 1104.5,-512 1098.5,-512\"/>\n",
       "<text text-anchor=\"start\" x=\"993\" y=\"-496.8\" font-family=\"Helvetica,sans-Serif\" font-size=\"14.00\" fill=\"#000000\">not great ≤ 0.085</text>\n",
       "<text text-anchor=\"start\" x=\"1009\" y=\"-481.8\" font-family=\"Helvetica,sans-Serif\" font-size=\"14.00\" fill=\"#000000\">gini = 0.214</text>\n",
       "<text text-anchor=\"start\" x=\"996\" y=\"-466.8\" font-family=\"Helvetica,sans-Serif\" font-size=\"14.00\" fill=\"#000000\">samples = 1854</text>\n",
       "<text text-anchor=\"start\" x=\"986.5\" y=\"-451.8\" font-family=\"Helvetica,sans-Serif\" font-size=\"14.00\" fill=\"#000000\">value = [226, 1628]</text>\n",
       "<text text-anchor=\"start\" x=\"1017\" y=\"-436.8\" font-family=\"Helvetica,sans-Serif\" font-size=\"14.00\" fill=\"#000000\">class = 1</text>\n",
       "</g>\n",
       "<!-- 692&#45;&gt;990 -->\n",
       "<g id=\"edge26\" class=\"edge\">\n",
       "<title>692&#45;&gt;990</title>\n",
       "<path fill=\"none\" stroke=\"#000000\" d=\"M933.3075,-547.8796C947.2358,-538.1868 962.1669,-527.7961 976.4231,-517.8752\"/>\n",
       "<polygon fill=\"#000000\" stroke=\"#000000\" points=\"978.5174,-520.6819 984.7263,-512.0969 974.5189,-514.9362 978.5174,-520.6819\"/>\n",
       "</g>\n",
       "<!-- 694 -->\n",
       "<g id=\"node19\" class=\"node\">\n",
       "<title>694</title>\n",
       "<path fill=\"#399de5\" fill-opacity=\"0.494118\" stroke=\"#000000\" d=\"M811.5,-393C811.5,-393 695.5,-393 695.5,-393 689.5,-393 683.5,-387 683.5,-381 683.5,-381 683.5,-322 683.5,-322 683.5,-316 689.5,-310 695.5,-310 695.5,-310 811.5,-310 811.5,-310 817.5,-310 823.5,-316 823.5,-322 823.5,-322 823.5,-381 823.5,-381 823.5,-387 817.5,-393 811.5,-393\"/>\n",
       "<text text-anchor=\"start\" x=\"706.5\" y=\"-377.8\" font-family=\"Helvetica,sans-Serif\" font-size=\"14.00\" fill=\"#000000\">not buy ≤ 0.061</text>\n",
       "<text text-anchor=\"start\" x=\"718\" y=\"-362.8\" font-family=\"Helvetica,sans-Serif\" font-size=\"14.00\" fill=\"#000000\">gini = 0.446</text>\n",
       "<text text-anchor=\"start\" x=\"705\" y=\"-347.8\" font-family=\"Helvetica,sans-Serif\" font-size=\"14.00\" fill=\"#000000\">samples = 7119</text>\n",
       "<text text-anchor=\"start\" x=\"691.5\" y=\"-332.8\" font-family=\"Helvetica,sans-Serif\" font-size=\"14.00\" fill=\"#000000\">value = [2392, 4727]</text>\n",
       "<text text-anchor=\"start\" x=\"726\" y=\"-317.8\" font-family=\"Helvetica,sans-Serif\" font-size=\"14.00\" fill=\"#000000\">class = 1</text>\n",
       "</g>\n",
       "<!-- 693&#45;&gt;694 -->\n",
       "<g id=\"edge18\" class=\"edge\">\n",
       "<title>693&#45;&gt;694</title>\n",
       "<path fill=\"none\" stroke=\"#000000\" d=\"M831.5298,-428.8796C822.2662,-419.6931 812.3704,-409.8798 802.8448,-400.4336\"/>\n",
       "<polygon fill=\"#000000\" stroke=\"#000000\" points=\"805.2144,-397.8543 795.6493,-393.2981 800.2854,-402.8247 805.2144,-397.8543\"/>\n",
       "</g>\n",
       "<!-- 989 -->\n",
       "<g id=\"node26\" class=\"node\">\n",
       "<title>989</title>\n",
       "<path fill=\"#e58139\" fill-opacity=\"0.921569\" stroke=\"#000000\" d=\"M947,-385.5C947,-385.5 854,-385.5 854,-385.5 848,-385.5 842,-379.5 842,-373.5 842,-373.5 842,-329.5 842,-329.5 842,-323.5 848,-317.5 854,-317.5 854,-317.5 947,-317.5 947,-317.5 953,-317.5 959,-323.5 959,-329.5 959,-329.5 959,-373.5 959,-373.5 959,-379.5 953,-385.5 947,-385.5\"/>\n",
       "<text text-anchor=\"start\" x=\"865\" y=\"-370.3\" font-family=\"Helvetica,sans-Serif\" font-size=\"14.00\" fill=\"#000000\">gini = 0.136</text>\n",
       "<text text-anchor=\"start\" x=\"855.5\" y=\"-355.3\" font-family=\"Helvetica,sans-Serif\" font-size=\"14.00\" fill=\"#000000\">samples = 136</text>\n",
       "<text text-anchor=\"start\" x=\"850\" y=\"-340.3\" font-family=\"Helvetica,sans-Serif\" font-size=\"14.00\" fill=\"#000000\">value = [126, 10]</text>\n",
       "<text text-anchor=\"start\" x=\"873\" y=\"-325.3\" font-family=\"Helvetica,sans-Serif\" font-size=\"14.00\" fill=\"#000000\">class = 0</text>\n",
       "</g>\n",
       "<!-- 693&#45;&gt;989 -->\n",
       "<g id=\"edge25\" class=\"edge\">\n",
       "<title>693&#45;&gt;989</title>\n",
       "<path fill=\"none\" stroke=\"#000000\" d=\"M882.9433,-428.8796C885.3883,-418.1034 888.029,-406.4647 890.5014,-395.5677\"/>\n",
       "<polygon fill=\"#000000\" stroke=\"#000000\" points=\"893.9148,-396.3415 892.7143,-385.8149 887.0883,-394.7926 893.9148,-396.3415\"/>\n",
       "</g>\n",
       "<!-- 695 -->\n",
       "<g id=\"node20\" class=\"node\">\n",
       "<title>695</title>\n",
       "<path fill=\"#399de5\" fill-opacity=\"0.533333\" stroke=\"#000000\" d=\"M811.5,-274C811.5,-274 695.5,-274 695.5,-274 689.5,-274 683.5,-268 683.5,-262 683.5,-262 683.5,-203 683.5,-203 683.5,-197 689.5,-191 695.5,-191 695.5,-191 811.5,-191 811.5,-191 817.5,-191 823.5,-197 823.5,-203 823.5,-203 823.5,-262 823.5,-262 823.5,-268 817.5,-274 811.5,-274\"/>\n",
       "<text text-anchor=\"start\" x=\"711\" y=\"-258.8\" font-family=\"Helvetica,sans-Serif\" font-size=\"14.00\" fill=\"#000000\">waste ≤ 0.071</text>\n",
       "<text text-anchor=\"start\" x=\"718\" y=\"-243.8\" font-family=\"Helvetica,sans-Serif\" font-size=\"14.00\" fill=\"#000000\">gini = 0.435</text>\n",
       "<text text-anchor=\"start\" x=\"705\" y=\"-228.8\" font-family=\"Helvetica,sans-Serif\" font-size=\"14.00\" fill=\"#000000\">samples = 6823</text>\n",
       "<text text-anchor=\"start\" x=\"691.5\" y=\"-213.8\" font-family=\"Helvetica,sans-Serif\" font-size=\"14.00\" fill=\"#000000\">value = [2177, 4646]</text>\n",
       "<text text-anchor=\"start\" x=\"726\" y=\"-198.8\" font-family=\"Helvetica,sans-Serif\" font-size=\"14.00\" fill=\"#000000\">class = 1</text>\n",
       "</g>\n",
       "<!-- 694&#45;&gt;695 -->\n",
       "<g id=\"edge19\" class=\"edge\">\n",
       "<title>694&#45;&gt;695</title>\n",
       "<path fill=\"none\" stroke=\"#000000\" d=\"M753.5,-309.8796C753.5,-301.6838 753.5,-292.9891 753.5,-284.5013\"/>\n",
       "<polygon fill=\"#000000\" stroke=\"#000000\" points=\"757.0001,-284.298 753.5,-274.2981 750.0001,-284.2981 757.0001,-284.298\"/>\n",
       "</g>\n",
       "<!-- 988 -->\n",
       "<g id=\"node25\" class=\"node\">\n",
       "<title>988</title>\n",
       "<path fill=\"#e58139\" fill-opacity=\"0.623529\" stroke=\"#000000\" d=\"M947,-266.5C947,-266.5 854,-266.5 854,-266.5 848,-266.5 842,-260.5 842,-254.5 842,-254.5 842,-210.5 842,-210.5 842,-204.5 848,-198.5 854,-198.5 854,-198.5 947,-198.5 947,-198.5 953,-198.5 959,-204.5 959,-210.5 959,-210.5 959,-254.5 959,-254.5 959,-260.5 953,-266.5 947,-266.5\"/>\n",
       "<text text-anchor=\"start\" x=\"865\" y=\"-251.3\" font-family=\"Helvetica,sans-Serif\" font-size=\"14.00\" fill=\"#000000\">gini = 0.398</text>\n",
       "<text text-anchor=\"start\" x=\"855.5\" y=\"-236.3\" font-family=\"Helvetica,sans-Serif\" font-size=\"14.00\" fill=\"#000000\">samples = 296</text>\n",
       "<text text-anchor=\"start\" x=\"850\" y=\"-221.3\" font-family=\"Helvetica,sans-Serif\" font-size=\"14.00\" fill=\"#000000\">value = [215, 81]</text>\n",
       "<text text-anchor=\"start\" x=\"873\" y=\"-206.3\" font-family=\"Helvetica,sans-Serif\" font-size=\"14.00\" fill=\"#000000\">class = 0</text>\n",
       "</g>\n",
       "<!-- 694&#45;&gt;988 -->\n",
       "<g id=\"edge24\" class=\"edge\">\n",
       "<title>694&#45;&gt;988</title>\n",
       "<path fill=\"none\" stroke=\"#000000\" d=\"M804.9135,-309.8796C819.5835,-298.0038 835.5477,-285.0804 850.1533,-273.2568\"/>\n",
       "<polygon fill=\"#000000\" stroke=\"#000000\" points=\"852.5407,-275.8273 858.111,-266.8149 848.1363,-270.3866 852.5407,-275.8273\"/>\n",
       "</g>\n",
       "<!-- 696 -->\n",
       "<g id=\"node21\" class=\"node\">\n",
       "<title>696</title>\n",
       "<path fill=\"#399de5\" fill-opacity=\"0.552941\" stroke=\"#000000\" d=\"M793.5,-155C793.5,-155 677.5,-155 677.5,-155 671.5,-155 665.5,-149 665.5,-143 665.5,-143 665.5,-84 665.5,-84 665.5,-78 671.5,-72 677.5,-72 677.5,-72 793.5,-72 793.5,-72 799.5,-72 805.5,-78 805.5,-84 805.5,-84 805.5,-143 805.5,-143 805.5,-149 799.5,-155 793.5,-155\"/>\n",
       "<text text-anchor=\"start\" x=\"688\" y=\"-139.8\" font-family=\"Helvetica,sans-Serif\" font-size=\"14.00\" fill=\"#000000\">horrible ≤ 0.055</text>\n",
       "<text text-anchor=\"start\" x=\"700\" y=\"-124.8\" font-family=\"Helvetica,sans-Serif\" font-size=\"14.00\" fill=\"#000000\">gini = 0.427</text>\n",
       "<text text-anchor=\"start\" x=\"687\" y=\"-109.8\" font-family=\"Helvetica,sans-Serif\" font-size=\"14.00\" fill=\"#000000\">samples = 6694</text>\n",
       "<text text-anchor=\"start\" x=\"673.5\" y=\"-94.8\" font-family=\"Helvetica,sans-Serif\" font-size=\"14.00\" fill=\"#000000\">value = [2069, 4625]</text>\n",
       "<text text-anchor=\"start\" x=\"708\" y=\"-79.8\" font-family=\"Helvetica,sans-Serif\" font-size=\"14.00\" fill=\"#000000\">class = 1</text>\n",
       "</g>\n",
       "<!-- 695&#45;&gt;696 -->\n",
       "<g id=\"edge20\" class=\"edge\">\n",
       "<title>695&#45;&gt;696</title>\n",
       "<path fill=\"none\" stroke=\"#000000\" d=\"M747.2045,-190.8796C745.9512,-182.5938 744.6207,-173.798 743.3234,-165.2216\"/>\n",
       "<polygon fill=\"#000000\" stroke=\"#000000\" points=\"746.7787,-164.6621 741.8224,-155.2981 739.8574,-165.7091 746.7787,-164.6621\"/>\n",
       "</g>\n",
       "<!-- 987 -->\n",
       "<g id=\"node24\" class=\"node\">\n",
       "<title>987</title>\n",
       "<path fill=\"#e58139\" fill-opacity=\"0.803922\" stroke=\"#000000\" d=\"M929,-147.5C929,-147.5 836,-147.5 836,-147.5 830,-147.5 824,-141.5 824,-135.5 824,-135.5 824,-91.5 824,-91.5 824,-85.5 830,-79.5 836,-79.5 836,-79.5 929,-79.5 929,-79.5 935,-79.5 941,-85.5 941,-91.5 941,-91.5 941,-135.5 941,-135.5 941,-141.5 935,-147.5 929,-147.5\"/>\n",
       "<text text-anchor=\"start\" x=\"847\" y=\"-132.3\" font-family=\"Helvetica,sans-Serif\" font-size=\"14.00\" fill=\"#000000\">gini = 0.273</text>\n",
       "<text text-anchor=\"start\" x=\"837.5\" y=\"-117.3\" font-family=\"Helvetica,sans-Serif\" font-size=\"14.00\" fill=\"#000000\">samples = 129</text>\n",
       "<text text-anchor=\"start\" x=\"832\" y=\"-102.3\" font-family=\"Helvetica,sans-Serif\" font-size=\"14.00\" fill=\"#000000\">value = [108, 21]</text>\n",
       "<text text-anchor=\"start\" x=\"855\" y=\"-87.3\" font-family=\"Helvetica,sans-Serif\" font-size=\"14.00\" fill=\"#000000\">class = 0</text>\n",
       "</g>\n",
       "<!-- 695&#45;&gt;987 -->\n",
       "<g id=\"edge23\" class=\"edge\">\n",
       "<title>695&#45;&gt;987</title>\n",
       "<path fill=\"none\" stroke=\"#000000\" d=\"M798.6179,-190.8796C811.2533,-179.2237 824.9826,-166.5587 837.605,-154.9148\"/>\n",
       "<polygon fill=\"#000000\" stroke=\"#000000\" points=\"840.3244,-157.168 845.3015,-147.8149 835.578,-152.0228 840.3244,-157.168\"/>\n",
       "</g>\n",
       "<!-- 697 -->\n",
       "<g id=\"node22\" class=\"node\">\n",
       "<title>697</title>\n",
       "<path fill=\"#c0c0c0\" stroke=\"#000000\" d=\"M714.5,-36C714.5,-36 684.5,-36 684.5,-36 678.5,-36 672.5,-30 672.5,-24 672.5,-24 672.5,-12 672.5,-12 672.5,-6 678.5,0 684.5,0 684.5,0 714.5,0 714.5,0 720.5,0 726.5,-6 726.5,-12 726.5,-12 726.5,-24 726.5,-24 726.5,-30 720.5,-36 714.5,-36\"/>\n",
       "<text text-anchor=\"middle\" x=\"699.5\" y=\"-14.3\" font-family=\"Helvetica,sans-Serif\" font-size=\"14.00\" fill=\"#000000\">(...)</text>\n",
       "</g>\n",
       "<!-- 696&#45;&gt;697 -->\n",
       "<g id=\"edge21\" class=\"edge\">\n",
       "<title>696&#45;&gt;697</title>\n",
       "<path fill=\"none\" stroke=\"#000000\" d=\"M719.8146,-71.8901C716.4739,-63.0279 713.025,-53.8788 709.9386,-45.6913\"/>\n",
       "<polygon fill=\"#000000\" stroke=\"#000000\" points=\"713.1877,-44.3878 706.3853,-36.2651 706.6376,-46.8569 713.1877,-44.3878\"/>\n",
       "</g>\n",
       "<!-- 986 -->\n",
       "<g id=\"node23\" class=\"node\">\n",
       "<title>986</title>\n",
       "<path fill=\"#c0c0c0\" stroke=\"#000000\" d=\"M786.5,-36C786.5,-36 756.5,-36 756.5,-36 750.5,-36 744.5,-30 744.5,-24 744.5,-24 744.5,-12 744.5,-12 744.5,-6 750.5,0 756.5,0 756.5,0 786.5,0 786.5,0 792.5,0 798.5,-6 798.5,-12 798.5,-12 798.5,-24 798.5,-24 798.5,-30 792.5,-36 786.5,-36\"/>\n",
       "<text text-anchor=\"middle\" x=\"771.5\" y=\"-14.3\" font-family=\"Helvetica,sans-Serif\" font-size=\"14.00\" fill=\"#000000\">(...)</text>\n",
       "</g>\n",
       "<!-- 696&#45;&gt;986 -->\n",
       "<g id=\"edge22\" class=\"edge\">\n",
       "<title>696&#45;&gt;986</title>\n",
       "<path fill=\"none\" stroke=\"#000000\" d=\"M751.1854,-71.8901C754.5261,-63.0279 757.975,-53.8788 761.0614,-45.6913\"/>\n",
       "<polygon fill=\"#000000\" stroke=\"#000000\" points=\"764.3624,-46.8569 764.6147,-36.2651 757.8123,-44.3878 764.3624,-46.8569\"/>\n",
       "</g>\n",
       "<!-- 991 -->\n",
       "<g id=\"node28\" class=\"node\">\n",
       "<title>991</title>\n",
       "<path fill=\"#399de5\" fill-opacity=\"0.882353\" stroke=\"#000000\" d=\"M1098.5,-393C1098.5,-393 990.5,-393 990.5,-393 984.5,-393 978.5,-387 978.5,-381 978.5,-381 978.5,-322 978.5,-322 978.5,-316 984.5,-310 990.5,-310 990.5,-310 1098.5,-310 1098.5,-310 1104.5,-310 1110.5,-316 1110.5,-322 1110.5,-322 1110.5,-381 1110.5,-381 1110.5,-387 1104.5,-393 1098.5,-393\"/>\n",
       "<text text-anchor=\"start\" x=\"996.5\" y=\"-377.8\" font-family=\"Helvetica,sans-Serif\" font-size=\"14.00\" fill=\"#000000\">reviews ≤ 0.062</text>\n",
       "<text text-anchor=\"start\" x=\"1009\" y=\"-362.8\" font-family=\"Helvetica,sans-Serif\" font-size=\"14.00\" fill=\"#000000\">gini = 0.187</text>\n",
       "<text text-anchor=\"start\" x=\"996\" y=\"-347.8\" font-family=\"Helvetica,sans-Serif\" font-size=\"14.00\" fill=\"#000000\">samples = 1749</text>\n",
       "<text text-anchor=\"start\" x=\"986.5\" y=\"-332.8\" font-family=\"Helvetica,sans-Serif\" font-size=\"14.00\" fill=\"#000000\">value = [183, 1566]</text>\n",
       "<text text-anchor=\"start\" x=\"1017\" y=\"-317.8\" font-family=\"Helvetica,sans-Serif\" font-size=\"14.00\" fill=\"#000000\">class = 1</text>\n",
       "</g>\n",
       "<!-- 990&#45;&gt;991 -->\n",
       "<g id=\"edge27\" class=\"edge\">\n",
       "<title>990&#45;&gt;991</title>\n",
       "<path fill=\"none\" stroke=\"#000000\" d=\"M1044.5,-428.8796C1044.5,-420.6838 1044.5,-411.9891 1044.5,-403.5013\"/>\n",
       "<polygon fill=\"#000000\" stroke=\"#000000\" points=\"1048.0001,-403.298 1044.5,-393.2981 1041.0001,-403.2981 1048.0001,-403.298\"/>\n",
       "</g>\n",
       "<!-- 1086 -->\n",
       "<g id=\"node35\" class=\"node\">\n",
       "<title>1086</title>\n",
       "<path fill=\"#399de5\" fill-opacity=\"0.305882\" stroke=\"#000000\" d=\"M1226.5,-385.5C1226.5,-385.5 1140.5,-385.5 1140.5,-385.5 1134.5,-385.5 1128.5,-379.5 1128.5,-373.5 1128.5,-373.5 1128.5,-329.5 1128.5,-329.5 1128.5,-323.5 1134.5,-317.5 1140.5,-317.5 1140.5,-317.5 1226.5,-317.5 1226.5,-317.5 1232.5,-317.5 1238.5,-323.5 1238.5,-329.5 1238.5,-329.5 1238.5,-373.5 1238.5,-373.5 1238.5,-379.5 1232.5,-385.5 1226.5,-385.5\"/>\n",
       "<text text-anchor=\"start\" x=\"1148\" y=\"-370.3\" font-family=\"Helvetica,sans-Serif\" font-size=\"14.00\" fill=\"#000000\">gini = 0.484</text>\n",
       "<text text-anchor=\"start\" x=\"1138.5\" y=\"-355.3\" font-family=\"Helvetica,sans-Serif\" font-size=\"14.00\" fill=\"#000000\">samples = 105</text>\n",
       "<text text-anchor=\"start\" x=\"1136.5\" y=\"-340.3\" font-family=\"Helvetica,sans-Serif\" font-size=\"14.00\" fill=\"#000000\">value = [43, 62]</text>\n",
       "<text text-anchor=\"start\" x=\"1156\" y=\"-325.3\" font-family=\"Helvetica,sans-Serif\" font-size=\"14.00\" fill=\"#000000\">class = 1</text>\n",
       "</g>\n",
       "<!-- 990&#45;&gt;1086 -->\n",
       "<g id=\"edge34\" class=\"edge\">\n",
       "<title>990&#45;&gt;1086</title>\n",
       "<path fill=\"none\" stroke=\"#000000\" d=\"M1093.1155,-428.8796C1106.8587,-417.1138 1121.8031,-404.3197 1135.5093,-392.5855\"/>\n",
       "<polygon fill=\"#000000\" stroke=\"#000000\" points=\"1138.0976,-394.9771 1143.4178,-385.8149 1133.5452,-389.6596 1138.0976,-394.9771\"/>\n",
       "</g>\n",
       "<!-- 992 -->\n",
       "<g id=\"node29\" class=\"node\">\n",
       "<title>992</title>\n",
       "<path fill=\"#399de5\" fill-opacity=\"0.898039\" stroke=\"#000000\" d=\"M1099.5,-274C1099.5,-274 989.5,-274 989.5,-274 983.5,-274 977.5,-268 977.5,-262 977.5,-262 977.5,-203 977.5,-203 977.5,-197 983.5,-191 989.5,-191 989.5,-191 1099.5,-191 1099.5,-191 1105.5,-191 1111.5,-197 1111.5,-203 1111.5,-203 1111.5,-262 1111.5,-262 1111.5,-268 1105.5,-274 1099.5,-274\"/>\n",
       "<text text-anchor=\"start\" x=\"985.5\" y=\"-258.8\" font-family=\"Helvetica,sans-Serif\" font-size=\"14.00\" fill=\"#000000\">wanted like ≤ 0.048</text>\n",
       "<text text-anchor=\"start\" x=\"1012.5\" y=\"-243.8\" font-family=\"Helvetica,sans-Serif\" font-size=\"14.00\" fill=\"#000000\">gini = 0.17</text>\n",
       "<text text-anchor=\"start\" x=\"996\" y=\"-228.8\" font-family=\"Helvetica,sans-Serif\" font-size=\"14.00\" fill=\"#000000\">samples = 1690</text>\n",
       "<text text-anchor=\"start\" x=\"986.5\" y=\"-213.8\" font-family=\"Helvetica,sans-Serif\" font-size=\"14.00\" fill=\"#000000\">value = [159, 1531]</text>\n",
       "<text text-anchor=\"start\" x=\"1017\" y=\"-198.8\" font-family=\"Helvetica,sans-Serif\" font-size=\"14.00\" fill=\"#000000\">class = 1</text>\n",
       "</g>\n",
       "<!-- 991&#45;&gt;992 -->\n",
       "<g id=\"edge28\" class=\"edge\">\n",
       "<title>991&#45;&gt;992</title>\n",
       "<path fill=\"none\" stroke=\"#000000\" d=\"M1044.5,-309.8796C1044.5,-301.6838 1044.5,-292.9891 1044.5,-284.5013\"/>\n",
       "<polygon fill=\"#000000\" stroke=\"#000000\" points=\"1048.0001,-284.298 1044.5,-274.2981 1041.0001,-284.2981 1048.0001,-284.298\"/>\n",
       "</g>\n",
       "<!-- 1085 -->\n",
       "<g id=\"node34\" class=\"node\">\n",
       "<title>1085</title>\n",
       "<path fill=\"#399de5\" fill-opacity=\"0.313725\" stroke=\"#000000\" d=\"M1227.5,-266.5C1227.5,-266.5 1141.5,-266.5 1141.5,-266.5 1135.5,-266.5 1129.5,-260.5 1129.5,-254.5 1129.5,-254.5 1129.5,-210.5 1129.5,-210.5 1129.5,-204.5 1135.5,-198.5 1141.5,-198.5 1141.5,-198.5 1227.5,-198.5 1227.5,-198.5 1233.5,-198.5 1239.5,-204.5 1239.5,-210.5 1239.5,-210.5 1239.5,-254.5 1239.5,-254.5 1239.5,-260.5 1233.5,-266.5 1227.5,-266.5\"/>\n",
       "<text text-anchor=\"start\" x=\"1149\" y=\"-251.3\" font-family=\"Helvetica,sans-Serif\" font-size=\"14.00\" fill=\"#000000\">gini = 0.483</text>\n",
       "<text text-anchor=\"start\" x=\"1143.5\" y=\"-236.3\" font-family=\"Helvetica,sans-Serif\" font-size=\"14.00\" fill=\"#000000\">samples = 59</text>\n",
       "<text text-anchor=\"start\" x=\"1137.5\" y=\"-221.3\" font-family=\"Helvetica,sans-Serif\" font-size=\"14.00\" fill=\"#000000\">value = [24, 35]</text>\n",
       "<text text-anchor=\"start\" x=\"1157\" y=\"-206.3\" font-family=\"Helvetica,sans-Serif\" font-size=\"14.00\" fill=\"#000000\">class = 1</text>\n",
       "</g>\n",
       "<!-- 991&#45;&gt;1085 -->\n",
       "<g id=\"edge33\" class=\"edge\">\n",
       "<title>991&#45;&gt;1085</title>\n",
       "<path fill=\"none\" stroke=\"#000000\" d=\"M1093.4652,-309.8796C1107.3073,-298.1138 1122.3592,-285.3197 1136.1641,-273.5855\"/>\n",
       "<polygon fill=\"#000000\" stroke=\"#000000\" points=\"1138.7769,-275.9582 1144.1295,-266.8149 1134.2433,-270.6247 1138.7769,-275.9582\"/>\n",
       "</g>\n",
       "<!-- 993 -->\n",
       "<g id=\"node30\" class=\"node\">\n",
       "<title>993</title>\n",
       "<path fill=\"#399de5\" fill-opacity=\"0.901961\" stroke=\"#000000\" d=\"M1079.5,-155C1079.5,-155 971.5,-155 971.5,-155 965.5,-155 959.5,-149 959.5,-143 959.5,-143 959.5,-84 959.5,-84 959.5,-78 965.5,-72 971.5,-72 971.5,-72 1079.5,-72 1079.5,-72 1085.5,-72 1091.5,-78 1091.5,-84 1091.5,-84 1091.5,-143 1091.5,-143 1091.5,-149 1085.5,-155 1079.5,-155\"/>\n",
       "<text text-anchor=\"start\" x=\"972.5\" y=\"-139.8\" font-family=\"Helvetica,sans-Serif\" font-size=\"14.00\" fill=\"#000000\">not worth ≤ 0.062</text>\n",
       "<text text-anchor=\"start\" x=\"990\" y=\"-124.8\" font-family=\"Helvetica,sans-Serif\" font-size=\"14.00\" fill=\"#000000\">gini = 0.165</text>\n",
       "<text text-anchor=\"start\" x=\"977\" y=\"-109.8\" font-family=\"Helvetica,sans-Serif\" font-size=\"14.00\" fill=\"#000000\">samples = 1684</text>\n",
       "<text text-anchor=\"start\" x=\"967.5\" y=\"-94.8\" font-family=\"Helvetica,sans-Serif\" font-size=\"14.00\" fill=\"#000000\">value = [153, 1531]</text>\n",
       "<text text-anchor=\"start\" x=\"998\" y=\"-79.8\" font-family=\"Helvetica,sans-Serif\" font-size=\"14.00\" fill=\"#000000\">class = 1</text>\n",
       "</g>\n",
       "<!-- 992&#45;&gt;993 -->\n",
       "<g id=\"edge29\" class=\"edge\">\n",
       "<title>992&#45;&gt;993</title>\n",
       "<path fill=\"none\" stroke=\"#000000\" d=\"M1037.8547,-190.8796C1036.5318,-182.5938 1035.1274,-173.798 1033.7581,-165.2216\"/>\n",
       "<polygon fill=\"#000000\" stroke=\"#000000\" points=\"1037.2066,-164.6211 1032.1736,-155.2981 1030.2942,-165.7249 1037.2066,-164.6211\"/>\n",
       "</g>\n",
       "<!-- 1084 -->\n",
       "<g id=\"node33\" class=\"node\">\n",
       "<title>1084</title>\n",
       "<path fill=\"#e58139\" stroke=\"#000000\" d=\"M1193,-147.5C1193,-147.5 1122,-147.5 1122,-147.5 1116,-147.5 1110,-141.5 1110,-135.5 1110,-135.5 1110,-91.5 1110,-91.5 1110,-85.5 1116,-79.5 1122,-79.5 1122,-79.5 1193,-79.5 1193,-79.5 1199,-79.5 1205,-85.5 1205,-91.5 1205,-91.5 1205,-135.5 1205,-135.5 1205,-141.5 1199,-147.5 1193,-147.5\"/>\n",
       "<text text-anchor=\"start\" x=\"1129.5\" y=\"-132.3\" font-family=\"Helvetica,sans-Serif\" font-size=\"14.00\" fill=\"#000000\">gini = 0.0</text>\n",
       "<text text-anchor=\"start\" x=\"1120\" y=\"-117.3\" font-family=\"Helvetica,sans-Serif\" font-size=\"14.00\" fill=\"#000000\">samples = 6</text>\n",
       "<text text-anchor=\"start\" x=\"1118\" y=\"-102.3\" font-family=\"Helvetica,sans-Serif\" font-size=\"14.00\" fill=\"#000000\">value = [6, 0]</text>\n",
       "<text text-anchor=\"start\" x=\"1130\" y=\"-87.3\" font-family=\"Helvetica,sans-Serif\" font-size=\"14.00\" fill=\"#000000\">class = 0</text>\n",
       "</g>\n",
       "<!-- 992&#45;&gt;1084 -->\n",
       "<g id=\"edge32\" class=\"edge\">\n",
       "<title>992&#45;&gt;1084</title>\n",
       "<path fill=\"none\" stroke=\"#000000\" d=\"M1084.0219,-190.8796C1094.9857,-179.3337 1106.8897,-166.7976 1117.8601,-155.2446\"/>\n",
       "<polygon fill=\"#000000\" stroke=\"#000000\" points=\"1120.5673,-157.4766 1124.9152,-147.8149 1115.4913,-152.6564 1120.5673,-157.4766\"/>\n",
       "</g>\n",
       "<!-- 994 -->\n",
       "<g id=\"node31\" class=\"node\">\n",
       "<title>994</title>\n",
       "<path fill=\"#c0c0c0\" stroke=\"#000000\" d=\"M1004.5,-36C1004.5,-36 974.5,-36 974.5,-36 968.5,-36 962.5,-30 962.5,-24 962.5,-24 962.5,-12 962.5,-12 962.5,-6 968.5,0 974.5,0 974.5,0 1004.5,0 1004.5,0 1010.5,0 1016.5,-6 1016.5,-12 1016.5,-12 1016.5,-24 1016.5,-24 1016.5,-30 1010.5,-36 1004.5,-36\"/>\n",
       "<text text-anchor=\"middle\" x=\"989.5\" y=\"-14.3\" font-family=\"Helvetica,sans-Serif\" font-size=\"14.00\" fill=\"#000000\">(...)</text>\n",
       "</g>\n",
       "<!-- 993&#45;&gt;994 -->\n",
       "<g id=\"edge30\" class=\"edge\">\n",
       "<title>993&#45;&gt;994</title>\n",
       "<path fill=\"none\" stroke=\"#000000\" d=\"M1009.8146,-71.8901C1006.4739,-63.0279 1003.025,-53.8788 999.9386,-45.6913\"/>\n",
       "<polygon fill=\"#000000\" stroke=\"#000000\" points=\"1003.1877,-44.3878 996.3853,-36.2651 996.6376,-46.8569 1003.1877,-44.3878\"/>\n",
       "</g>\n",
       "<!-- 1083 -->\n",
       "<g id=\"node32\" class=\"node\">\n",
       "<title>1083</title>\n",
       "<path fill=\"#c0c0c0\" stroke=\"#000000\" d=\"M1076.5,-36C1076.5,-36 1046.5,-36 1046.5,-36 1040.5,-36 1034.5,-30 1034.5,-24 1034.5,-24 1034.5,-12 1034.5,-12 1034.5,-6 1040.5,0 1046.5,0 1046.5,0 1076.5,0 1076.5,0 1082.5,0 1088.5,-6 1088.5,-12 1088.5,-12 1088.5,-24 1088.5,-24 1088.5,-30 1082.5,-36 1076.5,-36\"/>\n",
       "<text text-anchor=\"middle\" x=\"1061.5\" y=\"-14.3\" font-family=\"Helvetica,sans-Serif\" font-size=\"14.00\" fill=\"#000000\">(...)</text>\n",
       "</g>\n",
       "<!-- 993&#45;&gt;1083 -->\n",
       "<g id=\"edge31\" class=\"edge\">\n",
       "<title>993&#45;&gt;1083</title>\n",
       "<path fill=\"none\" stroke=\"#000000\" d=\"M1041.1854,-71.8901C1044.5261,-63.0279 1047.975,-53.8788 1051.0614,-45.6913\"/>\n",
       "<polygon fill=\"#000000\" stroke=\"#000000\" points=\"1054.3624,-46.8569 1054.6147,-36.2651 1047.8123,-44.3878 1054.3624,-46.8569\"/>\n",
       "</g>\n",
       "</g>\n",
       "</svg>\n"
      ],
      "text/plain": [
       "<graphviz.files.Source at 0x7fdc53ca2da0>"
      ]
     },
     "execution_count": 26,
     "metadata": {},
     "output_type": "execute_result"
    }
   ],
   "source": [
    "dtreeDOT = tree.export_graphviz(clff, out_file=None, feature_names=tdidf_vect_features, class_names=['0','1'], filled=True, rounded=True, special_characters=True, max_depth=5)\n",
    "graph = graphviz.Source(dtreeDOT) \n",
    "graph"
   ]
  },
  {
   "cell_type": "markdown",
   "metadata": {
    "colab_type": "text",
    "id": "NVhl_V6MiWO5"
   },
   "source": [
    "## [5.3] Applying Decision Trees on AVG W2V,<font color='red'> SET 3</font>"
   ]
  },
  {
   "cell_type": "code",
   "execution_count": 29,
   "metadata": {
    "colab": {},
    "colab_type": "code",
    "id": "uYDXnzMmiWO5"
   },
   "outputs": [
    {
     "name": "stderr",
     "output_type": "stream",
     "text": [
      "100%|██████████| 43008/43008 [01:18<00:00, 546.35it/s]\n",
      "100%|██████████| 26332/26332 [00:46<00:00, 562.20it/s]\n",
      "100%|██████████| 18433/18433 [00:30<00:00, 598.62it/s]\n"
     ]
    },
    {
     "name": "stdout",
     "output_type": "stream",
     "text": [
      "Optimal Depth for Train Data =  10\n",
      "Optimal Depth for CV Data =  500\n"
     ]
    },
    {
     "data": {
      "image/png": "[encoded data removed]",
      "text/plain": [
       "<Figure size 432x288 with 1 Axes>"
      ]
     },
     "metadata": {},
     "output_type": "display_data"
    },
    {
     "name": "stdout",
     "output_type": "stream",
     "text": [
      "Optimal Minimum Sample Split for Train Data =  100\n",
      "Optimal Minimum Sample Split for CV Data =  502\n"
     ]
    },
    {
     "data": {
      "image/png": "[encoded data removed]",
      "text/plain": [
       "<Figure size 432x288 with 1 Axes>"
      ]
     },
     "metadata": {},
     "output_type": "display_data"
    },
    {
     "data": {
      "image/png": "[encoded data removed]",
      "text/plain": [
       "<Figure size 432x288 with 1 Axes>"
      ]
     },
     "metadata": {},
     "output_type": "display_data"
    },
    {
     "name": "stdout",
     "output_type": "stream",
     "text": [
      "The AUC Score on Test data =  0.6343048566148638\n"
     ]
    },
    {
     "data": {
      "image/png": "[encoded data removed]",
      "text/plain": [
       "<Figure size 720x504 with 2 Axes>"
      ]
     },
     "metadata": {},
     "output_type": "display_data"
    }
   ],
   "source": [
    "# average Word2Vec\n",
    "i=0\n",
    "list_of_sentance=[]\n",
    "list_of_sentance_train=[]\n",
    "list_of_sentance_test=[]\n",
    "list_of_sentance_cv=[]\n",
    "\n",
    "#Train Test Split Before Vectorizing. This is to prevent Data Leakage\n",
    "X_train, X_test, y_train, y_test = cross_validation.train_test_split(preprocessed_reviews, final['Score'], test_size=0.3, random_state=0)\n",
    "\n",
    "#Splitting X_train again into X_train and X_val.\n",
    "X_train, X_val, y_train, y_val = cross_validation.train_test_split(X_train, y_train, test_size=0.3, random_state=0)\n",
    "\n",
    "#Construct the Word2Vec model\n",
    "'''\n",
    "for sentance in preprocessed_reviews:\n",
    "    list_of_sentance.append(sentance.split())\n",
    "w2v_model=Word2Vec(list_of_sentance,min_count=5,size=50, workers=4)\n",
    "w2v_words = list(w2v_model.wv.vocab)\n",
    "'''\n",
    "#Construct the Word2Vec model\n",
    "for sentance in X_train:\n",
    "    list_of_sentance.append(sentance.split())\n",
    "w2v_model=Word2Vec(list_of_sentance,min_count=5,size=50, workers=4)\n",
    "w2v_words = list(w2v_model.wv.vocab)\n",
    "\n",
    "\n",
    "\n",
    "\n",
    "\n",
    "#converting text to vector using Average Word2Vec for Train Set\n",
    "for sentance in X_train:\n",
    "    list_of_sentance_train.append(sentance.split())\n",
    "    \n",
    "sent_vectors_train = []; # the avg-w2v for each sentence/review in train set is stored in this list\n",
    "for sent in tqdm(list_of_sentance_train): # for each review/sentence\n",
    "    sent_vec = np.zeros(50) # as word vectors are of zero length 50, you might need to change this to 300 if you use google's w2v\n",
    "    cnt_words =0; # num of words with a valid vector in the sentence/review\n",
    "    for word in sent: # for each word in a review/sentence\n",
    "        if word in w2v_words:\n",
    "            vec = w2v_model.wv[word]\n",
    "            sent_vec += vec\n",
    "            cnt_words += 1\n",
    "    if cnt_words != 0:\n",
    "        sent_vec /= cnt_words\n",
    "    sent_vectors_train.append(sent_vec)\n",
    "    \n",
    "    \n",
    "#converting text to vector using Average Word2Vec for Test Set\n",
    "for sentance in X_test:\n",
    "    list_of_sentance_test.append(sentance.split())\n",
    "\n",
    "sent_vectors_test = []; # the avg-w2v for each sentence/review in test set is stored in this list\n",
    "for sent in tqdm(list_of_sentance_test): # for each review/sentence\n",
    "    sent_vec = np.zeros(50) # as word vectors are of zero length 50, you might need to change this to 300 if you use google's w2v\n",
    "    cnt_words =0; # num of words with a valid vector in the sentence/review\n",
    "    for word in sent: # for each word in a review/sentence\n",
    "        if word in w2v_words:\n",
    "            vec = w2v_model.wv[word]\n",
    "            sent_vec += vec\n",
    "            cnt_words += 1\n",
    "    if cnt_words != 0:\n",
    "        sent_vec /= cnt_words\n",
    "    sent_vectors_test.append(sent_vec)\n",
    "    \n",
    "    \n",
    "#converting text to vector using Average Word2Vec for Validation Set \n",
    "for sentance in X_val:\n",
    "    list_of_sentance_cv.append(sentance.split())\n",
    "\n",
    "sent_vectors_val = []; # the avg-w2v for each sentence/review in CV set is stored in this list\n",
    "for sent in tqdm(list_of_sentance_cv): # for each review/sentence\n",
    "    sent_vec = np.zeros(50) # as word vectors are of zero length 50, you might need to change this to 300 if you use google's w2v\n",
    "    cnt_words =0; # num of words with a valid vector in the sentence/review\n",
    "    for word in sent: # for each word in a review/sentence\n",
    "        if word in w2v_words:\n",
    "            vec = w2v_model.wv[word]\n",
    "            sent_vec += vec\n",
    "            cnt_words += 1\n",
    "    if cnt_words != 0:\n",
    "        sent_vec /= cnt_words\n",
    "    sent_vectors_val.append(sent_vec)\n",
    "#Text to vector conversion completes \n",
    "\n",
    "\n",
    "min_samples_splits = [5, 10, 100, 500, 501, 502, 503]\n",
    "max_depths = [1, 5, 10, 50, 100, 500, 100]\n",
    "train_results = []\n",
    "cv_results = []\n",
    "max_roc_auc_train = 0\n",
    "max_roc_auc_cv = 0\n",
    "optimalMinSSplitTrain = 0\n",
    "optimalMinSSplitCV = 0\n",
    "for max_depth, min_samples_split in zip(max_depths, min_samples_splits):\n",
    "    clf = tree.DecisionTreeClassifier(min_samples_split=min_samples_split, max_depth=max_depth)\n",
    "    clf.fit(sent_vectors_train, y_train)\n",
    "    false_positive_rate, true_positive_rate, thresholds = roc_curve(y_train, clf.predict_proba(sent_vectors_train)[:,1])\n",
    "    roc_auc_train = auc(false_positive_rate, true_positive_rate)\n",
    "    \n",
    "    #store the optimal depth and the corresponding AUC score\n",
    "    if roc_auc_train > max_roc_auc_train:\n",
    "        max_roc_auc_train = roc_auc_train\n",
    "        optimalMinSSplitTrain = min_samples_split\n",
    "        optimalDepthTrain = max_depth\n",
    "    # Add auc score to previous train results\n",
    "    train_results.append(roc_auc_train)\n",
    "    \n",
    "   \n",
    "    false_positive_rate, true_positive_rate, thresholds = roc_curve(y_val, clf.predict_proba(sent_vectors_val)[:,1])\n",
    "    roc_auc_cv = auc(false_positive_rate, true_positive_rate)\n",
    "    #store the optimal depth and the corresponding AUC score\n",
    "    if roc_auc_cv > max_roc_auc_cv:\n",
    "        max_roc_auc_cv = roc_auc_cv\n",
    "        optimalMinSSplitCV = min_samples_split\n",
    "        optimalDepthCV = max_depth\n",
    "    # Add auc score to previous test results\n",
    "    cv_results.append(roc_auc_cv)\n",
    "    \n",
    "print(\"Optimal Depth for Train Data = \",optimalDepthTrain)\n",
    "print(\"Optimal Depth for CV Data = \",optimalDepthCV)\n",
    "line1, = plt.plot(max_depths, train_results, 'b', label=\"Train AUC\")\n",
    "line2, = plt.plot(max_depths, cv_results, 'r', label=\"CV AUC\")\n",
    "plt.legend(handler_map={line1: HandlerLine2D(numpoints=2)})\n",
    "plt.ylabel('AUC Score')\n",
    "plt.xlabel('Tree Depth')\n",
    "plt.show()\n",
    "\n",
    "print(\"Optimal Minimum Sample Split for Train Data = \",optimalMinSSplitTrain)\n",
    "print(\"Optimal Minimum Sample Split for CV Data = \",optimalMinSSplitCV)\n",
    "line1, = plt.plot(min_samples_splits, train_results, 'b', label=\"Train AUC\")\n",
    "line2, = plt.plot(min_samples_splits, cv_results, 'r', label=\"Test AUC\")\n",
    "plt.legend(handler_map={line1: HandlerLine2D(numpoints=2)})\n",
    "plt.ylabel('AUC Score')\n",
    "plt.xlabel('Min Samples Split')\n",
    "plt.show()\n",
    "\n",
    "\n",
    "#Finding Model Performance based on optimal parameters found above. We will plot the ROC and show the confusion matrix\n",
    "#Training with optimal parameters\n",
    "clff = tree.DecisionTreeClassifier(max_depth=optimalDepthCV, min_samples_split=optimalMinSSplitCV)\n",
    "clff = clff.fit(sent_vectors_train, y_train)\n",
    "#Prediction on train and test data\n",
    "train_pred = clff.predict(sent_vectors_train)\n",
    "y_pred = clff.predict(sent_vectors_test)\n",
    "#ROC for training data\n",
    "false_positive_rateTr, true_positive_rateTr, thresholdsTr = roc_curve(y_train, train_pred)\n",
    "#ROC for test data\n",
    "false_positive_rate, true_positive_rate, thresholds = roc_curve(y_test, y_pred)\n",
    "#Plot ROC for train/test\n",
    "line1, = plt.plot(false_positive_rateTr, true_positive_rateTr, 'green', label=\"Train ROC\")\n",
    "line2, = plt.plot(false_positive_rate, true_positive_rate, 'darkorange', label=\"Test ROC\")\n",
    "plt.legend(handler_map={line1: HandlerLine2D(numpoints=2)})\n",
    "plt.ylabel('TPR')\n",
    "plt.xlabel('FPR')\n",
    "plt.show()\n",
    "#Finding the AUC Score on test data and printing Confusion Matrix\n",
    "roc_auc = auc(false_positive_rate, true_positive_rate)\n",
    "print(\"The AUC Score on Test data = \",roc_auc)\n",
    "cfs_matrix = confusion_matrix(y_test.values, y_pred)\n",
    "class_names = ['True', 'False']\n",
    "print_confusion_matrix(cfs_matrix, class_names, figsize = (10,7), fontsize=14)"
   ]
  },
  {
   "cell_type": "markdown",
   "metadata": {
    "colab_type": "text",
    "id": "PnwVzXytiWO7"
   },
   "source": [
    "## [5.4] Applying Decision Trees on TFIDF W2V,<font color='red'> SET 4</font>"
   ]
  },
  {
   "cell_type": "code",
   "execution_count": 30,
   "metadata": {
    "colab": {},
    "colab_type": "code",
    "id": "YqODkVCgiWO7"
   },
   "outputs": [
    {
     "name": "stderr",
     "output_type": "stream",
     "text": [
      "100%|██████████| 43008/43008 [08:17<00:00, 86.44it/s] \n",
      "100%|██████████| 26332/26332 [05:05<00:00, 86.18it/s] \n",
      "100%|██████████| 18433/18433 [03:17<00:00, 90.44it/s] \n"
     ]
    },
    {
     "name": "stdout",
     "output_type": "stream",
     "text": [
      "Optimal Depth for Train Data =  10\n",
      "Optimal Depth for CV Data =  100\n"
     ]
    },
    {
     "data": {
      "image/png": "[encoded data removed]",
      "text/plain": [
       "<Figure size 432x288 with 1 Axes>"
      ]
     },
     "metadata": {},
     "output_type": "display_data"
    },
    {
     "name": "stdout",
     "output_type": "stream",
     "text": [
      "Optimal Minimum Sample Split for Train Data =  100\n",
      "Optimal Minimum Sample Split for CV Data =  503\n"
     ]
    },
    {
     "data": {
      "image/png": "[encoded data removed]",
      "text/plain": [
       "<Figure size 432x288 with 1 Axes>"
      ]
     },
     "metadata": {},
     "output_type": "display_data"
    },
    {
     "data": {
      "image/png": "[encoded data removed]",
      "text/plain": [
       "<Figure size 432x288 with 1 Axes>"
      ]
     },
     "metadata": {},
     "output_type": "display_data"
    },
    {
     "name": "stdout",
     "output_type": "stream",
     "text": [
      "The AUC Score on Test data =  0.609617719246524\n"
     ]
    },
    {
     "data": {
      "image/png": "[encoded data removed]",
      "text/plain": [
       "<Figure size 720x504 with 2 Axes>"
      ]
     },
     "metadata": {},
     "output_type": "display_data"
    }
   ],
   "source": [
    "#Train Test Split Before Vectorizing. This is to prevent Data Leakage\n",
    "X_train, X_test, y_train, y_test = cross_validation.train_test_split(preprocessed_reviews, final['Score'], test_size=0.3, random_state=0)\n",
    "\n",
    "#Splitting X_train again into X_train and X_val.\n",
    "X_train, X_val, y_train, y_val = cross_validation.train_test_split(X_train, y_train, test_size=0.3, random_state=0)\n",
    "\n",
    "\n",
    "#Converting Text To Vector Using TFIDF\n",
    "tfidf_model = TfidfVectorizer()\n",
    "tfidf_vect_train = tfidf_model.fit_transform(X_train)\n",
    "tfidf_vect_test = tfidf_model.fit(X_test)\n",
    "tfidf_vect_val = tfidf_model.fit(X_val)\n",
    "# we are converting a dictionary with word as a key, and the idf as a value\n",
    "dictionary = dict(zip(tfidf_model.get_feature_names(), list(tfidf_model.idf_)))\n",
    "# TF-IDF weighted Word2Vec\n",
    "tfidf_feat = tfidf_model.get_feature_names() # tfidf words/col-names\n",
    "\n",
    "list_of_sentance_train=[]\n",
    "list_of_sentance_test=[]\n",
    "list_of_sentance_cv=[]\n",
    "\n",
    "\n",
    "for sentance in X_train:\n",
    "    list_of_sentance_train.append(sentance.split())\n",
    "for sentance in X_test:\n",
    "    list_of_sentance_test.append(sentance.split())\n",
    "for sentance in X_val:\n",
    "    list_of_sentance_cv.append(sentance.split())\n",
    "    \n",
    "#Converting Text To Vector Using TFIDF_Weigted_Word2Vec For Train, Validation and Test set\n",
    "tfidf_sent_vectors_train = []; \n",
    "row=0;\n",
    "for sent in tqdm(list_of_sentance_train): # for each review/sentence \n",
    "    sent_vec = np.zeros(50) # as word vectors are of zero length\n",
    "    weight_sum =0; # num of words with a valid vector in the sentence/review\n",
    "    for word in sent: # for each word in a review/sentence\n",
    "        if word in w2v_words and word in tfidf_feat:\n",
    "            vec = w2v_model.wv[word]\n",
    "            #tf_idf = tf_idf_matrix[row, tfidf_feat.index(word)]\n",
    "            # to reduce the computation we are \n",
    "            # dictionary[word] = idf value of word in whole courpus\n",
    "            # sent.count(word) = tf valeus of word in this review\n",
    "            tf_idf = dictionary[word]*(sent.count(word)/len(sent))\n",
    "            sent_vec += (vec * tf_idf)\n",
    "            weight_sum += tf_idf\n",
    "    if weight_sum != 0:\n",
    "        sent_vec /= weight_sum\n",
    "    tfidf_sent_vectors_train.append(sent_vec)\n",
    "    row += 1\n",
    "    \n",
    "    \n",
    "tfidf_sent_vectors_test = []; # the tfidf-w2v for each sentence/review is stored in this list\n",
    "row=0;\n",
    "for sent in tqdm(list_of_sentance_test): # for each review/sentence \n",
    "    sent_vec = np.zeros(50) # as word vectors are of zero length\n",
    "    weight_sum =0; # num of words with a valid vector in the sentence/review\n",
    "    for word in sent: # for each word in a review/sentence\n",
    "        if word in w2v_words and word in tfidf_feat:\n",
    "            vec = w2v_model.wv[word]\n",
    "            #tf_idf = tf_idf_matrix[row, tfidf_feat.index(word)]\n",
    "            # to reduce the computation we are \n",
    "            # dictionary[word] = idf value of word in whole courpus\n",
    "            # sent.count(word) = tf valeus of word in this review\n",
    "            tf_idf = dictionary[word]*(sent.count(word)/len(sent))\n",
    "            sent_vec += (vec * tf_idf)\n",
    "            weight_sum += tf_idf\n",
    "    if weight_sum != 0:\n",
    "        sent_vec /= weight_sum\n",
    "    tfidf_sent_vectors_test.append(sent_vec)\n",
    "    row += 1\n",
    "    \n",
    "tfidf_sent_vectors_val = []; # the tfidf-w2v for each sentence/review is stored in this list\n",
    "row=0;\n",
    "for sent in tqdm(list_of_sentance_cv): # for each review/sentence \n",
    "    sent_vec = np.zeros(50) # as word vectors are of zero length\n",
    "    weight_sum =0; # num of words with a valid vector in the sentence/review\n",
    "    for word in sent: # for each word in a review/sentence\n",
    "        if word in w2v_words and word in tfidf_feat:\n",
    "            vec = w2v_model.wv[word]\n",
    "            #tf_idf = tf_idf_matrix[row, tfidf_feat.index(word)]\n",
    "            # to reduce the computation we are \n",
    "            # dictionary[word] = idf value of word in whole courpus\n",
    "            # sent.count(word) = tf valeus of word in this review\n",
    "            tf_idf = dictionary[word]*(sent.count(word)/len(sent))\n",
    "            sent_vec += (vec * tf_idf)\n",
    "            weight_sum += tf_idf\n",
    "    if weight_sum != 0:\n",
    "        sent_vec /= weight_sum\n",
    "    tfidf_sent_vectors_val.append(sent_vec)\n",
    "    row += 1   \n",
    "#text to vector conversion complete using TFIDF-Weighted Word2Vec\n",
    "\n",
    "\n",
    "#Finding the optimal parameters by observing AUC\n",
    "min_samples_splits = [5, 10, 100, 500, 501, 502, 503]\n",
    "max_depths = [1, 5, 10, 50, 100, 500, 100]\n",
    "train_results = []\n",
    "cv_results = []\n",
    "max_roc_auc_train = 0\n",
    "max_roc_auc_cv = 0\n",
    "optimalMinSSplitTrain = 0\n",
    "optimalMinSSplitCV = 0\n",
    "for max_depth, min_samples_split in zip(max_depths, min_samples_splits):\n",
    "    clf = tree.DecisionTreeClassifier(min_samples_split=min_samples_split, max_depth=max_depth)\n",
    "    clf.fit(tfidf_sent_vectors_train, y_train)\n",
    "    false_positive_rate, true_positive_rate, thresholds = roc_curve(y_train, clf.predict_proba(tfidf_sent_vectors_train)[:,1])\n",
    "    roc_auc_train = auc(false_positive_rate, true_positive_rate)\n",
    "    \n",
    "    #store the optimal depth and the corresponding AUC score\n",
    "    if roc_auc_train > max_roc_auc_train:\n",
    "        max_roc_auc_train = roc_auc_train\n",
    "        optimalMinSSplitTrain = min_samples_split\n",
    "        optimalDepthTrain = max_depth\n",
    "    # Add auc score to previous train results\n",
    "    train_results.append(roc_auc_train)\n",
    "    \n",
    "   \n",
    "    false_positive_rate, true_positive_rate, thresholds = roc_curve(y_val, clf.predict_proba(tfidf_sent_vectors_val)[:,1])\n",
    "    roc_auc_cv = auc(false_positive_rate, true_positive_rate)\n",
    "    #store the optimal depth and the corresponding AUC score\n",
    "    if roc_auc_cv > max_roc_auc_cv:\n",
    "        max_roc_auc_cv = roc_auc_cv\n",
    "        optimalMinSSplitCV = min_samples_split\n",
    "        optimalDepthCV = max_depth\n",
    "    # Add auc score to previous test results\n",
    "    cv_results.append(roc_auc_cv)\n",
    "    \n",
    "print(\"Optimal Depth for Train Data = \",optimalDepthTrain)\n",
    "print(\"Optimal Depth for CV Data = \",optimalDepthCV)\n",
    "line1, = plt.plot(max_depths, train_results, 'b', label=\"Train AUC\")\n",
    "line2, = plt.plot(max_depths, cv_results, 'r', label=\"CV AUC\")\n",
    "plt.legend(handler_map={line1: HandlerLine2D(numpoints=2)})\n",
    "plt.ylabel('AUC Score')\n",
    "plt.xlabel('Tree Depth')\n",
    "plt.show()\n",
    "\n",
    "print(\"Optimal Minimum Sample Split for Train Data = \",optimalMinSSplitTrain)\n",
    "print(\"Optimal Minimum Sample Split for CV Data = \",optimalMinSSplitCV)\n",
    "line1, = plt.plot(min_samples_splits, train_results, 'b', label=\"Train AUC\")\n",
    "line2, = plt.plot(min_samples_splits, cv_results, 'r', label=\"Test AUC\")\n",
    "plt.legend(handler_map={line1: HandlerLine2D(numpoints=2)})\n",
    "plt.ylabel('AUC Score')\n",
    "plt.xlabel('Min Samples Split')\n",
    "plt.show()\n",
    "\n",
    "\n",
    "#Finding Model Performance based on optimal parameters found above. We will plot the ROC and show the confusion matrix\n",
    "#Training with optimal parameters\n",
    "clff = tree.DecisionTreeClassifier(max_depth=optimalDepthCV, min_samples_split=optimalMinSSplitCV)\n",
    "clff = clff.fit(tfidf_sent_vectors_train, y_train)\n",
    "#Prediction on train and test data\n",
    "train_pred = clff.predict(tfidf_sent_vectors_train)\n",
    "y_pred = clff.predict(tfidf_sent_vectors_test)\n",
    "#ROC for training data\n",
    "false_positive_rateTr, true_positive_rateTr, thresholdsTr = roc_curve(y_train, train_pred)\n",
    "#ROC for test data\n",
    "false_positive_rate, true_positive_rate, thresholds = roc_curve(y_test, y_pred)\n",
    "#Plot ROC for train/test\n",
    "line1, = plt.plot(false_positive_rateTr, true_positive_rateTr, 'green', label=\"Train ROC\")\n",
    "line2, = plt.plot(false_positive_rate, true_positive_rate, 'darkorange', label=\"Test ROC\")\n",
    "plt.legend(handler_map={line1: HandlerLine2D(numpoints=2)})\n",
    "plt.ylabel('TPR')\n",
    "plt.xlabel('FPR')\n",
    "plt.show()\n",
    "#Finding the AUC Score on test data and printing Confusion Matrix\n",
    "roc_auc = auc(false_positive_rate, true_positive_rate)\n",
    "print(\"The AUC Score on Test data = \",roc_auc)\n",
    "cfs_matrix = confusion_matrix(y_test.values, y_pred)\n",
    "class_names = ['True', 'False']\n",
    "print_confusion_matrix(cfs_matrix, class_names, figsize = (10,7), fontsize=14)\n",
    "\n",
    "\n"
   ]
  },
  {
   "cell_type": "markdown",
   "metadata": {
    "colab_type": "text",
    "id": "Em-rF6u2iWO8"
   },
   "source": [
    "# [6] Conclusions"
   ]
  },
  {
   "cell_type": "code",
   "execution_count": 31,
   "metadata": {
    "colab": {},
    "colab_type": "code",
    "id": "3Hnu2QziiWO9"
   },
   "outputs": [
    {
     "name": "stdout",
     "output_type": "stream",
     "text": [
      "+--------------------+-----------------------------------+----------------------------------------------+------+\n",
      "|     Vectorizer     | Hyperparamater: Optimal Max Depth | Hyperparamater: Optimal Minimal Sample Split | AUC  |\n",
      "+--------------------+-----------------------------------+----------------------------------------------+------+\n",
      "|        BoW         |                 50                |                     500                      | 0.69 |\n",
      "|       TFIDF        |                 50                |                     500                      | 0.71 |\n",
      "|      AVG-W2V       |                500                |                     502                      | 0.64 |\n",
      "| TFIDF-Weighted-W2V |                100                |                     503                      | 0.61 |\n",
      "+--------------------+-----------------------------------+----------------------------------------------+------+\n"
     ]
    }
   ],
   "source": [
    "from prettytable import PrettyTable\n",
    "x = PrettyTable()\n",
    "x.field_names = [\"Vectorizer\", \"Hyperparamater: Optimal Max Depth\", \"Hyperparamater: Optimal Minimal Sample Split\", \"AUC\"]\n",
    "x.add_row([\"BoW\",50, 500, 0.69])\n",
    "x.add_row([\"TFIDF\",50, 500, 0.71])\n",
    "x.add_row([\"AVG-W2V\",500, 502, 0.64])\n",
    "x.add_row([\"TFIDF-Weighted-W2V\",100, 503, 0.61])\n",
    "print(x)\n"
   ]
  },
  {
   "cell_type": "code",
   "execution_count": null,
   "metadata": {},
   "outputs": [],
   "source": []
  }
 ],
 "metadata": {
  "colab": {
   "collapsed_sections": [
    "NTwQITJKiWN5",
    "T_LFck8iiWOX",
    "mjfrB76yiWOa",
    "0tcbbZxSiWOd",
    "u566lt93iWOf",
    "mUNnof40iWOl",
    "heHLB_FCiWOm",
    "ylTn3LgiiWOo",
    "NVhl_V6MiWO5",
    "PnwVzXytiWO7"
   ],
   "name": "08 Amazon Fine Food Reviews Analysis_Decision Trees.ipynb",
   "provenance": [],
   "version": "0.3.2"
  },
  "kernelspec": {
   "display_name": "Python 3",
   "language": "python",
   "name": "python3"
  },
  "language_info": {
   "codemirror_mode": {
    "name": "ipython",
    "version": 3
   },
   "file_extension": ".py",
   "mimetype": "text/x-python",
   "name": "python",
   "nbconvert_exporter": "python",
   "pygments_lexer": "ipython3",
   "version": "3.6.7"
  }
 },
 "nbformat": 4,
 "nbformat_minor": 1
}
