{
 "cells": [
  {
   "cell_type": "markdown",
   "metadata": {},
   "source": [
    "## Assignment || k-NN on  Amazon Reviews Dataset || v4\n",
    "#### By Rishiraj Adhikary For AppliedAIcourse.com || www.rishiraj.xyz@gmail.com"
   ]
  },
  {
   "cell_type": "markdown",
   "metadata": {},
   "source": [
    "### Note\n",
    "#### The amazon data used here is the cleaned and text preprocessed data. Hence, no deduplication or text-preprocessing is done here. Make sure your data is clean and without duplicate entries before you execute this notebook"
   ]
  },
  {
   "cell_type": "markdown",
   "metadata": {},
   "source": [
    "## Objective\n",
    "### Evaluating the value of k in k nearest neighbours and checking its accuracy"
   ]
  },
  {
   "cell_type": "code",
   "execution_count": 1,
   "metadata": {},
   "outputs": [
    {
     "name": "stderr",
     "output_type": "stream",
     "text": [
      "/home/rishiraj/.local/lib/python3.6/site-packages/sklearn/cross_validation.py:41: DeprecationWarning: This module was deprecated in version 0.18 in favor of the model_selection module into which all the refactored classes and functions are moved. Also note that the interface of the new CV iterators are different from that of this module. This module will be removed in 0.20.\n",
      "  \"This module will be removed in 0.20.\", DeprecationWarning)\n"
     ]
    }
   ],
   "source": [
    "#initilaization for all the required packages\n",
    "%matplotlib inline\n",
    "\n",
    "import sqlite3\n",
    "import pandas as pd\n",
    "import numpy as np\n",
    "import nltk\n",
    "import string\n",
    "import matplotlib.pyplot as plt\n",
    "import seaborn as sns\n",
    "from sklearn.feature_extraction.text import TfidfTransformer\n",
    "from sklearn.feature_extraction.text import TfidfVectorizer\n",
    "\n",
    "from sklearn.feature_extraction.text import CountVectorizer\n",
    "from sklearn.metrics import confusion_matrix\n",
    "from sklearn import metrics\n",
    "from sklearn.metrics import roc_curve, auc\n",
    "\n",
    "\n",
    "\n",
    "from sklearn.cross_validation import train_test_split\n",
    "from sklearn.neighbors import KNeighborsClassifier\n",
    "from sklearn.metrics import accuracy_score\n",
    "from sklearn.cross_validation import cross_val_score\n",
    "from collections import Counter\n",
    "from sklearn import cross_validation"
   ]
  },
  {
   "cell_type": "code",
   "execution_count": 2,
   "metadata": {},
   "outputs": [
    {
     "data": {
      "text/html": [
       "<div>\n",
       "<style scoped>\n",
       "    .dataframe tbody tr th:only-of-type {\n",
       "        vertical-align: middle;\n",
       "    }\n",
       "\n",
       "    .dataframe tbody tr th {\n",
       "        vertical-align: top;\n",
       "    }\n",
       "\n",
       "    .dataframe thead th {\n",
       "        text-align: right;\n",
       "    }\n",
       "</style>\n",
       "<table border=\"1\" class=\"dataframe\">\n",
       "  <thead>\n",
       "    <tr style=\"text-align: right;\">\n",
       "      <th></th>\n",
       "      <th>index</th>\n",
       "      <th>Id</th>\n",
       "      <th>ProductId</th>\n",
       "      <th>UserId</th>\n",
       "      <th>ProfileName</th>\n",
       "      <th>HelpfulnessNumerator</th>\n",
       "      <th>HelpfulnessDenominator</th>\n",
       "      <th>Score</th>\n",
       "      <th>Time</th>\n",
       "      <th>Summary</th>\n",
       "      <th>Text</th>\n",
       "      <th>CleanedText</th>\n",
       "    </tr>\n",
       "  </thead>\n",
       "  <tbody>\n",
       "    <tr>\n",
       "      <th>0</th>\n",
       "      <td>138706</td>\n",
       "      <td>150524</td>\n",
       "      <td>0006641040</td>\n",
       "      <td>ACITT7DI6IDDL</td>\n",
       "      <td>shari zychinski</td>\n",
       "      <td>0</td>\n",
       "      <td>0</td>\n",
       "      <td>positive</td>\n",
       "      <td>939340800</td>\n",
       "      <td>EVERY book is educational</td>\n",
       "      <td>this witty little book makes my son laugh at l...</td>\n",
       "      <td>b'witti littl book make son laugh loud recit c...</td>\n",
       "    </tr>\n",
       "    <tr>\n",
       "      <th>1</th>\n",
       "      <td>138688</td>\n",
       "      <td>150506</td>\n",
       "      <td>0006641040</td>\n",
       "      <td>A2IW4PEEKO2R0U</td>\n",
       "      <td>Tracy</td>\n",
       "      <td>1</td>\n",
       "      <td>1</td>\n",
       "      <td>positive</td>\n",
       "      <td>1194739200</td>\n",
       "      <td>Love the book, miss the hard cover version</td>\n",
       "      <td>I grew up reading these Sendak books, and watc...</td>\n",
       "      <td>b'grew read sendak book watch realli rosi movi...</td>\n",
       "    </tr>\n",
       "    <tr>\n",
       "      <th>2</th>\n",
       "      <td>138689</td>\n",
       "      <td>150507</td>\n",
       "      <td>0006641040</td>\n",
       "      <td>A1S4A3IQ2MU7V4</td>\n",
       "      <td>sally sue \"sally sue\"</td>\n",
       "      <td>1</td>\n",
       "      <td>1</td>\n",
       "      <td>positive</td>\n",
       "      <td>1191456000</td>\n",
       "      <td>chicken soup with rice months</td>\n",
       "      <td>This is a fun way for children to learn their ...</td>\n",
       "      <td>b'fun way children learn month year learn poem...</td>\n",
       "    </tr>\n",
       "  </tbody>\n",
       "</table>\n",
       "</div>"
      ],
      "text/plain": [
       "    index      Id   ProductId          UserId            ProfileName  \\\n",
       "0  138706  150524  0006641040   ACITT7DI6IDDL        shari zychinski   \n",
       "1  138688  150506  0006641040  A2IW4PEEKO2R0U                  Tracy   \n",
       "2  138689  150507  0006641040  A1S4A3IQ2MU7V4  sally sue \"sally sue\"   \n",
       "\n",
       "   HelpfulnessNumerator  HelpfulnessDenominator     Score        Time  \\\n",
       "0                     0                       0  positive   939340800   \n",
       "1                     1                       1  positive  1194739200   \n",
       "2                     1                       1  positive  1191456000   \n",
       "\n",
       "                                      Summary  \\\n",
       "0                   EVERY book is educational   \n",
       "1  Love the book, miss the hard cover version   \n",
       "2               chicken soup with rice months   \n",
       "\n",
       "                                                Text  \\\n",
       "0  this witty little book makes my son laugh at l...   \n",
       "1  I grew up reading these Sendak books, and watc...   \n",
       "2  This is a fun way for children to learn their ...   \n",
       "\n",
       "                                         CleanedText  \n",
       "0  b'witti littl book make son laugh loud recit c...  \n",
       "1  b'grew read sendak book watch realli rosi movi...  \n",
       "2  b'fun way children learn month year learn poem...  "
      ]
     },
     "execution_count": 2,
     "metadata": {},
     "output_type": "execute_result"
    }
   ],
   "source": [
    "# using the SQLite Table to read data.\n",
    "#final.sqlite is a cleaned deduped and preprocessed data\n",
    "con = sqlite3.connect('final.sqlite') \n",
    "\n",
    "\n",
    "cleaned_data = pd.read_sql_query(\"\"\"\n",
    "SELECT *\n",
    "FROM Reviews\n",
    "\"\"\", con) \n",
    "\n",
    "positiveNegative = cleaned_data['Score'] #Keeping labels/class in a different variable so that we can use it latercleaned_data.shape\n",
    "cleaned_data.head(3)"
   ]
  },
  {
   "cell_type": "code",
   "execution_count": 3,
   "metadata": {},
   "outputs": [],
   "source": [
    "#Helper function to print heatmap from confusionmatrix. \n",
    "#Source: https://gist.github.com/shaypal5/94c53d765083101efc0240d776a23823\n",
    "\n",
    "def print_confusion_matrix(confusion_matrix, class_names, figsize = (10,7), fontsize=14):\n",
    "    \"\"\"Prints a confusion matrix, as returned by sklearn.metrics.confusion_matrix, as a heatmap.\n",
    "    \n",
    "    Arguments\n",
    "    ---------\n",
    "    confusion_matrix: numpy.ndarray\n",
    "        The numpy.ndarray object returned from a call to sklearn.metrics.confusion_matrix. \n",
    "        Similarly constructed ndarrays can also be used.\n",
    "    class_names: list\n",
    "        An ordered list of class names, in the order they index the given confusion matrix.\n",
    "    figsize: tuple\n",
    "        A 2-long tuple, the first value determining the horizontal size of the ouputted figure,\n",
    "        the second determining the vertical size. Defaults to (10,7).\n",
    "    fontsize: int\n",
    "        Font size for axes labels. Defaults to 14.\n",
    "        \n",
    "    Returns\n",
    "    -------\n",
    "    matplotlib.figure.Figure\n",
    "        The resulting confusion matrix figure\n",
    "    \"\"\"\n",
    "    df_cm = pd.DataFrame(\n",
    "        confusion_matrix, index=class_names, columns=class_names, \n",
    "    )\n",
    "    fig = plt.figure(figsize=figsize)\n",
    "    try:\n",
    "        heatmap = sns.heatmap(df_cm, annot=True, fmt=\"d\")\n",
    "    except ValueError:\n",
    "        raise ValueError(\"Confusion matrix values must be integers.\")\n",
    "    heatmap.yaxis.set_ticklabels(heatmap.yaxis.get_ticklabels(), rotation=0, ha='right', fontsize=fontsize)\n",
    "    heatmap.xaxis.set_ticklabels(heatmap.xaxis.get_ticklabels(), rotation=45, ha='right', fontsize=fontsize)\n",
    "    plt.ylabel('True label')\n",
    "    plt.xlabel('Predicted label')\n",
    "    #return fig"
   ]
  },
  {
   "cell_type": "markdown",
   "metadata": {},
   "source": [
    "### We will have to reduce the data sets from 364K to 10K data sets of which 5K is positive and 5K is negative\n",
    "#### This is done so as to speed up computation. "
   ]
  },
  {
   "cell_type": "code",
   "execution_count": 4,
   "metadata": {},
   "outputs": [],
   "source": [
    "#we will take first 1k positive reviews and first 1k negative reviews. Combine them to have a total of 2k text reviews\n",
    "positiveData = cleaned_data[cleaned_data['Score'] == 'positive']\n",
    "negativeData = cleaned_data[cleaned_data['Score'] == 'negative']\n",
    "cleanedData_less = positiveData[:5000].append(negativeData[:5000])\n",
    "len(cleanedData_less)\n",
    "#the score corresponding to all 2k reviews\n",
    "positiveNegativeLabel = cleanedData_less['Score']\n"
   ]
  },
  {
   "cell_type": "markdown",
   "metadata": {},
   "source": [
    "### We will sort the data on the basis of the timestamp. This is necessary to do time-based splitting before applying K-NN"
   ]
  },
  {
   "cell_type": "code",
   "execution_count": 5,
   "metadata": {},
   "outputs": [],
   "source": [
    "cleanedData_less.sort_values(by=['Time'], inplace=True, kind='quicksort', na_position='last')\n",
    "positiveNegativeLabel = cleanedData_less['Score']\n"
   ]
  },
  {
   "cell_type": "markdown",
   "metadata": {},
   "source": [
    "### Dividing data into train and test set\n",
    "SInce the data was sorted on basis of time, hence first 70% of data will be training data and rest30% will be test data. The line below accomplishes that"
   ]
  },
  {
   "cell_type": "code",
   "execution_count": 6,
   "metadata": {},
   "outputs": [],
   "source": [
    "#70% training data and 30% test data\n",
    "X_train, X_test, y_train, y_test = cross_validation.train_test_split(cleanedData_less['Text'].values, positiveNegativeLabel, test_size=0.3, random_state=0)"
   ]
  },
  {
   "cell_type": "markdown",
   "metadata": {},
   "source": [
    "## Text to vector conversion of train data using bag of words.  \n"
   ]
  },
  {
   "cell_type": "code",
   "execution_count": 7,
   "metadata": {},
   "outputs": [
    {
     "name": "stdout",
     "output_type": "stream",
     "text": [
      "<class 'scipy.sparse.csr.csr_matrix'>\n"
     ]
    }
   ],
   "source": [
    "#positiveNegativeLabel = cleanedData_less['Score']\n",
    "count_vect = CountVectorizer() #in scikit-learn\n",
    "X_train = count_vect.fit_transform(X_train)\n",
    "X_train.get_shape()\n",
    "print(type(X_train))"
   ]
  },
  {
   "cell_type": "markdown",
   "metadata": {},
   "source": [
    "### Applying 10-fold cross validation on training data"
   ]
  },
  {
   "cell_type": "code",
   "execution_count": 8,
   "metadata": {},
   "outputs": [
    {
     "data": {
      "image/png": "[encoded data removed]",
      "text/plain": [
       "<Figure size 432x288 with 1 Axes>"
      ]
     },
     "metadata": {},
     "output_type": "display_data"
    },
    {
     "name": "stdout",
     "output_type": "stream",
     "text": [
      "\n",
      "The optimal number of neighbors is 11.\n"
     ]
    }
   ],
   "source": [
    "# creating odd list of K for KNN\n",
    "myList = list(range(0,50))\n",
    "neighbors = list(filter(lambda x: x % 2 != 0, myList))\n",
    "\n",
    "# empty list that will hold cv scores\n",
    "cv_scores = []\n",
    "\n",
    "# perform 10-fold cross validation\n",
    "for k in neighbors:\n",
    "    knn = KNeighborsClassifier(n_neighbors=k)\n",
    "    scores = cross_val_score(knn, X_train, y_train, cv=10, scoring='accuracy') #accuracy measurement, not error\n",
    "    cv_scores.append(scores.mean())\n",
    "\n",
    "# changing to misclassification error\n",
    "MSE = [1 - x for x in cv_scores]\n",
    "\n",
    "#plot the error curve\n",
    "Y = np.array(MSE)\n",
    "X = np.array(neighbors)\n",
    "\n",
    "plt.plot(X,Y)\n",
    "plt.ylabel('Error')\n",
    "plt.xlabel('K-Value')\n",
    "plt.show()\n",
    "\n",
    "# determining best k\n",
    "optimal_k = neighbors[MSE.index(min(MSE))]\n",
    "print('\\nThe optimal number of neighbors is %d.' % optimal_k)\n",
    "\n"
   ]
  },
  {
   "cell_type": "markdown",
   "metadata": {},
   "source": [
    "#### The optimal k will be used as k-NN for the test data set to predict the response and evaluate accuracy\n"
   ]
  },
  {
   "cell_type": "markdown",
   "metadata": {},
   "source": [
    "### The test data needs to be converted into vector of same dimension as that of train data"
   ]
  },
  {
   "cell_type": "code",
   "execution_count": 9,
   "metadata": {},
   "outputs": [
    {
     "data": {
      "text/plain": [
       "(3000, 19515)"
      ]
     },
     "execution_count": 9,
     "metadata": {},
     "output_type": "execute_result"
    }
   ],
   "source": [
    "#Converting X_test to vectors using BoW\n",
    "#X_test_vectors = CountVectorizer() #in scikit-learn\n",
    "X_test = count_vect.transform(X_test)\n",
    "X_test.get_shape()"
   ]
  },
  {
   "cell_type": "code",
   "execution_count": 10,
   "metadata": {},
   "outputs": [
    {
     "data": {
      "text/plain": [
       "(3000, 19515)"
      ]
     },
     "execution_count": 10,
     "metadata": {},
     "output_type": "execute_result"
    }
   ],
   "source": [
    "X_test.get_shape()"
   ]
  },
  {
   "cell_type": "code",
   "execution_count": 11,
   "metadata": {},
   "outputs": [
    {
     "data": {
      "text/plain": [
       "(7000, 19515)"
      ]
     },
     "execution_count": 11,
     "metadata": {},
     "output_type": "execute_result"
    }
   ],
   "source": [
    "X_train.get_shape()"
   ]
  },
  {
   "cell_type": "code",
   "execution_count": 12,
   "metadata": {},
   "outputs": [
    {
     "name": "stdout",
     "output_type": "stream",
     "text": [
      "\n",
      "The accuracy of the knn classifier for k = 11 is 66.866667%\n",
      "True Positive Rate =  82.05 %\n",
      "True Negative Rate =  50.89 %\n",
      "False Positive Rate =  49.11 %\n",
      "False Negative Rate =  17.95 %\n",
      "\n",
      "Confusion Matrix Is Below.\n",
      " true negatives is C_{0,0}, false negatives is C_{1,0}, true positives is C_{1,1}, lse positives is C_{0,1}\n"
     ]
    },
    {
     "data": {
      "image/png": "[encoded data removed]",
      "text/plain": [
       "<Figure size 720x504 with 2 Axes>"
      ]
     },
     "metadata": {},
     "output_type": "display_data"
    }
   ],
   "source": [
    "knn_optimal = KNeighborsClassifier(n_neighbors=optimal_k)\n",
    "\n",
    "# fitting the model\n",
    "knn_optimal.fit(X_train, y_train)\n",
    "\n",
    "\n",
    "# predict the response\n",
    "pred = knn_optimal.predict(X_test)\n",
    "\n",
    "# evaluate accuracy\n",
    "acc = accuracy_score(y_test, pred) * 100\n",
    "print('\\nThe accuracy of the knn classifier for k = %d is %f%%' % (optimal_k, acc))\n",
    "\n",
    "#Code for Confusion Matrix (Raw)\n",
    "\n",
    "#TN = True Negative\n",
    "#FP = False Positive\n",
    "#FN = False Negative\n",
    "#TP = True Positive\n",
    "\n",
    "TP = TN = FP = FN = 0;\n",
    "\n",
    "for i in range(len(pred)):\n",
    "    if pred[i] == y_test.values[i]:\n",
    "        if pred[i] == 'positive':\n",
    "            TP = TP + 1;\n",
    "        else:\n",
    "            TN = TN + 1;\n",
    "    elif y_test.values[i] == 'negative' and pred[i] == 'positive':\n",
    "        FP = FP + 1;\n",
    "    else:\n",
    "        FN = FN + 1;\n",
    "\n",
    "\n",
    "#TN + FP = Total Actual Negative Points\n",
    "#FN + TP = Total Actual Positive Points\n",
    "\n",
    "print(\"True Positive Rate = \", round((TP/(TP+FN))*100,2),\"%\" )\n",
    "print(\"True Negative Rate = \", round((TN/(FP+TN))*100,2),\"%\" )\n",
    "print(\"False Positive Rate = \", round((FP/(FP+TN))*100,2),\"%\" )\n",
    "print(\"False Negative Rate = \", round((FN/(TP+FN))*100,2),\"%\" )\n",
    "\n",
    "#Code For Confusion Matrix Using Sklearn\n",
    "#he count of true negatives is C_{0,0}, false negatives is C_{1,0}, true positives is C_{1,1} and false positives is C_{0,1}.\n",
    "from sklearn.metrics import confusion_matrix\n",
    "print(\"\\nConfusion Matrix Is Below.\\n true negatives is C_{0,0}, false negatives is C_{1,0}, true positives is C_{1,1}, lse positives is C_{0,1}\")\n",
    "cfs_matrix = confusion_matrix(y_test.values, pred)\n",
    "class_names = ['True', 'False']\n",
    "\n",
    "print_confusion_matrix(cfs_matrix, class_names, figsize = (10,7), fontsize=14)"
   ]
  },
  {
   "cell_type": "markdown",
   "metadata": {},
   "source": [
    "## Result:\n",
    "Usinng BOW, the accuracy attained is 66.87% with k as 11 in k-NN"
   ]
  },
  {
   "cell_type": "markdown",
   "metadata": {},
   "source": [
    "## ---------------------------------------------------------------------------------------------------------------"
   ]
  },
  {
   "cell_type": "markdown",
   "metadata": {},
   "source": [
    "## Text to vector conversion using TF-IDF on train data. \n"
   ]
  },
  {
   "cell_type": "code",
   "execution_count": 13,
   "metadata": {},
   "outputs": [],
   "source": [
    "#70% training data and 30% test data\n",
    "X_train, X_test, y_train, y_test = cross_validation.train_test_split(cleanedData_less['Text'].values, positiveNegativeLabel, test_size=0.3, random_state=0)"
   ]
  },
  {
   "cell_type": "code",
   "execution_count": 14,
   "metadata": {},
   "outputs": [
    {
     "data": {
      "text/plain": [
       "scipy.sparse.csr.csr_matrix"
      ]
     },
     "execution_count": 14,
     "metadata": {},
     "output_type": "execute_result"
    }
   ],
   "source": [
    "tf_idf_vect = TfidfVectorizer(ngram_range=(1,2))\n",
    "final_tf_idf = tf_idf_vect.fit_transform(X_train)\n",
    "type(final_tf_idf)\n"
   ]
  },
  {
   "cell_type": "markdown",
   "metadata": {},
   "source": [
    "### Applying 3-fold cross validation on training data"
   ]
  },
  {
   "cell_type": "code",
   "execution_count": 15,
   "metadata": {},
   "outputs": [
    {
     "data": {
      "image/png": "[encoded data removed]",
      "text/plain": [
       "<Figure size 432x288 with 1 Axes>"
      ]
     },
     "metadata": {},
     "output_type": "display_data"
    },
    {
     "name": "stdout",
     "output_type": "stream",
     "text": [
      "\n",
      "The optimal number of neighbors is 49.\n"
     ]
    }
   ],
   "source": [
    "# creating odd list of K for KNN\n",
    "myList = list(range(0,50))\n",
    "neighbors = list(filter(lambda x: x % 2 != 0, myList))\n",
    "\n",
    "# empty list that will hold cv scores\n",
    "cv_scores = []\n",
    "\n",
    "# perform 10-fold cross validation\n",
    "for k in neighbors:\n",
    "    knn = KNeighborsClassifier(n_neighbors=k)\n",
    "    scores = cross_val_score(knn, final_tf_idf, y_train, cv=3, scoring='accuracy') #accuracy measurement, not error\n",
    "    cv_scores.append(scores.mean())\n",
    "\n",
    "# changing to misclassification error\n",
    "MSE = [1 - x for x in cv_scores]\n",
    "\n",
    "#plot the error curve\n",
    "Y = np.array(MSE)\n",
    "X = np.array(neighbors)\n",
    "\n",
    "plt.plot(X,Y)\n",
    "plt.ylabel('Error')\n",
    "plt.xlabel('K-Value')\n",
    "plt.show()\n",
    "\n",
    "# determining best k\n",
    "optimal_k = neighbors[MSE.index(min(MSE))]\n",
    "print('\\nThe optimal number of neighbors is %d.' % optimal_k)"
   ]
  },
  {
   "cell_type": "markdown",
   "metadata": {},
   "source": [
    "### The test data needs to be converted into vector of same dimension as that of train data"
   ]
  },
  {
   "cell_type": "code",
   "execution_count": 16,
   "metadata": {},
   "outputs": [
    {
     "data": {
      "text/plain": [
       "scipy.sparse.csr.csr_matrix"
      ]
     },
     "execution_count": 16,
     "metadata": {},
     "output_type": "execute_result"
    }
   ],
   "source": [
    "final_tf_idf_test = tf_idf_vect.transform(X_test)\n",
    "type(final_tf_idf_test)"
   ]
  },
  {
   "cell_type": "markdown",
   "metadata": {},
   "source": [
    "#### The optimal k will be used as k-NN for the test data set to predict the responnse and evaluate accuracy\n"
   ]
  },
  {
   "cell_type": "code",
   "execution_count": 17,
   "metadata": {},
   "outputs": [
    {
     "name": "stdout",
     "output_type": "stream",
     "text": [
      "\n",
      "The accuracy of the knn classifier for k = 49 is 82.433333%\n",
      "True Positive Rate =  84.72 %\n",
      "True Negative Rate =  80.03 %\n",
      "False Positive Rate =  19.97 %\n",
      "False Negative Rate =  15.28 %\n",
      "\n",
      "Confusion Matrix Is Below.\n",
      " true negatives is C_{0,0}, false negatives is C_{1,0}, true positives is C_{1,1}, lse positives is C_{0,1}\n"
     ]
    },
    {
     "data": {
      "image/png": "[encoded data removed]",
      "text/plain": [
       "<Figure size 720x504 with 2 Axes>"
      ]
     },
     "metadata": {},
     "output_type": "display_data"
    }
   ],
   "source": [
    "knn_optimal = KNeighborsClassifier(n_neighbors=optimal_k)\n",
    "\n",
    "# fitting the model\n",
    "knn_optimal.fit(final_tf_idf, y_train)\n",
    "\n",
    "# predict the response\n",
    "pred = knn_optimal.predict(final_tf_idf_test)\n",
    "\n",
    "# evaluate accuracy\n",
    "acc = accuracy_score(y_test, pred) * 100\n",
    "print('\\nThe accuracy of the knn classifier for k = %d is %f%%' % (optimal_k, acc))\n",
    "\n",
    "\n",
    "#Code for Confusion Matrix\n",
    "\n",
    "#TN = True Negative\n",
    "#FP = False Positive\n",
    "#FN = False Negative\n",
    "#TP = True Positive\n",
    "\n",
    "TP = TN = FP = FN = 0;\n",
    "\n",
    "for i in range(len(pred)):\n",
    "    if pred[i] == y_test.values[i]:\n",
    "        if pred[i] == 'positive':\n",
    "            TP = TP + 1;\n",
    "        else:\n",
    "            TN = TN + 1;\n",
    "    elif y_test.values[i] == 'negative' and pred[i] == 'positive':\n",
    "        FP = FP + 1;\n",
    "    else:\n",
    "        FN = FN + 1;\n",
    "\n",
    "\n",
    "#TN + FP = Total Actual Negative Points\n",
    "#FN + TP = Total Actual Positive Points\n",
    "\n",
    "print(\"True Positive Rate = \", round((TP/(TP+FN))*100,2),\"%\" )\n",
    "print(\"True Negative Rate = \", round((TN/(FP+TN))*100,2),\"%\" )\n",
    "print(\"False Positive Rate = \", round((FP/(FP+TN))*100,2),\"%\" )\n",
    "print(\"False Negative Rate = \", round((FN/(TP+FN))*100,2),\"%\" )\n",
    "\n",
    "#Code For Confusion Matrix Using Sklearn\n",
    "#he count of true negatives is C_{0,0}, false negatives is C_{1,0}, true positives is C_{1,1} and false positives is C_{0,1}.\n",
    "from sklearn.metrics import confusion_matrix\n",
    "print(\"\\nConfusion Matrix Is Below.\\n true negatives is C_{0,0}, false negatives is C_{1,0}, true positives is C_{1,1}, lse positives is C_{0,1}\")\n",
    "cfs_matrix = confusion_matrix(y_test.values, pred)\n",
    "class_names = ['True', 'False']\n",
    "\n",
    "print_confusion_matrix(cfs_matrix, class_names, figsize = (10,7), fontsize=14)\n"
   ]
  },
  {
   "cell_type": "markdown",
   "metadata": {},
   "source": [
    "## Result:\n",
    "Usinng TF-IDF, the accuracy attained is 82.43% with k as 49 in k-NN"
   ]
  },
  {
   "cell_type": "markdown",
   "metadata": {},
   "source": [
    "### --------------------------------------------------------------------------------------------------------------------------------"
   ]
  },
  {
   "cell_type": "markdown",
   "metadata": {},
   "source": [
    "## Text to Vector Conversion Using Average Word2Vec. \n"
   ]
  },
  {
   "cell_type": "markdown",
   "metadata": {},
   "source": [
    "### Making Our Own Word2vec Model\n",
    "#### Using Google's Model Is Computationally Impossible In The System Where This Notebook Was Written"
   ]
  },
  {
   "cell_type": "code",
   "execution_count": 18,
   "metadata": {},
   "outputs": [],
   "source": [
    "### Dividing data into train and test set for applyting K-NN\n",
    "#70% training data and 30% test data\n",
    "X_train, X_test, y_train, y_test = cross_validation.train_test_split(cleanedData_less['Text'].values, positiveNegativeLabel, test_size=0.3, random_state=0)\n"
   ]
  },
  {
   "cell_type": "code",
   "execution_count": 19,
   "metadata": {},
   "outputs": [
    {
     "name": "stdout",
     "output_type": "stream",
     "text": [
      "I used these at a party for a neurosurgeon. I was pleased with the speed of shipping and the product itself. The brains were a little smashed together and not as plump and colorful as another brand of gummy brain I'd purchased in the past (but were unavailable at this time). The flavor was good.\n",
      "*****************************************************************\n",
      "['i', 'used', 'these', 'at', 'a', 'party', 'for', 'a', 'neurosurgeon.', 'i', 'was', 'pleased', 'with', 'the', 'speed', 'of', 'shipping', 'and', 'the', 'product', 'itself.', 'the', 'brains', 'were', 'a', 'little', 'smashed', 'together', 'and', 'not', 'as', 'plump', 'and', 'colorful', 'as', 'another', 'brand', 'of', 'gummy', 'brain', \"i'd\", 'purchased', 'in', 'the', 'past', '(but', 'were', 'unavailable', 'at', 'this', 'time).', 'the', 'flavor', 'was', 'good.']\n",
      "<class 'list'>\n"
     ]
    }
   ],
   "source": [
    "# Train our own Word2Vec model using your own training text corpus\n",
    "list_of_sent = []\n",
    "import gensim\n",
    "for sent in X_train:\n",
    "    filtered_sentence=[]\n",
    "    for w in sent.split():\n",
    "        filtered_sentence.append(w.lower())\n",
    "    list_of_sent.append(filtered_sentence)\n",
    "\n",
    "print(X_train[0])\n",
    "print(\"*****************************************************************\")\n",
    "print(list_of_sent[0])\n",
    "print(type(list_of_sent))"
   ]
  },
  {
   "cell_type": "code",
   "execution_count": 20,
   "metadata": {},
   "outputs": [
    {
     "name": "stdout",
     "output_type": "stream",
     "text": [
      "7750\n"
     ]
    }
   ],
   "source": [
    "w2v_model=gensim.models.Word2Vec(list_of_sent,min_count=5,size=50, workers=4)    \n",
    "words = list(w2v_model.wv.vocab)\n",
    "print(len(words))"
   ]
  },
  {
   "cell_type": "code",
   "execution_count": 10,
   "metadata": {},
   "outputs": [
    {
     "name": "stderr",
     "output_type": "stream",
     "text": [
      "/home/rishiraj/.local/lib/python3.6/site-packages/gensim/matutils.py:737: FutureWarning: Conversion of the second argument of issubdtype from `int` to `np.signedinteger` is deprecated. In future, it will be treated as `np.int64 == np.dtype(int).type`.\n",
      "  if np.issubdtype(vec.dtype, np.int):\n"
     ]
    },
    {
     "data": {
      "text/plain": [
       "[('sweet.', 0.9838729500770569),\n",
       " ('salty', 0.9717410802841187),\n",
       " ('sweet,', 0.9685363173484802),\n",
       " ('overly', 0.9656181335449219),\n",
       " ('delicious,', 0.9655470252037048),\n",
       " ('tasting.', 0.9636947512626648),\n",
       " ('spicy.', 0.9636919498443604),\n",
       " ('texture,', 0.9633525013923645),\n",
       " ('spicy,', 0.9600684642791748),\n",
       " ('flavorful', 0.9586213231086731)]"
      ]
     },
     "execution_count": 10,
     "metadata": {},
     "output_type": "execute_result"
    }
   ],
   "source": [
    "#testing the w2v model\n",
    "w2v_model.wv.most_similar('tasty')"
   ]
  },
  {
   "cell_type": "markdown",
   "metadata": {},
   "source": [
    "#### It appears that our word2vec model is not satisfactory. It is eveident from the choice of similar words being output for words like 'like' and 'tasty'. We will still go ahead with the t-SNE visualization but we cannot expect much improvement over BOW and TF-IDF"
   ]
  },
  {
   "cell_type": "code",
   "execution_count": 21,
   "metadata": {},
   "outputs": [
    {
     "name": "stdout",
     "output_type": "stream",
     "text": [
      "7000\n",
      "50\n",
      "<class 'list'>\n"
     ]
    }
   ],
   "source": [
    "# text to vector conversion using average Word2Vec\n",
    "# compute average word2vec for each review.\n",
    "sent_vectors = []; # the avg-w2v for each sentence/review is stored in this list\n",
    "for sent in list_of_sent: # for each review/sentence\n",
    "    sent_vec = np.zeros(50) # as word vectors are of zero length\n",
    "    cnt_words =0; # num of words with a valid vector in the sentence/review\n",
    "    for word in sent: # for each word in a review/sentence\n",
    "        try:\n",
    "            vec = w2v_model.wv[word]\n",
    "            sent_vec += vec\n",
    "            cnt_words += 1\n",
    "        except:\n",
    "            pass\n",
    "    sent_vec /= cnt_words\n",
    "    sent_vectors.append(sent_vec)\n",
    "print(len(sent_vectors))\n",
    "print(len(sent_vectors[0]))\n",
    "print(type(sent_vectors))"
   ]
  },
  {
   "cell_type": "code",
   "execution_count": 22,
   "metadata": {},
   "outputs": [
    {
     "data": {
      "image/png": "[encoded data removed]",
      "text/plain": [
       "<Figure size 432x288 with 1 Axes>"
      ]
     },
     "metadata": {},
     "output_type": "display_data"
    },
    {
     "name": "stdout",
     "output_type": "stream",
     "text": [
      "\n",
      "The optimal number of neighbors is 47.\n"
     ]
    }
   ],
   "source": [
    "# creating odd list of K for KNN\n",
    "myList = list(range(0,50))\n",
    "neighbors = list(filter(lambda x: x % 2 != 0, myList))\n",
    "\n",
    "# empty list that will hold cv scores\n",
    "cv_scores = []\n",
    "\n",
    "# perform 10-fold cross validation\n",
    "for k in neighbors:\n",
    "    knn = KNeighborsClassifier(n_neighbors=k)\n",
    "    scores = cross_val_score(knn, sent_vectors, y_train, cv=3, scoring='accuracy') #accuracy measurement, not error\n",
    "    cv_scores.append(scores.mean())\n",
    "\n",
    "# changing to misclassification error\n",
    "MSE = [1 - x for x in cv_scores]\n",
    "\n",
    "#plot the error curve\n",
    "Y = np.array(MSE)\n",
    "X = np.array(neighbors)\n",
    "\n",
    "plt.plot(X,Y)\n",
    "plt.ylabel('Error')\n",
    "plt.xlabel('K-Value')\n",
    "plt.show()\n",
    "\n",
    "# determining best k\n",
    "optimal_k = neighbors[MSE.index(min(MSE))]\n",
    "print('\\nThe optimal number of neighbors is %d.' % optimal_k)"
   ]
  },
  {
   "cell_type": "markdown",
   "metadata": {},
   "source": [
    "### Converting test data into vector of same dimension"
   ]
  },
  {
   "cell_type": "code",
   "execution_count": 23,
   "metadata": {},
   "outputs": [
    {
     "name": "stdout",
     "output_type": "stream",
     "text": [
      "['i', 'used', 'these', 'at', 'a', 'party', 'for', 'a', 'neurosurgeon.', 'i', 'was', 'pleased', 'with', 'the', 'speed', 'of', 'shipping', 'and', 'the', 'product', 'itself.', 'the', 'brains', 'were', 'a', 'little', 'smashed', 'together', 'and', 'not', 'as', 'plump', 'and', 'colorful', 'as', 'another', 'brand', 'of', 'gummy', 'brain', \"i'd\", 'purchased', 'in', 'the', 'past', '(but', 'were', 'unavailable', 'at', 'this', 'time).', 'the', 'flavor', 'was', 'good.']\n",
      "<class 'list'>\n",
      "3000\n",
      "50\n",
      "<class 'list'>\n"
     ]
    }
   ],
   "source": [
    "# Train our own Word2Vec model using your own text corpus\n",
    "list_of_sent_test_data = []\n",
    "import gensim\n",
    "for sent in X_test:\n",
    "    filtered_sentence=[]\n",
    "    for w in sent.split():\n",
    "        filtered_sentence.append(w.lower())\n",
    "    list_of_sent_test_data.append(filtered_sentence)\n",
    "\n",
    "\n",
    "print(list_of_sent[0])\n",
    "print(type(list_of_sent))\n",
    "# text to vector conversion using average Word2Vec\n",
    "# compute average word2vec for each review.\n",
    "sent_vectors_test_data = []; # the avg-w2v for each sentence/review is stored in this list\n",
    "for sent in list_of_sent_test_data: # for each review/sentence\n",
    "    sent_vec = np.zeros(50) # as word vectors are of zero length\n",
    "    cnt_words =0; # num of words with a valid vector in the sentence/review\n",
    "    for word in sent: # for each word in a review/sentence\n",
    "        try:\n",
    "            vec = w2v_model.wv[word]\n",
    "            sent_vec += vec\n",
    "            cnt_words += 1\n",
    "        except:\n",
    "            pass\n",
    "    sent_vec /= cnt_words\n",
    "    sent_vectors_test_data.append(sent_vec)\n",
    "print(len(sent_vectors_test_data))\n",
    "print(len(sent_vectors_test_data[0]))\n",
    "print(type(sent_vectors_test_data))"
   ]
  },
  {
   "cell_type": "markdown",
   "metadata": {},
   "source": [
    "#### The optimal k will be used as k-NN for the test data set to predict the response and evaluate accuracy\n"
   ]
  },
  {
   "cell_type": "code",
   "execution_count": 24,
   "metadata": {},
   "outputs": [
    {
     "name": "stdout",
     "output_type": "stream",
     "text": [
      "\n",
      "The accuracy of the knn classifier for k = 47 is 66.000000%\n",
      "True Positive Rate =  59.36 %\n",
      "True Negative Rate =  72.98 %\n",
      "False Positive Rate =  27.02 %\n",
      "False Negative Rate =  40.64 %\n",
      "\n",
      "Confusion Matrix Is Below.\n",
      " true negatives is C_{0,0}, false negatives is C_{1,0}, true positives is C_{1,1}, lse positives is C_{0,1}\n"
     ]
    },
    {
     "data": {
      "image/png": "[encoded data removed]",
      "text/plain": [
       "<Figure size 720x504 with 2 Axes>"
      ]
     },
     "metadata": {},
     "output_type": "display_data"
    }
   ],
   "source": [
    "knn_optimal = KNeighborsClassifier(n_neighbors=optimal_k)\n",
    "\n",
    "# fitting the model\n",
    "knn_optimal.fit(sent_vectors, y_train)\n",
    "\n",
    "# predict the response\n",
    "pred = knn_optimal.predict(sent_vectors_test_data)\n",
    "\n",
    "\n",
    "# evaluate accuracy\n",
    "acc = accuracy_score(y_test, pred) * 100\n",
    "print('\\nThe accuracy of the knn classifier for k = %d is %f%%' % (optimal_k, acc))\n",
    "\n",
    "#Code for Confusion Matrix\n",
    "\n",
    "#TN = True Negative\n",
    "#FP = False Positive\n",
    "#FN = False Negative\n",
    "#TP = True Positive\n",
    "\n",
    "TP = TN = FP = FN = 0;\n",
    "\n",
    "for i in range(len(pred)):\n",
    "    if pred[i] == y_test.values[i]:\n",
    "        if pred[i] == 'positive':\n",
    "            TP = TP + 1;\n",
    "        else:\n",
    "            TN = TN + 1;\n",
    "    elif y_test.values[i] == 'negative' and pred[i] == 'positive':\n",
    "        FP = FP + 1;\n",
    "    else:\n",
    "        FN = FN + 1;\n",
    "\n",
    "\n",
    "#TN + FP = Total Actual Negative Points\n",
    "#FN + TP = Total Actual Positive Points\n",
    "\n",
    "print(\"True Positive Rate = \", round((TP/(TP+FN))*100,2),\"%\" )\n",
    "print(\"True Negative Rate = \", round((TN/(FP+TN))*100,2),\"%\" )\n",
    "print(\"False Positive Rate = \", round((FP/(FP+TN))*100,2),\"%\" )\n",
    "print(\"False Negative Rate = \", round((FN/(TP+FN))*100,2),\"%\" )\n",
    "\n",
    "#Code For Confusion Matrix Using Sklearn\n",
    "#he count of true negatives is C_{0,0}, false negatives is C_{1,0}, true positives is C_{1,1} and false positives is C_{0,1}.\n",
    "from sklearn.metrics import confusion_matrix\n",
    "print(\"\\nConfusion Matrix Is Below.\\n true negatives is C_{0,0}, false negatives is C_{1,0}, true positives is C_{1,1}, lse positives is C_{0,1}\")\n",
    "cfs_matrix = confusion_matrix(y_test.values, pred)\n",
    "class_names = ['True', 'False']\n",
    "\n",
    "print_confusion_matrix(cfs_matrix, class_names, figsize = (10,7), fontsize=14)\n"
   ]
  },
  {
   "cell_type": "markdown",
   "metadata": {},
   "source": [
    "## Result:\n",
    "Usinng word2vec, the accuracy attained is 66.53% with k as 49 in k-NN"
   ]
  },
  {
   "cell_type": "markdown",
   "metadata": {},
   "source": [
    "## ---------------------------------------------------------------------------------------------------------------------"
   ]
  },
  {
   "cell_type": "markdown",
   "metadata": {},
   "source": [
    "## Text to Vector Conversion Using TF--IDF weighted Word2Vec. \n"
   ]
  },
  {
   "cell_type": "code",
   "execution_count": 17,
   "metadata": {},
   "outputs": [],
   "source": [
    "### Dividing data into train and test set for applyting K-NN\n",
    "#70% training data and 30% test data\n",
    "X_train, X_test, y_train, y_test = cross_validation.train_test_split(cleanedData_less['Text'].values, positiveNegativeLabel, test_size=0.3, random_state=0)\n"
   ]
  },
  {
   "cell_type": "markdown",
   "metadata": {},
   "source": [
    "### Converting training text data into vectors"
   ]
  },
  {
   "cell_type": "code",
   "execution_count": 18,
   "metadata": {},
   "outputs": [
    {
     "name": "stdout",
     "output_type": "stream",
     "text": [
      "<class 'list'>\n"
     ]
    }
   ],
   "source": [
    "tf_idf_vect = TfidfVectorizer(ngram_range=(1,2))\n",
    "final_tf_idf = tf_idf_vect.fit_transform(X_train)\n",
    "tfidf_feat = tf_idf_vect.get_feature_names() # tfidf words/col-names\n",
    "\n",
    "tfidf_sent_vectors = []; # the tfidf-w2v for each sentence/review is stored in this list\n",
    "row=0;\n",
    "\n",
    "list_of_sent = []\n",
    "for sent in X_train:\n",
    "    filtered_sentence=[]\n",
    "    for w in sent.split():\n",
    "        filtered_sentence.append(w.lower())\n",
    "    list_of_sent.append(filtered_sentence)\n",
    "\n",
    "    \n",
    "for sent in list_of_sent: # for each review/sentence\n",
    "    sent_vec = np.zeros(50) # as word vectors are of zero length\n",
    "    weight_sum =0; # num of words with a valid vector in the sentence/review\n",
    "    for word in sent: # for each word in a review/sentence\n",
    "        try:\n",
    "            vec = w2v_model.wv[word]\n",
    "            # obtain the tf_idfidf of a word in a sentence/review\n",
    "            tfidf = final_tf_idf[row, tfidf_feat.index(word)]\n",
    "            sent_vec += (vec * tfidf)\n",
    "            weight_sum += tfidf\n",
    "        except:\n",
    "            pass\n",
    "    sent_vec /= weight_sum\n",
    "    tfidf_sent_vectors.append(sent_vec)\n",
    "    row += 1\n",
    "    \n",
    "len(tfidf_sent_vectors)\n",
    "print(type(tfidf_sent_vectors))"
   ]
  },
  {
   "cell_type": "markdown",
   "metadata": {},
   "source": [
    "### Applying 3-fold cross validation on training data"
   ]
  },
  {
   "cell_type": "code",
   "execution_count": 19,
   "metadata": {},
   "outputs": [
    {
     "data": {
      "image/png": "[encoded data removed]",
      "text/plain": [
       "<Figure size 432x288 with 1 Axes>"
      ]
     },
     "metadata": {},
     "output_type": "display_data"
    },
    {
     "name": "stdout",
     "output_type": "stream",
     "text": [
      "\n",
      "The optimal number of neighbors is 49.\n"
     ]
    }
   ],
   "source": [
    "# creating odd list of K for KNN\n",
    "myList = list(range(0,50))\n",
    "neighbors = list(filter(lambda x: x % 2 != 0, myList))\n",
    "\n",
    "# empty list that will hold cv scores\n",
    "cv_scores = []\n",
    "\n",
    "# perform 10-fold cross validation\n",
    "for k in neighbors:\n",
    "    knn = KNeighborsClassifier(n_neighbors=k)\n",
    "    scores = cross_val_score(knn, tfidf_sent_vectors, y_train, cv=3, scoring='accuracy') #accuracy measurement, not error\n",
    "    cv_scores.append(scores.mean())\n",
    "\n",
    "# changing to misclassification error\n",
    "MSE = [1 - x for x in cv_scores]\n",
    "\n",
    "#plot the error curve\n",
    "Y = np.array(MSE)\n",
    "X = np.array(neighbors)\n",
    "\n",
    "plt.plot(X,Y)\n",
    "plt.ylabel('Error')\n",
    "plt.xlabel('K-Value')\n",
    "plt.show()\n",
    "\n",
    "# determining best k\n",
    "optimal_k = neighbors[MSE.index(min(MSE))]\n",
    "print('\\nThe optimal number of neighbors is %d.' % optimal_k)"
   ]
  },
  {
   "cell_type": "markdown",
   "metadata": {},
   "source": [
    "### Converting test data to TF-IDF Avergae Word2Vec vectors"
   ]
  },
  {
   "cell_type": "code",
   "execution_count": 20,
   "metadata": {},
   "outputs": [
    {
     "name": "stdout",
     "output_type": "stream",
     "text": [
      "<class 'list'>\n"
     ]
    }
   ],
   "source": [
    "final_tf_idf = tf_idf_vect.transform(X_test)\n",
    "tfidf_feat = tf_idf_vect.get_feature_names() # tfidf words/col-names\n",
    "\n",
    "tfidf_sent_vectors_test_data = []; # the tfidf-w2v for each sentence/review is stored in this list\n",
    "row=0;\n",
    "\n",
    "list_of_sent_test_data = []\n",
    "for sent in X_test:\n",
    "    filtered_sentence=[]\n",
    "    for w in sent.split():\n",
    "        filtered_sentence.append(w.lower())\n",
    "    list_of_sent_test_data.append(filtered_sentence)\n",
    "\n",
    "    \n",
    "for sent in list_of_sent_test_data: # for each review/sentence\n",
    "    sent_vec = np.zeros(50) # as word vectors are of zero length\n",
    "    weight_sum =0; # num of words with a valid vector in the sentence/review\n",
    "    for word in sent: # for each word in a review/sentence\n",
    "        try:\n",
    "            vec = w2v_model.wv[word]\n",
    "            # obtain the tf_idfidf of a word in a sentence/review\n",
    "            tfidf = final_tf_idf[row, tfidf_feat.index(word)]\n",
    "            sent_vec += (vec * tfidf)\n",
    "            weight_sum += tfidf\n",
    "        except:\n",
    "            pass\n",
    "    sent_vec /= weight_sum\n",
    "    tfidf_sent_vectors_test_data.append(sent_vec)\n",
    "    row += 1\n",
    "    \n",
    "len(tfidf_sent_vectors_test_data)\n",
    "print(type(tfidf_sent_vectors_test_data))"
   ]
  },
  {
   "cell_type": "markdown",
   "metadata": {},
   "source": [
    "#### The optimal k will be used as k-NN for the test data set to predict the response and evaluate accuracy\n"
   ]
  },
  {
   "cell_type": "code",
   "execution_count": 27,
   "metadata": {},
   "outputs": [
    {
     "name": "stdout",
     "output_type": "stream",
     "text": [
      "\n",
      "The accuracy of the knn classifier for k = 49 is 65.866667%\n",
      "True Positive Rate =  58.78 %\n",
      "True Negative Rate =  73.32 %\n",
      "False Positive Rate =  26.68 %\n",
      "False Negative Rate =  41.22 %\n"
     ]
    },
    {
     "data": {
      "image/png": "[encoded data removed]",
      "text/plain": [
       "<Figure size 720x504 with 2 Axes>"
      ]
     },
     "metadata": {},
     "output_type": "display_data"
    }
   ],
   "source": [
    "knn_optimal = KNeighborsClassifier(n_neighbors=optimal_k)\n",
    "\n",
    "# fitting the model\n",
    "knn_optimal.fit(tfidf_sent_vectors, y_train)\n",
    "\n",
    "# predict the response\n",
    "pred = knn_optimal.predict(tfidf_sent_vectors_test_data)\n",
    "\n",
    "\n",
    "# evaluate accuracy\n",
    "acc = accuracy_score(y_test, pred) * 100\n",
    "print('\\nThe accuracy of the knn classifier for k = %d is %f%%' % (optimal_k, acc))\n",
    "\n",
    "#Code for Confusion Matrix\n",
    "\n",
    "#TN = True Negative\n",
    "#FP = False Positive\n",
    "#FN = False Negative\n",
    "#TP = True Positive\n",
    "\n",
    "TP = TN = FP = FN = 0;\n",
    "\n",
    "for i in range(len(pred)):\n",
    "    if pred[i] == y_test.values[i]:\n",
    "        if pred[i] == 'positive':\n",
    "            TP = TP + 1;\n",
    "        else:\n",
    "            TN = TN + 1;\n",
    "    elif y_test.values[i] == 'negative' and pred[i] == 'positive':\n",
    "        FP = FP + 1;\n",
    "    else:\n",
    "        FN = FN + 1;\n",
    "\n",
    "\n",
    "#TN + FP = Total Actual Negative Points\n",
    "#FN + TP = Total Actual Positive Points\n",
    "\n",
    "print(\"True Positive Rate = \", round((TP/(TP+FN))*100,2),\"%\" )\n",
    "print(\"True Negative Rate = \", round((TN/(FP+TN))*100,2),\"%\" )\n",
    "print(\"False Positive Rate = \", round((FP/(FP+TN))*100,2),\"%\" )\n",
    "print(\"False Negative Rate = \", round((FN/(TP+FN))*100,2),\"%\" )\n",
    "\n",
    "#cfs_matrix = confusion_matrix(y_test.values, pred)\n",
    "class_names = ['True', 'False']\n",
    "\n",
    "print_confusion_matrix(confusion_matrix(y_test.values, pred), class_names, figsize = (10,7), fontsize=14)\n",
    "\n"
   ]
  },
  {
   "cell_type": "markdown",
   "metadata": {},
   "source": [
    "## Result:\n",
    "Usinng TF-IDF weighted word2vec, the accuracy attained is 65.86% with k as 49 in k-NN"
   ]
  },
  {
   "cell_type": "markdown",
   "metadata": {},
   "source": [
    "## ------------------------------------------------------------------------------------------------------------------"
   ]
  },
  {
   "cell_type": "markdown",
   "metadata": {},
   "source": [
    "## Conclusion\n",
    "#### 1. From the above analysis and result, we saw that the best accuracy attained on the test data was 82.43% with K value as 49. This K value was obtained from vectors generated using TF-IDF.\n",
    "\n",
    "#### 2. For TF-IDF, the True Positive Rate obtained is 84.72% and the False Positive Rate of 19.97%. These are the best rates obtained across all the models.\n",
    "\n",
    "#### 3. There was no improvement, infact there was detoriation in the accuracy when vectors were obtained using average word2vec and tf-idf weighted word2vec. This was perhaps because our model on word2vec was not perfect. This was noted above also.\n",
    "\n",
    "<img src=\"amazonFR-KNN-report.png\">\n",
    "\n",
    "\n",
    "Point to note: We applied 10 fold cross validation on training data where the vectors were generated using Bag of words. For all other, we have used 3 fold cross validation to speed up computation. \n"
   ]
  }
 ],
 "metadata": {
  "kernelspec": {
   "display_name": "Python 3",
   "language": "python",
   "name": "python3"
  },
  "language_info": {
   "codemirror_mode": {
    "name": "ipython",
    "version": 3
   },
   "file_extension": ".py",
   "mimetype": "text/x-python",
   "name": "python",
   "nbconvert_exporter": "python",
   "pygments_lexer": "ipython3",
   "version": "3.6.5"
  }
 },
 "nbformat": 4,
 "nbformat_minor": 2
}
